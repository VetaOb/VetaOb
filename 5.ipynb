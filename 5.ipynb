{
 "cells": [
  {
   "cell_type": "markdown",
   "metadata": {},
   "source": [
    "#### RFM — это метод, используемый для анализа потребительской ценности.Он группирует клиентов на основе истории их транзакций:\n",
    "    Recency (Давность) — Как давно клиент совершил покупку?\n",
    "    Frequency (Частота) — Как часто они совершают покупки?\n",
    "    Monetary Value (Денежная ценность) — Сколько они тратят?\n",
    "    \n",
    "##### задача: Сигментировать покупателей и ответить на вопросы:\n",
    "    1)Кто наши лучшие клиенты?\n",
    "    2)Какие клиенты находятся на пороге оттока??\n",
    "    3)Кто - потерянные клиенты?\n",
    "    4)Кто - лояльные клиенты?"
   ]
  },
  {
   "cell_type": "markdown",
   "metadata": {},
   "source": [
    "**1.Выгрузим данные из csv файла и предобработаем**"
   ]
  },
  {
   "cell_type": "code",
   "execution_count": 64,
   "metadata": {},
   "outputs": [],
   "source": [
    "import pandas as pd\n",
    "import numpy as np\n",
    "import matplotlib.pyplot as plt\n",
    "import seaborn as sns\n",
    "\n",
    "import warnings\n",
    "warnings.filterwarnings('ignore')"
   ]
  },
  {
   "cell_type": "markdown",
   "metadata": {},
   "source": [
    "#### описание данных:\n",
    "   **order_date** - дата свершения заказа\n",
    "   \n",
    "   **order_id** - id заказа\n",
    "   \n",
    "   **customer** - Имя покупателя \n",
    "   \n",
    "   **grand_total** - стоимость покупки\n",
    "    "
   ]
  },
  {
   "cell_type": "code",
   "execution_count": 65,
   "metadata": {},
   "outputs": [
    {
     "data": {
      "text/html": [
       "<div>\n",
       "<style scoped>\n",
       "    .dataframe tbody tr th:only-of-type {\n",
       "        vertical-align: middle;\n",
       "    }\n",
       "\n",
       "    .dataframe tbody tr th {\n",
       "        vertical-align: top;\n",
       "    }\n",
       "\n",
       "    .dataframe thead th {\n",
       "        text-align: right;\n",
       "    }\n",
       "</style>\n",
       "<table border=\"1\" class=\"dataframe\">\n",
       "  <thead>\n",
       "    <tr style=\"text-align: right;\">\n",
       "      <th></th>\n",
       "      <th>order_date</th>\n",
       "      <th>order_id</th>\n",
       "      <th>customer</th>\n",
       "      <th>grand_total</th>\n",
       "    </tr>\n",
       "  </thead>\n",
       "  <tbody>\n",
       "    <tr>\n",
       "      <th>0</th>\n",
       "      <td>9/7/11</td>\n",
       "      <td>CA-2011-100006</td>\n",
       "      <td>Dennis Kane</td>\n",
       "      <td>378</td>\n",
       "    </tr>\n",
       "    <tr>\n",
       "      <th>1</th>\n",
       "      <td>7/8/11</td>\n",
       "      <td>CA-2011-100090</td>\n",
       "      <td>Ed Braxton</td>\n",
       "      <td>699</td>\n",
       "    </tr>\n",
       "    <tr>\n",
       "      <th>2</th>\n",
       "      <td>3/14/11</td>\n",
       "      <td>CA-2011-100293</td>\n",
       "      <td>Neil Franz�sisch</td>\n",
       "      <td>91</td>\n",
       "    </tr>\n",
       "    <tr>\n",
       "      <th>3</th>\n",
       "      <td>1/29/11</td>\n",
       "      <td>CA-2011-100328</td>\n",
       "      <td>Jasper Cacioppo</td>\n",
       "      <td>4</td>\n",
       "    </tr>\n",
       "    <tr>\n",
       "      <th>4</th>\n",
       "      <td>4/8/11</td>\n",
       "      <td>CA-2011-100363</td>\n",
       "      <td>Jim Mitchum</td>\n",
       "      <td>21</td>\n",
       "    </tr>\n",
       "  </tbody>\n",
       "</table>\n",
       "</div>"
      ],
      "text/plain": [
       "  order_date        order_id          customer  grand_total\n",
       "0     9/7/11  CA-2011-100006       Dennis Kane          378\n",
       "1     7/8/11  CA-2011-100090        Ed Braxton          699\n",
       "2    3/14/11  CA-2011-100293  Neil Franz�sisch           91\n",
       "3    1/29/11  CA-2011-100328   Jasper Cacioppo            4\n",
       "4     4/8/11  CA-2011-100363       Jim Mitchum           21"
      ]
     },
     "execution_count": 65,
     "metadata": {},
     "output_type": "execute_result"
    }
   ],
   "source": [
    "orders = pd.read_csv('/Users/v.obrosova/Documents/СТАТИСТИКА/csv/rfm_data.csv',sep=',')\n",
    "orders.head()"
   ]
  },
  {
   "cell_type": "markdown",
   "metadata": {},
   "source": [
    "**в колонке customers видно ошибки в отображении символов,в исходном документа также они присутствуют следовательно это не ошибка импорта файла в jupyter, исключим их из текста**"
   ]
  },
  {
   "cell_type": "code",
   "execution_count": 66,
   "metadata": {},
   "outputs": [
    {
     "name": "stdout",
     "output_type": "stream",
     "text": [
      "True\n"
     ]
    }
   ],
   "source": [
    "print('�' in str(list(orders['customer'])))"
   ]
  },
  {
   "cell_type": "code",
   "execution_count": 67,
   "metadata": {},
   "outputs": [],
   "source": [
    "orders['customer'] = orders.customer.str.replace('�', '')"
   ]
  },
  {
   "cell_type": "code",
   "execution_count": 68,
   "metadata": {},
   "outputs": [
    {
     "name": "stdout",
     "output_type": "stream",
     "text": [
      "False\n"
     ]
    }
   ],
   "source": [
    "print('�' in str(list(orders['customer'])))"
   ]
  },
  {
   "cell_type": "code",
   "execution_count": 69,
   "metadata": {},
   "outputs": [
    {
     "data": {
      "text/plain": [
       "(5009, 4)"
      ]
     },
     "execution_count": 69,
     "metadata": {},
     "output_type": "execute_result"
    }
   ],
   "source": [
    "orders.shape"
   ]
  },
  {
   "cell_type": "code",
   "execution_count": 70,
   "metadata": {},
   "outputs": [
    {
     "data": {
      "text/plain": [
       "(5009, 4)"
      ]
     },
     "execution_count": 70,
     "metadata": {},
     "output_type": "execute_result"
    }
   ],
   "source": [
    "orders.drop_duplicates()\n",
    "orders.shape"
   ]
  },
  {
   "cell_type": "code",
   "execution_count": 71,
   "metadata": {},
   "outputs": [
    {
     "data": {
      "text/plain": [
       "order_date     0\n",
       "order_id       0\n",
       "customer       0\n",
       "grand_total    0\n",
       "dtype: int64"
      ]
     },
     "execution_count": 71,
     "metadata": {},
     "output_type": "execute_result"
    }
   ],
   "source": [
    "orders.isna().sum()"
   ]
  },
  {
   "cell_type": "code",
   "execution_count": 72,
   "metadata": {},
   "outputs": [
    {
     "name": "stdout",
     "output_type": "stream",
     "text": [
      "<class 'pandas.core.frame.DataFrame'>\n",
      "RangeIndex: 5009 entries, 0 to 5008\n",
      "Data columns (total 4 columns):\n",
      " #   Column       Non-Null Count  Dtype \n",
      "---  ------       --------------  ----- \n",
      " 0   order_date   5009 non-null   object\n",
      " 1   order_id     5009 non-null   object\n",
      " 2   customer     5009 non-null   object\n",
      " 3   grand_total  5009 non-null   int64 \n",
      "dtypes: int64(1), object(3)\n",
      "memory usage: 156.7+ KB\n"
     ]
    }
   ],
   "source": [
    "orders.info()"
   ]
  },
  {
   "cell_type": "markdown",
   "metadata": {},
   "source": [
    "**сменим тип \"order_date\" с object на datetime**"
   ]
  },
  {
   "cell_type": "code",
   "execution_count": 73,
   "metadata": {},
   "outputs": [
    {
     "data": {
      "text/plain": [
       "order_date     datetime64[ns]\n",
       "order_id               object\n",
       "customer               object\n",
       "grand_total             int64\n",
       "dtype: object"
      ]
     },
     "execution_count": 73,
     "metadata": {},
     "output_type": "execute_result"
    }
   ],
   "source": [
    "orders['order_date'] = pd.to_datetime(orders['order_date'])\n",
    "orders.dtypes"
   ]
  },
  {
   "cell_type": "markdown",
   "metadata": {},
   "source": [
    "#### по итогам предобработки :\n",
    "    - убраны ошибки отображения данных \n",
    "    - сменили тип колонки даты\n",
    "    - дубликатов и пустых значений не обнаружено \n",
    "    в датафрейме 5009 строк и 4 колонки"
   ]
  },
  {
   "cell_type": "markdown",
   "metadata": {},
   "source": [
    "**Приступим к сегментации**\n",
    "\n",
    "**посмотрим на дату, нам нужно выбрать максимальную дату, с нее будем отсчитывать сколько времени прошло у пользователя с последней покупки**"
   ]
  },
  {
   "cell_type": "code",
   "execution_count": 74,
   "metadata": {},
   "outputs": [
    {
     "data": {
      "text/plain": [
       "count                    5009\n",
       "unique                   1238\n",
       "top       2013-09-06 00:00:00\n",
       "freq                       19\n",
       "first     2011-01-04 00:00:00\n",
       "last      2014-12-31 00:00:00\n",
       "Name: order_date, dtype: object"
      ]
     },
     "execution_count": 74,
     "metadata": {},
     "output_type": "execute_result"
    }
   ],
   "source": [
    "orders['order_date'].describe()"
   ]
  },
  {
   "cell_type": "code",
   "execution_count": 75,
   "metadata": {},
   "outputs": [
    {
     "data": {
      "text/plain": [
       "Timestamp('2014-12-31 00:00:00')"
      ]
     },
     "execution_count": 75,
     "metadata": {},
     "output_type": "execute_result"
    }
   ],
   "source": [
    "last_date = orders['order_date'].max()\n",
    "last_date"
   ]
  },
  {
   "cell_type": "markdown",
   "metadata": {},
   "source": [
    "**считаем показатели для каждого пользователя:**\n",
    "\n",
    "    - найдем количество дней которое прошло с даты последней покупки это будет recency - давность, \n",
    "    \n",
    "    - frequency-частотой покупок будет то сколько раз встечается имя каждого покупателя в дф,\n",
    "    \n",
    "    - и посчитаем обдущю сумму денег каждого покупателя это monetary_value"
   ]
  },
  {
   "cell_type": "code",
   "execution_count": 76,
   "metadata": {},
   "outputs": [],
   "source": [
    "rfmTable = orders.groupby('customer', as_index = False).agg({'order_date': lambda x: (last_date - x.max()).days,\n",
    "                                                             'order_id': lambda x: len(x),\n",
    "                                                             'grand_total': lambda x: x.sum()}) \n",
    "\n",
    "\n",
    "rfmTable['order_date'] = rfmTable['order_date'].astype(int)\n",
    "\n",
    "rfmTable.rename(columns={'order_date': 'recency', \n",
    "                         'order_id': 'frequency', \n",
    "                         'grand_total': 'monetary_value'}, inplace=True)\n"
   ]
  },
  {
   "cell_type": "code",
   "execution_count": 77,
   "metadata": {},
   "outputs": [
    {
     "data": {
      "text/html": [
       "<div>\n",
       "<style scoped>\n",
       "    .dataframe tbody tr th:only-of-type {\n",
       "        vertical-align: middle;\n",
       "    }\n",
       "\n",
       "    .dataframe tbody tr th {\n",
       "        vertical-align: top;\n",
       "    }\n",
       "\n",
       "    .dataframe thead th {\n",
       "        text-align: right;\n",
       "    }\n",
       "</style>\n",
       "<table border=\"1\" class=\"dataframe\">\n",
       "  <thead>\n",
       "    <tr style=\"text-align: right;\">\n",
       "      <th></th>\n",
       "      <th>customer</th>\n",
       "      <th>recency</th>\n",
       "      <th>frequency</th>\n",
       "      <th>monetary_value</th>\n",
       "    </tr>\n",
       "  </thead>\n",
       "  <tbody>\n",
       "    <tr>\n",
       "      <th>686</th>\n",
       "      <td>Sean Miller</td>\n",
       "      <td>79</td>\n",
       "      <td>5</td>\n",
       "      <td>25042</td>\n",
       "    </tr>\n",
       "    <tr>\n",
       "      <th>730</th>\n",
       "      <td>Tamara Chand</td>\n",
       "      <td>399</td>\n",
       "      <td>5</td>\n",
       "      <td>19052</td>\n",
       "    </tr>\n",
       "    <tr>\n",
       "      <th>622</th>\n",
       "      <td>Raymond Buch</td>\n",
       "      <td>96</td>\n",
       "      <td>6</td>\n",
       "      <td>15117</td>\n",
       "    </tr>\n",
       "    <tr>\n",
       "      <th>757</th>\n",
       "      <td>Tom Ashbrook</td>\n",
       "      <td>69</td>\n",
       "      <td>4</td>\n",
       "      <td>14595</td>\n",
       "    </tr>\n",
       "    <tr>\n",
       "      <th>6</th>\n",
       "      <td>Adrian Barton</td>\n",
       "      <td>41</td>\n",
       "      <td>10</td>\n",
       "      <td>14474</td>\n",
       "    </tr>\n",
       "  </tbody>\n",
       "</table>\n",
       "</div>"
      ],
      "text/plain": [
       "          customer  recency  frequency  monetary_value\n",
       "686    Sean Miller       79          5           25042\n",
       "730   Tamara Chand      399          5           19052\n",
       "622   Raymond Buch       96          6           15117\n",
       "757   Tom Ashbrook       69          4           14595\n",
       "6    Adrian Barton       41         10           14474"
      ]
     },
     "execution_count": 77,
     "metadata": {},
     "output_type": "execute_result"
    }
   ],
   "source": [
    "rfmTable.sort_values('monetary_value', ascending = False).head()"
   ]
  },
  {
   "cell_type": "code",
   "execution_count": 78,
   "metadata": {},
   "outputs": [
    {
     "data": {
      "text/plain": [
       "793"
      ]
     },
     "execution_count": 78,
     "metadata": {},
     "output_type": "execute_result"
    }
   ],
   "source": [
    "rfmTable.shape[0]"
   ]
  },
  {
   "cell_type": "markdown",
   "metadata": {},
   "source": [
    "**проверим совпадают ли число уникальных поьзователей с нашими расчетами**"
   ]
  },
  {
   "cell_type": "code",
   "execution_count": 79,
   "metadata": {},
   "outputs": [
    {
     "data": {
      "text/plain": [
       "793"
      ]
     },
     "execution_count": 79,
     "metadata": {},
     "output_type": "execute_result"
    }
   ],
   "source": [
    "orders['customer'].nunique()"
   ]
  },
  {
   "cell_type": "markdown",
   "metadata": {},
   "source": [
    "**поедлим данные на квантили, это покажет нам распределение количества покупателей по rfm**"
   ]
  },
  {
   "cell_type": "code",
   "execution_count": 80,
   "metadata": {},
   "outputs": [
    {
     "data": {
      "text/html": [
       "<div>\n",
       "<style scoped>\n",
       "    .dataframe tbody tr th:only-of-type {\n",
       "        vertical-align: middle;\n",
       "    }\n",
       "\n",
       "    .dataframe tbody tr th {\n",
       "        vertical-align: top;\n",
       "    }\n",
       "\n",
       "    .dataframe thead th {\n",
       "        text-align: right;\n",
       "    }\n",
       "</style>\n",
       "<table border=\"1\" class=\"dataframe\">\n",
       "  <thead>\n",
       "    <tr style=\"text-align: right;\">\n",
       "      <th></th>\n",
       "      <th>recency</th>\n",
       "      <th>frequency</th>\n",
       "      <th>monetary_value</th>\n",
       "    </tr>\n",
       "  </thead>\n",
       "  <tbody>\n",
       "    <tr>\n",
       "      <th>0.25</th>\n",
       "      <td>30.0</td>\n",
       "      <td>5.0</td>\n",
       "      <td>1145.0</td>\n",
       "    </tr>\n",
       "    <tr>\n",
       "      <th>0.50</th>\n",
       "      <td>75.0</td>\n",
       "      <td>6.0</td>\n",
       "      <td>2257.0</td>\n",
       "    </tr>\n",
       "    <tr>\n",
       "      <th>0.75</th>\n",
       "      <td>183.0</td>\n",
       "      <td>8.0</td>\n",
       "      <td>3784.0</td>\n",
       "    </tr>\n",
       "  </tbody>\n",
       "</table>\n",
       "</div>"
      ],
      "text/plain": [
       "      recency  frequency  monetary_value\n",
       "0.25     30.0        5.0          1145.0\n",
       "0.50     75.0        6.0          2257.0\n",
       "0.75    183.0        8.0          3784.0"
      ]
     },
     "execution_count": 80,
     "metadata": {},
     "output_type": "execute_result"
    }
   ],
   "source": [
    "quantiles = rfmTable.quantile(q = [0.25,0.5,0.75])\n",
    "quantiles"
   ]
  },
  {
   "cell_type": "markdown",
   "metadata": {},
   "source": [
    "если пользователь по recency находиться в первом квантиле до 0.23 то тем он лучше ведь прошло меньше \n",
    "дней с последнего визита \n",
    "\n",
    "если в frequency чем больше сумма покупок то пользователь лучше, след все обратно от recency.\n",
    "0.8 показывает что сумма покупок больше \n",
    "\n",
    "в сумме транзакции логика такая же как у frequency\n",
    "\n",
    "**Начнем сегментировать всех покупателей в зависимости его нахождения относительно квантилей**"
   ]
  },
  {
   "cell_type": "code",
   "execution_count": 81,
   "metadata": {},
   "outputs": [],
   "source": [
    "rfmSegmentation = rfmTable"
   ]
  },
  {
   "cell_type": "code",
   "execution_count": 82,
   "metadata": {},
   "outputs": [],
   "source": [
    "#функция для Р класса так как у него своя логика \n",
    "def RClass(value, parameter_name, quantiles_table):\n",
    "    if value <= quantiles_table[parameter_name][0.25]:\n",
    "        return 1\n",
    "    elif value <= quantiles_table[parameter_name][0.50]:\n",
    "        return 2\n",
    "    elif value <= quantiles_table[parameter_name][0.75]: \n",
    "        return 3\n",
    "    else:\n",
    "        return 4\n",
    "\n",
    "#функция для ФМ классов так как у них одинаковая логика \n",
    "def FMClass(value, parameter_name, quantiles_table):\n",
    "    if value <= quantiles_table[parameter_name][0.25]:\n",
    "        return 4\n",
    "    elif value <= quantiles_table[parameter_name][0.50]:\n",
    "        return 3\n",
    "    elif value <= quantiles_table[parameter_name][0.75]: \n",
    "        return 2\n",
    "    else:\n",
    "        return 1\n"
   ]
  },
  {
   "cell_type": "code",
   "execution_count": 83,
   "metadata": {},
   "outputs": [],
   "source": [
    "rfmSegmentation['R_Quartile'] = rfmSegmentation['recency'].apply(RClass, args=('recency',quantiles))\n",
    "\n",
    "rfmSegmentation['F_Quartile'] = rfmSegmentation['frequency'].apply(FMClass, args=('frequency',quantiles))\n",
    "\n",
    "rfmSegmentation['M_Quartile'] = rfmSegmentation['monetary_value'].apply(FMClass, args=('monetary_value',quantiles))\n",
    "\n",
    "rfmSegmentation['RFMClass'] = rfmSegmentation.R_Quartile.map(str)\\\n",
    "+ rfmSegmentation.F_Quartile.map(str)\\\n",
    "+ rfmSegmentation.M_Quartile.map(str)"
   ]
  },
  {
   "cell_type": "markdown",
   "metadata": {},
   "source": [
    "**Теперь по сумме сегментов пользователя мы можем понять поведение пользователя относительно RFM и ценность для нас,\n",
    "решить стоит ли работать с этим пользователем**"
   ]
  },
  {
   "cell_type": "code",
   "execution_count": 84,
   "metadata": {},
   "outputs": [
    {
     "data": {
      "text/html": [
       "<div>\n",
       "<style scoped>\n",
       "    .dataframe tbody tr th:only-of-type {\n",
       "        vertical-align: middle;\n",
       "    }\n",
       "\n",
       "    .dataframe tbody tr th {\n",
       "        vertical-align: top;\n",
       "    }\n",
       "\n",
       "    .dataframe thead th {\n",
       "        text-align: right;\n",
       "    }\n",
       "</style>\n",
       "<table border=\"1\" class=\"dataframe\">\n",
       "  <thead>\n",
       "    <tr style=\"text-align: right;\">\n",
       "      <th></th>\n",
       "      <th>customer</th>\n",
       "      <th>recency</th>\n",
       "      <th>frequency</th>\n",
       "      <th>monetary_value</th>\n",
       "      <th>R_Quartile</th>\n",
       "      <th>F_Quartile</th>\n",
       "      <th>M_Quartile</th>\n",
       "      <th>RFMClass</th>\n",
       "    </tr>\n",
       "  </thead>\n",
       "  <tbody>\n",
       "    <tr>\n",
       "      <th>0</th>\n",
       "      <td>Aaron Bergman</td>\n",
       "      <td>415</td>\n",
       "      <td>3</td>\n",
       "      <td>887</td>\n",
       "      <td>4</td>\n",
       "      <td>4</td>\n",
       "      <td>4</td>\n",
       "      <td>444</td>\n",
       "    </tr>\n",
       "    <tr>\n",
       "      <th>1</th>\n",
       "      <td>Aaron Hawkins</td>\n",
       "      <td>12</td>\n",
       "      <td>7</td>\n",
       "      <td>1744</td>\n",
       "      <td>1</td>\n",
       "      <td>2</td>\n",
       "      <td>3</td>\n",
       "      <td>123</td>\n",
       "    </tr>\n",
       "    <tr>\n",
       "      <th>2</th>\n",
       "      <td>Aaron Smayling</td>\n",
       "      <td>88</td>\n",
       "      <td>7</td>\n",
       "      <td>3050</td>\n",
       "      <td>3</td>\n",
       "      <td>2</td>\n",
       "      <td>2</td>\n",
       "      <td>322</td>\n",
       "    </tr>\n",
       "    <tr>\n",
       "      <th>3</th>\n",
       "      <td>Adam Bellavance</td>\n",
       "      <td>54</td>\n",
       "      <td>8</td>\n",
       "      <td>7756</td>\n",
       "      <td>2</td>\n",
       "      <td>2</td>\n",
       "      <td>1</td>\n",
       "      <td>221</td>\n",
       "    </tr>\n",
       "    <tr>\n",
       "      <th>4</th>\n",
       "      <td>Adam Hart</td>\n",
       "      <td>34</td>\n",
       "      <td>10</td>\n",
       "      <td>3249</td>\n",
       "      <td>2</td>\n",
       "      <td>1</td>\n",
       "      <td>2</td>\n",
       "      <td>212</td>\n",
       "    </tr>\n",
       "  </tbody>\n",
       "</table>\n",
       "</div>"
      ],
      "text/plain": [
       "          customer  recency  frequency  monetary_value  R_Quartile  \\\n",
       "0    Aaron Bergman      415          3             887           4   \n",
       "1    Aaron Hawkins       12          7            1744           1   \n",
       "2   Aaron Smayling       88          7            3050           3   \n",
       "3  Adam Bellavance       54          8            7756           2   \n",
       "4        Adam Hart       34         10            3249           2   \n",
       "\n",
       "   F_Quartile  M_Quartile RFMClass  \n",
       "0           4           4      444  \n",
       "1           2           3      123  \n",
       "2           2           2      322  \n",
       "3           2           1      221  \n",
       "4           1           2      212  "
      ]
     },
     "execution_count": 84,
     "metadata": {},
     "output_type": "execute_result"
    }
   ],
   "source": [
    "rfmTable.head()"
   ]
  },
  {
   "cell_type": "markdown",
   "metadata": {},
   "source": [
    "**На графике ниже в ячейках мы видим LTV - показывает прибыль от отношений с клиентом за весь период в зависимости от чаостоты и количества покупок клиента**\n",
    "\n",
    "**можем сделать выводы  :**\n",
    "\n",
    "     1:1 - новые клиенты принесли доход в 250624ед\n",
    "     1:4 - самые лояльные покупатели , доход 84828ед\n",
    "     4:4 - старые покупатели которые давно не делали заказ, доход за все время 232716ед\n",
    "     "
   ]
  },
  {
   "cell_type": "code",
   "execution_count": 85,
   "metadata": {},
   "outputs": [
    {
     "data": {
      "image/png": "[encoded data removed]",
      "text/plain": [
       "<Figure size 640x480 with 2 Axes>"
      ]
     },
     "metadata": {},
     "output_type": "display_data"
    }
   ],
   "source": [
    "rfm_table = rfmSegmentation.pivot_table(\n",
    "                        index='R_Quartile', \n",
    "                        columns='F_Quartile', \n",
    "                        values='monetary_value', \n",
    "                        aggfunc=np.sum).applymap(int)\n",
    "\n",
    "sns.heatmap(rfm_table, cmap=\"YlGnBu\", annot=True, fmt=\".0f\", \n",
    "            linewidths=4.15, annot_kws={\"size\": 10},yticklabels=4);"
   ]
  },
  {
   "cell_type": "markdown",
   "metadata": {},
   "source": [
    "**Кто наши лучшие клиенты?**"
   ]
  },
  {
   "cell_type": "code",
   "execution_count": 86,
   "metadata": {},
   "outputs": [
    {
     "data": {
      "text/html": [
       "<div>\n",
       "<style scoped>\n",
       "    .dataframe tbody tr th:only-of-type {\n",
       "        vertical-align: middle;\n",
       "    }\n",
       "\n",
       "    .dataframe tbody tr th {\n",
       "        vertical-align: top;\n",
       "    }\n",
       "\n",
       "    .dataframe thead th {\n",
       "        text-align: right;\n",
       "    }\n",
       "</style>\n",
       "<table border=\"1\" class=\"dataframe\">\n",
       "  <thead>\n",
       "    <tr style=\"text-align: right;\">\n",
       "      <th></th>\n",
       "      <th>customer</th>\n",
       "      <th>recency</th>\n",
       "      <th>frequency</th>\n",
       "      <th>monetary_value</th>\n",
       "      <th>R_Quartile</th>\n",
       "      <th>F_Quartile</th>\n",
       "      <th>M_Quartile</th>\n",
       "      <th>RFMClass</th>\n",
       "    </tr>\n",
       "  </thead>\n",
       "  <tbody>\n",
       "    <tr>\n",
       "      <th>368</th>\n",
       "      <td>Jesus Ocampo</td>\n",
       "      <td>215</td>\n",
       "      <td>5</td>\n",
       "      <td>1091</td>\n",
       "      <td>4</td>\n",
       "      <td>4</td>\n",
       "      <td>4</td>\n",
       "      <td>444</td>\n",
       "    </tr>\n",
       "    <tr>\n",
       "      <th>222</th>\n",
       "      <td>Dennis Bolton</td>\n",
       "      <td>264</td>\n",
       "      <td>5</td>\n",
       "      <td>1081</td>\n",
       "      <td>4</td>\n",
       "      <td>4</td>\n",
       "      <td>4</td>\n",
       "      <td>444</td>\n",
       "    </tr>\n",
       "    <tr>\n",
       "      <th>164</th>\n",
       "      <td>Cindy Schnelling</td>\n",
       "      <td>424</td>\n",
       "      <td>4</td>\n",
       "      <td>1077</td>\n",
       "      <td>4</td>\n",
       "      <td>4</td>\n",
       "      <td>4</td>\n",
       "      <td>444</td>\n",
       "    </tr>\n",
       "    <tr>\n",
       "      <th>598</th>\n",
       "      <td>Pauline Chand</td>\n",
       "      <td>882</td>\n",
       "      <td>2</td>\n",
       "      <td>1062</td>\n",
       "      <td>4</td>\n",
       "      <td>4</td>\n",
       "      <td>4</td>\n",
       "      <td>444</td>\n",
       "    </tr>\n",
       "    <tr>\n",
       "      <th>209</th>\n",
       "      <td>David Philippe</td>\n",
       "      <td>812</td>\n",
       "      <td>2</td>\n",
       "      <td>1059</td>\n",
       "      <td>4</td>\n",
       "      <td>4</td>\n",
       "      <td>4</td>\n",
       "      <td>444</td>\n",
       "    </tr>\n",
       "  </tbody>\n",
       "</table>\n",
       "</div>"
      ],
      "text/plain": [
       "             customer  recency  frequency  monetary_value  R_Quartile  \\\n",
       "368      Jesus Ocampo      215          5            1091           4   \n",
       "222     Dennis Bolton      264          5            1081           4   \n",
       "164  Cindy Schnelling      424          4            1077           4   \n",
       "598     Pauline Chand      882          2            1062           4   \n",
       "209    David Philippe      812          2            1059           4   \n",
       "\n",
       "     F_Quartile  M_Quartile RFMClass  \n",
       "368           4           4      444  \n",
       "222           4           4      444  \n",
       "164           4           4      444  \n",
       "598           4           4      444  \n",
       "209           4           4      444  "
      ]
     },
     "execution_count": 86,
     "metadata": {},
     "output_type": "execute_result"
    }
   ],
   "source": [
    "#RFMClass = 444\n",
    "good = rfmTable[rfmTable['RFMClass']=='444'].sort_values('monetary_value', ascending=False)\n",
    "good.head()"
   ]
  },
  {
   "cell_type": "markdown",
   "metadata": {},
   "source": [
    "**Какие клиенты находятся на пороге оттока??**"
   ]
  },
  {
   "cell_type": "code",
   "execution_count": 87,
   "metadata": {},
   "outputs": [
    {
     "data": {
      "text/html": [
       "<div>\n",
       "<style scoped>\n",
       "    .dataframe tbody tr th:only-of-type {\n",
       "        vertical-align: middle;\n",
       "    }\n",
       "\n",
       "    .dataframe tbody tr th {\n",
       "        vertical-align: top;\n",
       "    }\n",
       "\n",
       "    .dataframe thead th {\n",
       "        text-align: right;\n",
       "    }\n",
       "</style>\n",
       "<table border=\"1\" class=\"dataframe\">\n",
       "  <thead>\n",
       "    <tr style=\"text-align: right;\">\n",
       "      <th></th>\n",
       "      <th>customer</th>\n",
       "      <th>recency</th>\n",
       "      <th>frequency</th>\n",
       "      <th>monetary_value</th>\n",
       "      <th>R_Quartile</th>\n",
       "      <th>F_Quartile</th>\n",
       "      <th>M_Quartile</th>\n",
       "      <th>RFMClass</th>\n",
       "    </tr>\n",
       "  </thead>\n",
       "  <tbody>\n",
       "    <tr>\n",
       "      <th>757</th>\n",
       "      <td>Tom Ashbrook</td>\n",
       "      <td>69</td>\n",
       "      <td>4</td>\n",
       "      <td>14595</td>\n",
       "      <td>2</td>\n",
       "      <td>4</td>\n",
       "      <td>1</td>\n",
       "      <td>241</td>\n",
       "    </tr>\n",
       "    <tr>\n",
       "      <th>6</th>\n",
       "      <td>Adrian Barton</td>\n",
       "      <td>41</td>\n",
       "      <td>10</td>\n",
       "      <td>14474</td>\n",
       "      <td>2</td>\n",
       "      <td>1</td>\n",
       "      <td>1</td>\n",
       "      <td>211</td>\n",
       "    </tr>\n",
       "    <tr>\n",
       "      <th>441</th>\n",
       "      <td>Ken Lonsdale</td>\n",
       "      <td>47</td>\n",
       "      <td>12</td>\n",
       "      <td>14174</td>\n",
       "      <td>2</td>\n",
       "      <td>1</td>\n",
       "      <td>1</td>\n",
       "      <td>211</td>\n",
       "    </tr>\n",
       "    <tr>\n",
       "      <th>334</th>\n",
       "      <td>Hunter Lopez</td>\n",
       "      <td>43</td>\n",
       "      <td>6</td>\n",
       "      <td>12874</td>\n",
       "      <td>2</td>\n",
       "      <td>3</td>\n",
       "      <td>1</td>\n",
       "      <td>231</td>\n",
       "    </tr>\n",
       "    <tr>\n",
       "      <th>672</th>\n",
       "      <td>Sanjit Engle</td>\n",
       "      <td>9</td>\n",
       "      <td>11</td>\n",
       "      <td>12210</td>\n",
       "      <td>1</td>\n",
       "      <td>1</td>\n",
       "      <td>1</td>\n",
       "      <td>111</td>\n",
       "    </tr>\n",
       "  </tbody>\n",
       "</table>\n",
       "</div>"
      ],
      "text/plain": [
       "          customer  recency  frequency  monetary_value  R_Quartile  \\\n",
       "757   Tom Ashbrook       69          4           14595           2   \n",
       "6    Adrian Barton       41         10           14474           2   \n",
       "441   Ken Lonsdale       47         12           14174           2   \n",
       "334   Hunter Lopez       43          6           12874           2   \n",
       "672   Sanjit Engle        9         11           12210           1   \n",
       "\n",
       "     F_Quartile  M_Quartile RFMClass  \n",
       "757           4           1      241  \n",
       "6             1           1      211  \n",
       "441           1           1      211  \n",
       "334           3           1      231  \n",
       "672           1           1      111  "
      ]
     },
     "execution_count": 87,
     "metadata": {},
     "output_type": "execute_result"
    }
   ],
   "source": [
    "#покупатели с низким recency, которые давно делали покупки\n",
    "rfmTable[rfmTable['R_Quartile'] <= 2 ].sort_values('monetary_value', ascending=False).head(5)"
   ]
  },
  {
   "cell_type": "markdown",
   "metadata": {},
   "source": [
    "**Кто - потерянные клиенты?**\n"
   ]
  },
  {
   "cell_type": "code",
   "execution_count": 88,
   "metadata": {},
   "outputs": [
    {
     "data": {
      "text/html": [
       "<div>\n",
       "<style scoped>\n",
       "    .dataframe tbody tr th:only-of-type {\n",
       "        vertical-align: middle;\n",
       "    }\n",
       "\n",
       "    .dataframe tbody tr th {\n",
       "        vertical-align: top;\n",
       "    }\n",
       "\n",
       "    .dataframe thead th {\n",
       "        text-align: right;\n",
       "    }\n",
       "</style>\n",
       "<table border=\"1\" class=\"dataframe\">\n",
       "  <thead>\n",
       "    <tr style=\"text-align: right;\">\n",
       "      <th></th>\n",
       "      <th>customer</th>\n",
       "      <th>recency</th>\n",
       "      <th>frequency</th>\n",
       "      <th>monetary_value</th>\n",
       "      <th>R_Quartile</th>\n",
       "      <th>F_Quartile</th>\n",
       "      <th>M_Quartile</th>\n",
       "      <th>RFMClass</th>\n",
       "    </tr>\n",
       "  </thead>\n",
       "  <tbody>\n",
       "    <tr>\n",
       "      <th>690</th>\n",
       "      <td>Shahid Collister</td>\n",
       "      <td>30</td>\n",
       "      <td>9</td>\n",
       "      <td>5993</td>\n",
       "      <td>1</td>\n",
       "      <td>1</td>\n",
       "      <td>1</td>\n",
       "      <td>111</td>\n",
       "    </tr>\n",
       "    <tr>\n",
       "      <th>782</th>\n",
       "      <td>Victoria Wilson</td>\n",
       "      <td>28</td>\n",
       "      <td>10</td>\n",
       "      <td>6134</td>\n",
       "      <td>1</td>\n",
       "      <td>1</td>\n",
       "      <td>1</td>\n",
       "      <td>111</td>\n",
       "    </tr>\n",
       "    <tr>\n",
       "      <th>102</th>\n",
       "      <td>Brenda Bowman</td>\n",
       "      <td>28</td>\n",
       "      <td>9</td>\n",
       "      <td>6766</td>\n",
       "      <td>1</td>\n",
       "      <td>1</td>\n",
       "      <td>1</td>\n",
       "      <td>111</td>\n",
       "    </tr>\n",
       "    <tr>\n",
       "      <th>270</th>\n",
       "      <td>Erin Smith</td>\n",
       "      <td>28</td>\n",
       "      <td>9</td>\n",
       "      <td>4659</td>\n",
       "      <td>1</td>\n",
       "      <td>1</td>\n",
       "      <td>1</td>\n",
       "      <td>111</td>\n",
       "    </tr>\n",
       "    <tr>\n",
       "      <th>556</th>\n",
       "      <td>Natalie DeCherney</td>\n",
       "      <td>27</td>\n",
       "      <td>9</td>\n",
       "      <td>4326</td>\n",
       "      <td>1</td>\n",
       "      <td>1</td>\n",
       "      <td>1</td>\n",
       "      <td>111</td>\n",
       "    </tr>\n",
       "  </tbody>\n",
       "</table>\n",
       "</div>"
      ],
      "text/plain": [
       "              customer  recency  frequency  monetary_value  R_Quartile  \\\n",
       "690   Shahid Collister       30          9            5993           1   \n",
       "782    Victoria Wilson       28         10            6134           1   \n",
       "102      Brenda Bowman       28          9            6766           1   \n",
       "270         Erin Smith       28          9            4659           1   \n",
       "556  Natalie DeCherney       27          9            4326           1   \n",
       "\n",
       "     F_Quartile  M_Quartile RFMClass  \n",
       "690           1           1      111  \n",
       "782           1           1      111  \n",
       "102           1           1      111  \n",
       "270           1           1      111  \n",
       "556           1           1      111  "
      ]
     },
     "execution_count": 88,
     "metadata": {},
     "output_type": "execute_result"
    }
   ],
   "source": [
    "#Покупатели чьи показатели rfm=111 - низкие \n",
    "lost = rfmTable[rfmTable['RFMClass']=='111'].sort_values('recency',ascending=False)\n",
    "lost.head()"
   ]
  },
  {
   "cell_type": "markdown",
   "metadata": {},
   "source": [
    "**Кто - лояльные клиенты?**"
   ]
  },
  {
   "cell_type": "code",
   "execution_count": 89,
   "metadata": {},
   "outputs": [
    {
     "data": {
      "text/html": [
       "<div>\n",
       "<style scoped>\n",
       "    .dataframe tbody tr th:only-of-type {\n",
       "        vertical-align: middle;\n",
       "    }\n",
       "\n",
       "    .dataframe tbody tr th {\n",
       "        vertical-align: top;\n",
       "    }\n",
       "\n",
       "    .dataframe thead th {\n",
       "        text-align: right;\n",
       "    }\n",
       "</style>\n",
       "<table border=\"1\" class=\"dataframe\">\n",
       "  <thead>\n",
       "    <tr style=\"text-align: right;\">\n",
       "      <th></th>\n",
       "      <th>customer</th>\n",
       "      <th>recency</th>\n",
       "      <th>frequency</th>\n",
       "      <th>monetary_value</th>\n",
       "      <th>R_Quartile</th>\n",
       "      <th>F_Quartile</th>\n",
       "      <th>M_Quartile</th>\n",
       "      <th>RFMClass</th>\n",
       "    </tr>\n",
       "  </thead>\n",
       "  <tbody>\n",
       "    <tr>\n",
       "      <th>686</th>\n",
       "      <td>Sean Miller</td>\n",
       "      <td>79</td>\n",
       "      <td>5</td>\n",
       "      <td>25042</td>\n",
       "      <td>3</td>\n",
       "      <td>4</td>\n",
       "      <td>1</td>\n",
       "      <td>341</td>\n",
       "    </tr>\n",
       "    <tr>\n",
       "      <th>730</th>\n",
       "      <td>Tamara Chand</td>\n",
       "      <td>399</td>\n",
       "      <td>5</td>\n",
       "      <td>19052</td>\n",
       "      <td>4</td>\n",
       "      <td>4</td>\n",
       "      <td>1</td>\n",
       "      <td>441</td>\n",
       "    </tr>\n",
       "    <tr>\n",
       "      <th>622</th>\n",
       "      <td>Raymond Buch</td>\n",
       "      <td>96</td>\n",
       "      <td>6</td>\n",
       "      <td>15117</td>\n",
       "      <td>3</td>\n",
       "      <td>3</td>\n",
       "      <td>1</td>\n",
       "      <td>331</td>\n",
       "    </tr>\n",
       "    <tr>\n",
       "      <th>757</th>\n",
       "      <td>Tom Ashbrook</td>\n",
       "      <td>69</td>\n",
       "      <td>4</td>\n",
       "      <td>14595</td>\n",
       "      <td>2</td>\n",
       "      <td>4</td>\n",
       "      <td>1</td>\n",
       "      <td>241</td>\n",
       "    </tr>\n",
       "    <tr>\n",
       "      <th>334</th>\n",
       "      <td>Hunter Lopez</td>\n",
       "      <td>43</td>\n",
       "      <td>6</td>\n",
       "      <td>12874</td>\n",
       "      <td>2</td>\n",
       "      <td>3</td>\n",
       "      <td>1</td>\n",
       "      <td>231</td>\n",
       "    </tr>\n",
       "  </tbody>\n",
       "</table>\n",
       "</div>"
      ],
      "text/plain": [
       "         customer  recency  frequency  monetary_value  R_Quartile  F_Quartile  \\\n",
       "686   Sean Miller       79          5           25042           3           4   \n",
       "730  Tamara Chand      399          5           19052           4           4   \n",
       "622  Raymond Buch       96          6           15117           3           3   \n",
       "757  Tom Ashbrook       69          4           14595           2           4   \n",
       "334  Hunter Lopez       43          6           12874           2           3   \n",
       "\n",
       "     M_Quartile RFMClass  \n",
       "686           1      341  \n",
       "730           1      441  \n",
       "622           1      331  \n",
       "757           1      241  \n",
       "334           1      231  "
      ]
     },
     "execution_count": 89,
     "metadata": {},
     "output_type": "execute_result"
    }
   ],
   "source": [
    "#покупатели с высоким frequency, часто покупающие\n",
    "loyal = rfmTable[rfmTable['F_Quartile'] >= 3 ].sort_values('monetary_value', ascending=False)\n",
    "loyal.head()"
   ]
  },
  {
   "cell_type": "markdown",
   "metadata": {},
   "source": [
    "**Также можем оценить количество покупателей в каждом rf сегменте**\n",
    "\n",
    "    например, у нас есть 134 клиента которые находяться в зоне 4:4 , мы можем их потерять\n",
    "        и 17 лояльных клиентов, а также видим 58 новых "
   ]
  },
  {
   "cell_type": "code",
   "execution_count": 90,
   "metadata": {},
   "outputs": [
    {
     "data": {
      "image/png": "[encoded data removed]",
      "text/plain": [
       "<Figure size 640x480 with 2 Axes>"
      ]
     },
     "metadata": {},
     "output_type": "display_data"
    }
   ],
   "source": [
    "rfm_table = rfmSegmentation.pivot_table(\n",
    "                        index='R_Quartile', \n",
    "                        columns='F_Quartile', \n",
    "                        values='customer', \n",
    "                        aggfunc='count').applymap(int)\n",
    "\n",
    "sns.heatmap(rfm_table, cmap=\"YlGnBu\", annot=True, fmt=\".0f\", \n",
    "            linewidths=4.15, annot_kws={\"size\": 10})\n",
    "sns.despine()"
   ]
  },
  {
   "cell_type": "markdown",
   "metadata": {},
   "source": [
    "### По итогам RFM анализа можем сделать выводы: \n",
    "      \n",
    "      Новые клиенты принесли доход в 250624ед\n",
    "      Самые лояльные покупатели , доход 84828ед\n",
    "      Старые покупатели которые давно не делали заказ, принесли доход за все время 232716ед\n",
    "на основе этих показателей мы можем расчитать оправданы ли были расходы на привлечение \n",
    "\n",
    "      Получен список из :\n",
    "      - 436 лояльных покупателей, показатель лояльности 0.8 - хороший\n",
    "      - 67 покупателей делают заказ часто, много и объемно по сумме \n",
    "      - 397 покупателей достаточно давно делали заказ, возможно стоит напомнить о себе\n",
    "      - отток покупателей = 30 , не находиться в критичной зоне \n",
    "      \n",
    "      \n"
   ]
  }
 ],
 "metadata": {
  "kernelspec": {
   "display_name": "Python 3 (ipykernel)",
   "language": "python",
   "name": "python3"
  },
  "language_info": {
   "codemirror_mode": {
    "name": "ipython",
    "version": 3
   },
   "file_extension": ".py",
   "mimetype": "text/x-python",
   "name": "python",
   "nbconvert_exporter": "python",
   "pygments_lexer": "ipython3",
   "version": "3.10.5"
  }
 },
 "nbformat": 4,
 "nbformat_minor": 4
}
