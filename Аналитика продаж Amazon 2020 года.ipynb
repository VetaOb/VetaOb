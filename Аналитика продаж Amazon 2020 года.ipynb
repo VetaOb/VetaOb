{
 "cells": [
  {
   "cell_type": "markdown",
   "id": "9421eb1b",
   "metadata": {},
   "source": [
    "## Аналитика продаж\n",
    "Это данные о продажах Amazon c сайта Kaggle.Необходимо предобработать данные и найти ответы на вопросы :\n",
    "\n",
    "### Ответить на вопросы : \n",
    "\n",
    "    1.Какой год был лучшим для продаж? Сколько было заработано в этом году?\n",
    "\n",
    "    2.Какой месяц был лучшим для продаж? Сколько было заработано в этом месяце?\n",
    "\n",
    "    3.В каком городе было наибольшее количество продаж?\n",
    "\n",
    "    4.В какое время мы должны показывать рекламу, чтобы максимизировать вероятность того, что клиент купит продукт?\n",
    "\n",
    "    5.Какие продукты чаще всего продаются вместе?\n",
    "\n",
    "    6.Какой товар продается больше всего? Как вы думаете, почему он продается больше всего?"
   ]
  },
  {
   "cell_type": "markdown",
   "id": "259ed09a",
   "metadata": {},
   "source": [
    "#### Описание данных:\n",
    "   **Order ID** - идентификатор заказа — Этот номер может быть полезен продавцу, когда он пытается узнать определенные детали заказа, такие как дата отправки или статус.\n",
    "    \n",
    "   **Product** - Товар, который был продан.\n",
    "   \n",
    "   **Quantity Ordered** — Заказанное количество — это общее количество товара, заказанного в первоначальном заказе \n",
    "   \n",
    "   **Price Each**\t - Цена каждого товара.\n",
    "   \n",
    "   **Order Date** — это дата, когда клиент запрашивает отправку заказа.\n",
    "   \n",
    "   **Purchase Address** -  Адрес доставки"
   ]
  },
  {
   "cell_type": "markdown",
   "id": "e56b3ee7",
   "metadata": {},
   "source": [
    "#### Откроем файл и предобработаем данные "
   ]
  },
  {
   "cell_type": "code",
   "execution_count": 261,
   "id": "bc53a910",
   "metadata": {},
   "outputs": [],
   "source": [
    "import pandas as pd\n",
    "import os\n",
    "import numpy as np\n",
    "\n",
    "import matplotlib.pyplot as plt\n",
    "import seaborn as sns\n",
    "import warnings\n",
    "from itertools import combinations\n",
    "from collections import Counter\n",
    "\n",
    "warnings.filterwarnings('ignore')"
   ]
  },
  {
   "cell_type": "markdown",
   "id": "35651a91",
   "metadata": {},
   "source": [
    "есть 12 файлов записанных за год, каждый соответствует месяцу года.\n",
    "\n",
    "прочитаем все данные из папки и запишем их в общий csv файл"
   ]
  },
  {
   "cell_type": "code",
   "execution_count": 136,
   "id": "b0000b80",
   "metadata": {},
   "outputs": [],
   "source": [
    "file = [file for file in os.listdir('/Users/v.obrosova/Documents/csv датасеты/archive')]\n",
    "\n",
    "all_months = pd.DataFrame()\n",
    "\n",
    "for file in file:\n",
    "    df = pd.read_csv(\"/Users/v.obrosova/Documents/csv датасеты/archive/\" + file)\n",
    "    all_months = pd.concat([all_months, df])\n",
    "    \n",
    "all_months.head()\n",
    "\n",
    "all_months.to_csv('all_months.csv' ,index = False)"
   ]
  },
  {
   "cell_type": "markdown",
   "id": "24362bb4",
   "metadata": {},
   "source": [
    "читаем заново из обьединенного файла"
   ]
  },
  {
   "cell_type": "code",
   "execution_count": 4,
   "id": "eb1ac782",
   "metadata": {},
   "outputs": [
    {
     "data": {
      "text/html": [
       "<div>\n",
       "<style scoped>\n",
       "    .dataframe tbody tr th:only-of-type {\n",
       "        vertical-align: middle;\n",
       "    }\n",
       "\n",
       "    .dataframe tbody tr th {\n",
       "        vertical-align: top;\n",
       "    }\n",
       "\n",
       "    .dataframe thead th {\n",
       "        text-align: right;\n",
       "    }\n",
       "</style>\n",
       "<table border=\"1\" class=\"dataframe\">\n",
       "  <thead>\n",
       "    <tr style=\"text-align: right;\">\n",
       "      <th></th>\n",
       "      <th>Order ID</th>\n",
       "      <th>Product</th>\n",
       "      <th>Quantity Ordered</th>\n",
       "      <th>Price Each</th>\n",
       "      <th>Order Date</th>\n",
       "      <th>Purchase Address</th>\n",
       "    </tr>\n",
       "  </thead>\n",
       "  <tbody>\n",
       "    <tr>\n",
       "      <th>0</th>\n",
       "      <td>295665</td>\n",
       "      <td>Macbook Pro Laptop</td>\n",
       "      <td>1</td>\n",
       "      <td>1700</td>\n",
       "      <td>12/30/19 00:01</td>\n",
       "      <td>136 Church St, New York City, NY 10001</td>\n",
       "    </tr>\n",
       "    <tr>\n",
       "      <th>1</th>\n",
       "      <td>295666</td>\n",
       "      <td>LG Washing Machine</td>\n",
       "      <td>1</td>\n",
       "      <td>600.0</td>\n",
       "      <td>12/29/19 07:03</td>\n",
       "      <td>562 2nd St, New York City, NY 10001</td>\n",
       "    </tr>\n",
       "    <tr>\n",
       "      <th>2</th>\n",
       "      <td>295667</td>\n",
       "      <td>USB-C Charging Cable</td>\n",
       "      <td>1</td>\n",
       "      <td>11.95</td>\n",
       "      <td>12/12/19 18:21</td>\n",
       "      <td>277 Main St, New York City, NY 10001</td>\n",
       "    </tr>\n",
       "    <tr>\n",
       "      <th>3</th>\n",
       "      <td>295668</td>\n",
       "      <td>27in FHD Monitor</td>\n",
       "      <td>1</td>\n",
       "      <td>149.99</td>\n",
       "      <td>12/22/19 15:13</td>\n",
       "      <td>410 6th St, San Francisco, CA 94016</td>\n",
       "    </tr>\n",
       "    <tr>\n",
       "      <th>4</th>\n",
       "      <td>295669</td>\n",
       "      <td>USB-C Charging Cable</td>\n",
       "      <td>1</td>\n",
       "      <td>11.95</td>\n",
       "      <td>12/18/19 12:38</td>\n",
       "      <td>43 Hill St, Atlanta, GA 30301</td>\n",
       "    </tr>\n",
       "  </tbody>\n",
       "</table>\n",
       "</div>"
      ],
      "text/plain": [
       "  Order ID               Product Quantity Ordered Price Each      Order Date  \\\n",
       "0   295665    Macbook Pro Laptop                1       1700  12/30/19 00:01   \n",
       "1   295666    LG Washing Machine                1      600.0  12/29/19 07:03   \n",
       "2   295667  USB-C Charging Cable                1      11.95  12/12/19 18:21   \n",
       "3   295668      27in FHD Monitor                1     149.99  12/22/19 15:13   \n",
       "4   295669  USB-C Charging Cable                1      11.95  12/18/19 12:38   \n",
       "\n",
       "                         Purchase Address  \n",
       "0  136 Church St, New York City, NY 10001  \n",
       "1     562 2nd St, New York City, NY 10001  \n",
       "2    277 Main St, New York City, NY 10001  \n",
       "3     410 6th St, San Francisco, CA 94016  \n",
       "4           43 Hill St, Atlanta, GA 30301  "
      ]
     },
     "execution_count": 4,
     "metadata": {},
     "output_type": "execute_result"
    }
   ],
   "source": [
    "all_data = pd.read_csv('/Users/v.obrosova/Documents/Kaggle/all_months.csv')\n",
    "all_data.head()"
   ]
  },
  {
   "cell_type": "code",
   "execution_count": 5,
   "id": "b282728d",
   "metadata": {},
   "outputs": [
    {
     "data": {
      "text/plain": [
       "(186850, 6)"
      ]
     },
     "execution_count": 5,
     "metadata": {},
     "output_type": "execute_result"
    }
   ],
   "source": [
    "all_data.shape"
   ]
  },
  {
   "cell_type": "code",
   "execution_count": 6,
   "id": "04ee91ad",
   "metadata": {},
   "outputs": [
    {
     "data": {
      "text/plain": [
       "Order ID            545\n",
       "Product             545\n",
       "Quantity Ordered    545\n",
       "Price Each          545\n",
       "Order Date          545\n",
       "Purchase Address    545\n",
       "dtype: int64"
      ]
     },
     "execution_count": 6,
     "metadata": {},
     "output_type": "execute_result"
    }
   ],
   "source": [
    "all_data.isna().sum()"
   ]
  },
  {
   "cell_type": "code",
   "execution_count": 7,
   "id": "ef74ef76",
   "metadata": {},
   "outputs": [
    {
     "data": {
      "text/plain": [
       "(186305, 6)"
      ]
     },
     "execution_count": 7,
     "metadata": {},
     "output_type": "execute_result"
    }
   ],
   "source": [
    "all_data.dropna(inplace=True)\n",
    "all_data.shape"
   ]
  },
  {
   "cell_type": "code",
   "execution_count": 8,
   "id": "5bf8cb44",
   "metadata": {},
   "outputs": [
    {
     "data": {
      "text/html": [
       "<div>\n",
       "<style scoped>\n",
       "    .dataframe tbody tr th:only-of-type {\n",
       "        vertical-align: middle;\n",
       "    }\n",
       "\n",
       "    .dataframe tbody tr th {\n",
       "        vertical-align: top;\n",
       "    }\n",
       "\n",
       "    .dataframe thead th {\n",
       "        text-align: right;\n",
       "    }\n",
       "</style>\n",
       "<table border=\"1\" class=\"dataframe\">\n",
       "  <thead>\n",
       "    <tr style=\"text-align: right;\">\n",
       "      <th></th>\n",
       "      <th>Order_ID</th>\n",
       "      <th>Product</th>\n",
       "      <th>Quantity_Ordered</th>\n",
       "      <th>Price_Each</th>\n",
       "      <th>Order_Date</th>\n",
       "      <th>Purchase_Address</th>\n",
       "    </tr>\n",
       "  </thead>\n",
       "  <tbody>\n",
       "    <tr>\n",
       "      <th>0</th>\n",
       "      <td>295665</td>\n",
       "      <td>Macbook Pro Laptop</td>\n",
       "      <td>1</td>\n",
       "      <td>1700</td>\n",
       "      <td>12/30/19 00:01</td>\n",
       "      <td>136 Church St, New York City, NY 10001</td>\n",
       "    </tr>\n",
       "    <tr>\n",
       "      <th>1</th>\n",
       "      <td>295666</td>\n",
       "      <td>LG Washing Machine</td>\n",
       "      <td>1</td>\n",
       "      <td>600.0</td>\n",
       "      <td>12/29/19 07:03</td>\n",
       "      <td>562 2nd St, New York City, NY 10001</td>\n",
       "    </tr>\n",
       "    <tr>\n",
       "      <th>2</th>\n",
       "      <td>295667</td>\n",
       "      <td>USB-C Charging Cable</td>\n",
       "      <td>1</td>\n",
       "      <td>11.95</td>\n",
       "      <td>12/12/19 18:21</td>\n",
       "      <td>277 Main St, New York City, NY 10001</td>\n",
       "    </tr>\n",
       "    <tr>\n",
       "      <th>3</th>\n",
       "      <td>295668</td>\n",
       "      <td>27in FHD Monitor</td>\n",
       "      <td>1</td>\n",
       "      <td>149.99</td>\n",
       "      <td>12/22/19 15:13</td>\n",
       "      <td>410 6th St, San Francisco, CA 94016</td>\n",
       "    </tr>\n",
       "    <tr>\n",
       "      <th>4</th>\n",
       "      <td>295669</td>\n",
       "      <td>USB-C Charging Cable</td>\n",
       "      <td>1</td>\n",
       "      <td>11.95</td>\n",
       "      <td>12/18/19 12:38</td>\n",
       "      <td>43 Hill St, Atlanta, GA 30301</td>\n",
       "    </tr>\n",
       "  </tbody>\n",
       "</table>\n",
       "</div>"
      ],
      "text/plain": [
       "  Order_ID               Product Quantity_Ordered Price_Each      Order_Date  \\\n",
       "0   295665    Macbook Pro Laptop                1       1700  12/30/19 00:01   \n",
       "1   295666    LG Washing Machine                1      600.0  12/29/19 07:03   \n",
       "2   295667  USB-C Charging Cable                1      11.95  12/12/19 18:21   \n",
       "3   295668      27in FHD Monitor                1     149.99  12/22/19 15:13   \n",
       "4   295669  USB-C Charging Cable                1      11.95  12/18/19 12:38   \n",
       "\n",
       "                         Purchase_Address  \n",
       "0  136 Church St, New York City, NY 10001  \n",
       "1     562 2nd St, New York City, NY 10001  \n",
       "2    277 Main St, New York City, NY 10001  \n",
       "3     410 6th St, San Francisco, CA 94016  \n",
       "4           43 Hill St, Atlanta, GA 30301  "
      ]
     },
     "execution_count": 8,
     "metadata": {},
     "output_type": "execute_result"
    }
   ],
   "source": [
    "all_data = all_data.rename(columns = (lambda x: x.replace(' ','_')))\n",
    "all_data.head()"
   ]
  },
  {
   "cell_type": "markdown",
   "id": "787d07c6",
   "metadata": {},
   "source": [
    "Добавим колонку с датой для удобства дальнейшей работы"
   ]
  },
  {
   "cell_type": "markdown",
   "id": "6a3e86ef",
   "metadata": {},
   "source": [
    "при смене типа колонки 'Order_Date' получили ошибку что на позиции 254 есть значение не соответствующее параметрам даты. Найдем и исключим ошибку\n"
   ]
  },
  {
   "cell_type": "code",
   "execution_count": 9,
   "id": "5a7a4ce5",
   "metadata": {},
   "outputs": [
    {
     "data": {
      "text/plain": [
       "'Order Date'"
      ]
     },
     "execution_count": 9,
     "metadata": {},
     "output_type": "execute_result"
    }
   ],
   "source": [
    "np.array(all_data.Order_Date)[254]"
   ]
  },
  {
   "cell_type": "code",
   "execution_count": 10,
   "id": "7793cd97",
   "metadata": {},
   "outputs": [],
   "source": [
    "all_data = all_data[all_data['Order_Date'].str[0:2]!= 'Or']"
   ]
  },
  {
   "cell_type": "markdown",
   "id": "431300f1",
   "metadata": {},
   "source": [
    "Конвертируем остальные колонки "
   ]
  },
  {
   "cell_type": "code",
   "execution_count": 11,
   "id": "f062e8af",
   "metadata": {},
   "outputs": [
    {
     "data": {
      "text/plain": [
       "Order_ID                    object\n",
       "Product                     object\n",
       "Quantity_Ordered             int64\n",
       "Price_Each                 float64\n",
       "Order_Date          datetime64[ns]\n",
       "Purchase_Address            object\n",
       "dtype: object"
      ]
     },
     "execution_count": 11,
     "metadata": {},
     "output_type": "execute_result"
    }
   ],
   "source": [
    "all_data['Order_Date'] = pd.to_datetime(all_data['Order_Date'])\n",
    "all_data['Quantity_Ordered'] = all_data['Quantity_Ordered'].astype(int)\n",
    "all_data['Price_Each'] = all_data['Price_Each'].astype(float)\n",
    "\n",
    "all_data.dtypes"
   ]
  },
  {
   "cell_type": "markdown",
   "id": "34083e15",
   "metadata": {},
   "source": [
    "по итогу предобработки сделано:\n",
    "\n",
    "    -обьединение разных csv файлов в 1 датасет\n",
    "    -удалено 545 пустях значений, число строк после удаления 185950, 8 колонок\n",
    "    -найдена ошибка в данных которая мешала конвертировать столбец в нужный тип данных,исключили ее из данных\n",
    "    -изменен тип данных для других необходимых колонок\n",
    "\n"
   ]
  },
  {
   "cell_type": "markdown",
   "id": "f6811ea4",
   "metadata": {},
   "source": [
    "###  1.Какой год был лучшим для продаж? Сколько было заработано в этом году?"
   ]
  },
  {
   "cell_type": "markdown",
   "id": "9e1fc222",
   "metadata": {},
   "source": [
    "Добавим колонку продаж(sales ), года(year) и месяца (month) для каждого заказа для удобства работы далее"
   ]
  },
  {
   "cell_type": "code",
   "execution_count": 12,
   "id": "07ef593c",
   "metadata": {},
   "outputs": [
    {
     "data": {
      "text/html": [
       "<div>\n",
       "<style scoped>\n",
       "    .dataframe tbody tr th:only-of-type {\n",
       "        vertical-align: middle;\n",
       "    }\n",
       "\n",
       "    .dataframe tbody tr th {\n",
       "        vertical-align: top;\n",
       "    }\n",
       "\n",
       "    .dataframe thead th {\n",
       "        text-align: right;\n",
       "    }\n",
       "</style>\n",
       "<table border=\"1\" class=\"dataframe\">\n",
       "  <thead>\n",
       "    <tr style=\"text-align: right;\">\n",
       "      <th></th>\n",
       "      <th>Order_ID</th>\n",
       "      <th>Product</th>\n",
       "      <th>Quantity_Ordered</th>\n",
       "      <th>Price_Each</th>\n",
       "      <th>Order_Date</th>\n",
       "      <th>Purchase_Address</th>\n",
       "      <th>Sales</th>\n",
       "      <th>Month</th>\n",
       "      <th>Year</th>\n",
       "    </tr>\n",
       "  </thead>\n",
       "  <tbody>\n",
       "    <tr>\n",
       "      <th>0</th>\n",
       "      <td>295665</td>\n",
       "      <td>Macbook Pro Laptop</td>\n",
       "      <td>1</td>\n",
       "      <td>1700.00</td>\n",
       "      <td>2019-12-30 00:01:00</td>\n",
       "      <td>136 Church St, New York City, NY 10001</td>\n",
       "      <td>1700.00</td>\n",
       "      <td>12</td>\n",
       "      <td>2019</td>\n",
       "    </tr>\n",
       "    <tr>\n",
       "      <th>1</th>\n",
       "      <td>295666</td>\n",
       "      <td>LG Washing Machine</td>\n",
       "      <td>1</td>\n",
       "      <td>600.00</td>\n",
       "      <td>2019-12-29 07:03:00</td>\n",
       "      <td>562 2nd St, New York City, NY 10001</td>\n",
       "      <td>600.00</td>\n",
       "      <td>12</td>\n",
       "      <td>2019</td>\n",
       "    </tr>\n",
       "    <tr>\n",
       "      <th>2</th>\n",
       "      <td>295667</td>\n",
       "      <td>USB-C Charging Cable</td>\n",
       "      <td>1</td>\n",
       "      <td>11.95</td>\n",
       "      <td>2019-12-12 18:21:00</td>\n",
       "      <td>277 Main St, New York City, NY 10001</td>\n",
       "      <td>11.95</td>\n",
       "      <td>12</td>\n",
       "      <td>2019</td>\n",
       "    </tr>\n",
       "    <tr>\n",
       "      <th>3</th>\n",
       "      <td>295668</td>\n",
       "      <td>27in FHD Monitor</td>\n",
       "      <td>1</td>\n",
       "      <td>149.99</td>\n",
       "      <td>2019-12-22 15:13:00</td>\n",
       "      <td>410 6th St, San Francisco, CA 94016</td>\n",
       "      <td>149.99</td>\n",
       "      <td>12</td>\n",
       "      <td>2019</td>\n",
       "    </tr>\n",
       "    <tr>\n",
       "      <th>4</th>\n",
       "      <td>295669</td>\n",
       "      <td>USB-C Charging Cable</td>\n",
       "      <td>1</td>\n",
       "      <td>11.95</td>\n",
       "      <td>2019-12-18 12:38:00</td>\n",
       "      <td>43 Hill St, Atlanta, GA 30301</td>\n",
       "      <td>11.95</td>\n",
       "      <td>12</td>\n",
       "      <td>2019</td>\n",
       "    </tr>\n",
       "  </tbody>\n",
       "</table>\n",
       "</div>"
      ],
      "text/plain": [
       "  Order_ID               Product  Quantity_Ordered  Price_Each  \\\n",
       "0   295665    Macbook Pro Laptop                 1     1700.00   \n",
       "1   295666    LG Washing Machine                 1      600.00   \n",
       "2   295667  USB-C Charging Cable                 1       11.95   \n",
       "3   295668      27in FHD Monitor                 1      149.99   \n",
       "4   295669  USB-C Charging Cable                 1       11.95   \n",
       "\n",
       "           Order_Date                        Purchase_Address    Sales  Month  \\\n",
       "0 2019-12-30 00:01:00  136 Church St, New York City, NY 10001  1700.00     12   \n",
       "1 2019-12-29 07:03:00     562 2nd St, New York City, NY 10001   600.00     12   \n",
       "2 2019-12-12 18:21:00    277 Main St, New York City, NY 10001    11.95     12   \n",
       "3 2019-12-22 15:13:00     410 6th St, San Francisco, CA 94016   149.99     12   \n",
       "4 2019-12-18 12:38:00           43 Hill St, Atlanta, GA 30301    11.95     12   \n",
       "\n",
       "   Year  \n",
       "0  2019  \n",
       "1  2019  \n",
       "2  2019  \n",
       "3  2019  \n",
       "4  2019  "
      ]
     },
     "execution_count": 12,
     "metadata": {},
     "output_type": "execute_result"
    }
   ],
   "source": [
    "all_data['Sales'] = all_data['Quantity_Ordered'] * all_data['Price_Each']\n",
    "all_data['Month'] = all_data['Order_Date'].dt.month\n",
    "all_data['Year'] = all_data['Order_Date'].dt.year\n",
    "all_data.head()"
   ]
  },
  {
   "cell_type": "code",
   "execution_count": 49,
   "id": "4f757760",
   "metadata": {},
   "outputs": [
    {
     "data": {
      "text/html": [
       "<div>\n",
       "<style scoped>\n",
       "    .dataframe tbody tr th:only-of-type {\n",
       "        vertical-align: middle;\n",
       "    }\n",
       "\n",
       "    .dataframe tbody tr th {\n",
       "        vertical-align: top;\n",
       "    }\n",
       "\n",
       "    .dataframe thead th {\n",
       "        text-align: right;\n",
       "    }\n",
       "</style>\n",
       "<table border=\"1\" class=\"dataframe\">\n",
       "  <thead>\n",
       "    <tr style=\"text-align: right;\">\n",
       "      <th></th>\n",
       "      <th>Quantity_Ordered</th>\n",
       "      <th>Price_Each</th>\n",
       "      <th>Sales</th>\n",
       "      <th>Month</th>\n",
       "    </tr>\n",
       "    <tr>\n",
       "      <th>Year</th>\n",
       "      <th></th>\n",
       "      <th></th>\n",
       "      <th></th>\n",
       "      <th></th>\n",
       "    </tr>\n",
       "  </thead>\n",
       "  <tbody>\n",
       "    <tr>\n",
       "      <th>2019</th>\n",
       "      <td>209038</td>\n",
       "      <td>34280627</td>\n",
       "      <td>34483365</td>\n",
       "      <td>1312613</td>\n",
       "    </tr>\n",
       "    <tr>\n",
       "      <th>2020</th>\n",
       "      <td>41</td>\n",
       "      <td>8503</td>\n",
       "      <td>8670</td>\n",
       "      <td>34</td>\n",
       "    </tr>\n",
       "  </tbody>\n",
       "</table>\n",
       "</div>"
      ],
      "text/plain": [
       "      Quantity_Ordered  Price_Each     Sales    Month\n",
       "Year                                                 \n",
       "2019            209038    34280627  34483365  1312613\n",
       "2020                41        8503      8670       34"
      ]
     },
     "execution_count": 49,
     "metadata": {},
     "output_type": "execute_result"
    }
   ],
   "source": [
    "Years_sales = all_data.groupby('Year')\\\n",
    "                      .sum()\\\n",
    "                      .astype(int)\n",
    "Years_sales"
   ]
  },
  {
   "cell_type": "code",
   "execution_count": 43,
   "id": "b2cf6d83",
   "metadata": {},
   "outputs": [
    {
     "data": {
      "text/plain": [
       "Year  Month\n",
       "2019  12       24984\n",
       "      10       20282\n",
       "      4        18279\n",
       "      11       17573\n",
       "      5        16566\n",
       "      3        15153\n",
       "      7        14293\n",
       "      6        13554\n",
       "      2        11975\n",
       "      8        11961\n",
       "      9        11621\n",
       "      1         9675\n",
       "2020  1           34\n",
       "dtype: int64"
      ]
     },
     "execution_count": 43,
     "metadata": {},
     "output_type": "execute_result"
    }
   ],
   "source": [
    "all_data[['Year','Month']].value_counts()"
   ]
  },
  {
   "cell_type": "markdown",
   "id": "994931e6",
   "metadata": {},
   "source": [
    "по сумме продаж больша сумма в 2019г потому что большая часть всех данных в документе записана именно в этот год, на 2020 приходиться лишь 34 значения, следовательно мы не можем полноценно оценить разницу продаж этих лет"
   ]
  },
  {
   "cell_type": "code",
   "execution_count": 47,
   "id": "a4d5f13c",
   "metadata": {},
   "outputs": [
    {
     "data": {
      "text/plain": [
       "34289130"
      ]
     },
     "execution_count": 47,
     "metadata": {},
     "output_type": "execute_result"
    }
   ],
   "source": [
    "all_money = all_data.Price_Each.sum().astype(int)\n",
    "all_money"
   ]
  },
  {
   "cell_type": "code",
   "execution_count": 46,
   "id": "4f19bf7f",
   "metadata": {},
   "outputs": [
    {
     "data": {
      "text/html": [
       "<div>\n",
       "<style scoped>\n",
       "    .dataframe tbody tr th:only-of-type {\n",
       "        vertical-align: middle;\n",
       "    }\n",
       "\n",
       "    .dataframe tbody tr th {\n",
       "        vertical-align: top;\n",
       "    }\n",
       "\n",
       "    .dataframe thead th {\n",
       "        text-align: right;\n",
       "    }\n",
       "</style>\n",
       "<table border=\"1\" class=\"dataframe\">\n",
       "  <thead>\n",
       "    <tr style=\"text-align: right;\">\n",
       "      <th></th>\n",
       "      <th>Quantity_Ordered</th>\n",
       "      <th>Price_Each</th>\n",
       "      <th>Sales</th>\n",
       "      <th>Month</th>\n",
       "      <th>share_of_sales</th>\n",
       "    </tr>\n",
       "    <tr>\n",
       "      <th>Year</th>\n",
       "      <th></th>\n",
       "      <th></th>\n",
       "      <th></th>\n",
       "      <th></th>\n",
       "      <th></th>\n",
       "    </tr>\n",
       "  </thead>\n",
       "  <tbody>\n",
       "    <tr>\n",
       "      <th>2019</th>\n",
       "      <td>209038</td>\n",
       "      <td>34280627</td>\n",
       "      <td>34483365</td>\n",
       "      <td>1312613</td>\n",
       "      <td>99.98</td>\n",
       "    </tr>\n",
       "    <tr>\n",
       "      <th>2020</th>\n",
       "      <td>41</td>\n",
       "      <td>8503</td>\n",
       "      <td>8670</td>\n",
       "      <td>34</td>\n",
       "      <td>0.02</td>\n",
       "    </tr>\n",
       "  </tbody>\n",
       "</table>\n",
       "</div>"
      ],
      "text/plain": [
       "      Quantity_Ordered  Price_Each     Sales    Month  share_of_sales\n",
       "Year                                                                 \n",
       "2019            209038    34280627  34483365  1312613           99.98\n",
       "2020                41        8503      8670       34            0.02"
      ]
     },
     "execution_count": 46,
     "metadata": {},
     "output_type": "execute_result"
    }
   ],
   "source": [
    "Years_sales['share_of_sales'] = round((Years_sales['Price_Each'] / Years_sales.Price_Each.sum())*100,2)\n",
    "Years_sales"
   ]
  },
  {
   "cell_type": "code",
   "execution_count": 207,
   "id": "f6aa47b3",
   "metadata": {},
   "outputs": [
    {
     "data": {
      "image/png": "[encoded data removed]",
      "text/plain": [
       "<Figure size 1000x400 with 1 Axes>"
      ]
     },
     "metadata": {},
     "output_type": "display_data"
    }
   ],
   "source": [
    "plt.figure(figsize=(10,4))\n",
    "sns.countplot(x = 'Year', data = all_data)\n",
    "\n",
    "plt.title('Year Sales')\n",
    "plt.xlabel('Years')\n",
    "plt.ylabel('Sales')\n",
    "sns.set()"
   ]
  },
  {
   "cell_type": "markdown",
   "id": "4ab3e985",
   "metadata": {},
   "source": [
    "### По результатам 1 задания удалось узнать:\n",
    "        - Общая сумма заработанных денег за все года = 34 289 130 usd\n",
    "        - 99.98% продаж пришлось на 2019г, 0.02% на 2020г\n",
    "        - больше всего денег заработано в 2019г = 34 280 627 usd\n",
    "    \n",
    "Исходя из данных что у нас есть лучший год по сумме продаж 2019, но так как у нас еще нет полной иноформации о продажах в 2020 в другие месяца то будет неверно называть 2019 лучшим годом\n",
    "    "
   ]
  },
  {
   "cell_type": "markdown",
   "id": "bb8f1a9b",
   "metadata": {},
   "source": [
    "### 2.Какой месяц был лучшим для продаж? Сколько было заработано в этом месяце?"
   ]
  },
  {
   "cell_type": "code",
   "execution_count": 60,
   "id": "913f80a2",
   "metadata": {},
   "outputs": [
    {
     "data": {
      "text/html": [
       "<div>\n",
       "<style scoped>\n",
       "    .dataframe tbody tr th:only-of-type {\n",
       "        vertical-align: middle;\n",
       "    }\n",
       "\n",
       "    .dataframe tbody tr th {\n",
       "        vertical-align: top;\n",
       "    }\n",
       "\n",
       "    .dataframe thead th {\n",
       "        text-align: right;\n",
       "    }\n",
       "</style>\n",
       "<table border=\"1\" class=\"dataframe\">\n",
       "  <thead>\n",
       "    <tr style=\"text-align: right;\">\n",
       "      <th></th>\n",
       "      <th>Quantity_Ordered</th>\n",
       "      <th>Price_Each</th>\n",
       "      <th>Sales</th>\n",
       "      <th>Year</th>\n",
       "    </tr>\n",
       "    <tr>\n",
       "      <th>Month</th>\n",
       "      <th></th>\n",
       "      <th></th>\n",
       "      <th></th>\n",
       "      <th></th>\n",
       "    </tr>\n",
       "  </thead>\n",
       "  <tbody>\n",
       "    <tr>\n",
       "      <th>1</th>\n",
       "      <td>10903</td>\n",
       "      <td>1811768.38</td>\n",
       "      <td>1822256.73</td>\n",
       "      <td>19602505</td>\n",
       "    </tr>\n",
       "    <tr>\n",
       "      <th>2</th>\n",
       "      <td>13449</td>\n",
       "      <td>2188884.72</td>\n",
       "      <td>2202022.42</td>\n",
       "      <td>24177525</td>\n",
       "    </tr>\n",
       "    <tr>\n",
       "      <th>3</th>\n",
       "      <td>17005</td>\n",
       "      <td>2791207.83</td>\n",
       "      <td>2807100.38</td>\n",
       "      <td>30593907</td>\n",
       "    </tr>\n",
       "    <tr>\n",
       "      <th>4</th>\n",
       "      <td>20558</td>\n",
       "      <td>3367671.02</td>\n",
       "      <td>3390670.24</td>\n",
       "      <td>36905301</td>\n",
       "    </tr>\n",
       "    <tr>\n",
       "      <th>5</th>\n",
       "      <td>18667</td>\n",
       "      <td>3135125.13</td>\n",
       "      <td>3152606.75</td>\n",
       "      <td>33446754</td>\n",
       "    </tr>\n",
       "    <tr>\n",
       "      <th>6</th>\n",
       "      <td>15253</td>\n",
       "      <td>2562025.61</td>\n",
       "      <td>2577802.26</td>\n",
       "      <td>27365526</td>\n",
       "    </tr>\n",
       "    <tr>\n",
       "      <th>7</th>\n",
       "      <td>16072</td>\n",
       "      <td>2632539.56</td>\n",
       "      <td>2647775.76</td>\n",
       "      <td>28857567</td>\n",
       "    </tr>\n",
       "    <tr>\n",
       "      <th>8</th>\n",
       "      <td>13448</td>\n",
       "      <td>2230345.42</td>\n",
       "      <td>2244467.88</td>\n",
       "      <td>24149259</td>\n",
       "    </tr>\n",
       "    <tr>\n",
       "      <th>9</th>\n",
       "      <td>13109</td>\n",
       "      <td>2084992.09</td>\n",
       "      <td>2097560.13</td>\n",
       "      <td>23462799</td>\n",
       "    </tr>\n",
       "    <tr>\n",
       "      <th>10</th>\n",
       "      <td>22703</td>\n",
       "      <td>3715554.83</td>\n",
       "      <td>3736726.88</td>\n",
       "      <td>40949358</td>\n",
       "    </tr>\n",
       "    <tr>\n",
       "      <th>11</th>\n",
       "      <td>19798</td>\n",
       "      <td>3180600.68</td>\n",
       "      <td>3199603.20</td>\n",
       "      <td>35479887</td>\n",
       "    </tr>\n",
       "    <tr>\n",
       "      <th>12</th>\n",
       "      <td>28114</td>\n",
       "      <td>4588415.41</td>\n",
       "      <td>4613443.34</td>\n",
       "      <td>50442696</td>\n",
       "    </tr>\n",
       "  </tbody>\n",
       "</table>\n",
       "</div>"
      ],
      "text/plain": [
       "       Quantity_Ordered  Price_Each       Sales      Year\n",
       "Month                                                    \n",
       "1                 10903  1811768.38  1822256.73  19602505\n",
       "2                 13449  2188884.72  2202022.42  24177525\n",
       "3                 17005  2791207.83  2807100.38  30593907\n",
       "4                 20558  3367671.02  3390670.24  36905301\n",
       "5                 18667  3135125.13  3152606.75  33446754\n",
       "6                 15253  2562025.61  2577802.26  27365526\n",
       "7                 16072  2632539.56  2647775.76  28857567\n",
       "8                 13448  2230345.42  2244467.88  24149259\n",
       "9                 13109  2084992.09  2097560.13  23462799\n",
       "10                22703  3715554.83  3736726.88  40949358\n",
       "11                19798  3180600.68  3199603.20  35479887\n",
       "12                28114  4588415.41  4613443.34  50442696"
      ]
     },
     "execution_count": 60,
     "metadata": {},
     "output_type": "execute_result"
    }
   ],
   "source": [
    "results = all_data.groupby('Month')\\\n",
    "                  .sum()\n",
    "results"
   ]
  },
  {
   "cell_type": "code",
   "execution_count": 61,
   "id": "8105d5aa",
   "metadata": {},
   "outputs": [
    {
     "data": {
      "text/plain": [
       "12"
      ]
     },
     "execution_count": 61,
     "metadata": {},
     "output_type": "execute_result"
    }
   ],
   "source": [
    "results['Price_Each'].idxmax()"
   ]
  },
  {
   "cell_type": "code",
   "execution_count": 63,
   "id": "c2e77e25",
   "metadata": {},
   "outputs": [
    {
     "data": {
      "text/plain": [
       "4588415.0"
      ]
     },
     "execution_count": 63,
     "metadata": {},
     "output_type": "execute_result"
    }
   ],
   "source": [
    "results['Price_Each'].max().round()"
   ]
  },
  {
   "cell_type": "code",
   "execution_count": 384,
   "id": "b20551d3",
   "metadata": {},
   "outputs": [
    {
     "data": {
      "image/png": "[encoded data removed]",
      "text/plain": [
       "<Figure size 1000x400 with 1 Axes>"
      ]
     },
     "metadata": {},
     "output_type": "display_data"
    }
   ],
   "source": [
    "plt.figure(figsize=(10,4))\n",
    "months = range(1,13)\n",
    "plt.bar(months,results['Sales'])\n",
    "plt.xticks(months)\n",
    "\n",
    "plt.title('Sales of months')\n",
    "plt.xlabel('month number')\n",
    "plt.ylabel('Sales')\n",
    "\n",
    "sns.set()"
   ]
  },
  {
   "cell_type": "markdown",
   "id": "7d63944d",
   "metadata": {},
   "source": [
    "Лучшим месяцем для продаж был Декабрь, в этом месяце заработано = 4 588 415 usd\n",
    "\n",
    "Возможными на продажи повлиял праздник или активные рекламные компании в этот период, необходимо больше данных для проверки второго утверждения"
   ]
  },
  {
   "cell_type": "markdown",
   "id": "f38362cc",
   "metadata": {},
   "source": [
    "###  3.В каком городе было наибольшее количество продаж?"
   ]
  },
  {
   "cell_type": "markdown",
   "id": "f3298fe3",
   "metadata": {},
   "source": [
    "Добавим новую колонку для деления всех строк по городам"
   ]
  },
  {
   "cell_type": "code",
   "execution_count": 126,
   "id": "37ff65df",
   "metadata": {},
   "outputs": [],
   "source": [
    "def get_city(x):\n",
    "    return x.split(',')[1]\n",
    "\n",
    "def get_index(x):\n",
    "    return x.split(',')[2].split(' ')[1]\n",
    "\n",
    "all_data['City'] = all_data['Purchase_Address'].apply(lambda x: f\" {get_city(x)}({get_index(x)})\")"
   ]
  },
  {
   "cell_type": "code",
   "execution_count": 127,
   "id": "a7185c2e",
   "metadata": {},
   "outputs": [
    {
     "data": {
      "text/html": [
       "<div>\n",
       "<style scoped>\n",
       "    .dataframe tbody tr th:only-of-type {\n",
       "        vertical-align: middle;\n",
       "    }\n",
       "\n",
       "    .dataframe tbody tr th {\n",
       "        vertical-align: top;\n",
       "    }\n",
       "\n",
       "    .dataframe thead th {\n",
       "        text-align: right;\n",
       "    }\n",
       "</style>\n",
       "<table border=\"1\" class=\"dataframe\">\n",
       "  <thead>\n",
       "    <tr style=\"text-align: right;\">\n",
       "      <th></th>\n",
       "      <th>Order_ID</th>\n",
       "      <th>Product</th>\n",
       "      <th>Quantity_Ordered</th>\n",
       "      <th>Price_Each</th>\n",
       "      <th>Order_Date</th>\n",
       "      <th>Purchase_Address</th>\n",
       "      <th>Sales</th>\n",
       "      <th>Month</th>\n",
       "      <th>Year</th>\n",
       "      <th>City</th>\n",
       "    </tr>\n",
       "  </thead>\n",
       "  <tbody>\n",
       "    <tr>\n",
       "      <th>0</th>\n",
       "      <td>295665</td>\n",
       "      <td>Macbook Pro Laptop</td>\n",
       "      <td>1</td>\n",
       "      <td>1700.00</td>\n",
       "      <td>2019-12-30 00:01:00</td>\n",
       "      <td>136 Church St, New York City, NY 10001</td>\n",
       "      <td>1700.00</td>\n",
       "      <td>12</td>\n",
       "      <td>2019</td>\n",
       "      <td>New York City(NY)</td>\n",
       "    </tr>\n",
       "    <tr>\n",
       "      <th>1</th>\n",
       "      <td>295666</td>\n",
       "      <td>LG Washing Machine</td>\n",
       "      <td>1</td>\n",
       "      <td>600.00</td>\n",
       "      <td>2019-12-29 07:03:00</td>\n",
       "      <td>562 2nd St, New York City, NY 10001</td>\n",
       "      <td>600.00</td>\n",
       "      <td>12</td>\n",
       "      <td>2019</td>\n",
       "      <td>New York City(NY)</td>\n",
       "    </tr>\n",
       "    <tr>\n",
       "      <th>2</th>\n",
       "      <td>295667</td>\n",
       "      <td>USB-C Charging Cable</td>\n",
       "      <td>1</td>\n",
       "      <td>11.95</td>\n",
       "      <td>2019-12-12 18:21:00</td>\n",
       "      <td>277 Main St, New York City, NY 10001</td>\n",
       "      <td>11.95</td>\n",
       "      <td>12</td>\n",
       "      <td>2019</td>\n",
       "      <td>New York City(NY)</td>\n",
       "    </tr>\n",
       "    <tr>\n",
       "      <th>3</th>\n",
       "      <td>295668</td>\n",
       "      <td>27in FHD Monitor</td>\n",
       "      <td>1</td>\n",
       "      <td>149.99</td>\n",
       "      <td>2019-12-22 15:13:00</td>\n",
       "      <td>410 6th St, San Francisco, CA 94016</td>\n",
       "      <td>149.99</td>\n",
       "      <td>12</td>\n",
       "      <td>2019</td>\n",
       "      <td>San Francisco(CA)</td>\n",
       "    </tr>\n",
       "    <tr>\n",
       "      <th>4</th>\n",
       "      <td>295669</td>\n",
       "      <td>USB-C Charging Cable</td>\n",
       "      <td>1</td>\n",
       "      <td>11.95</td>\n",
       "      <td>2019-12-18 12:38:00</td>\n",
       "      <td>43 Hill St, Atlanta, GA 30301</td>\n",
       "      <td>11.95</td>\n",
       "      <td>12</td>\n",
       "      <td>2019</td>\n",
       "      <td>Atlanta(GA)</td>\n",
       "    </tr>\n",
       "  </tbody>\n",
       "</table>\n",
       "</div>"
      ],
      "text/plain": [
       "  Order_ID               Product  Quantity_Ordered  Price_Each  \\\n",
       "0   295665    Macbook Pro Laptop                 1     1700.00   \n",
       "1   295666    LG Washing Machine                 1      600.00   \n",
       "2   295667  USB-C Charging Cable                 1       11.95   \n",
       "3   295668      27in FHD Monitor                 1      149.99   \n",
       "4   295669  USB-C Charging Cable                 1       11.95   \n",
       "\n",
       "           Order_Date                        Purchase_Address    Sales  Month  \\\n",
       "0 2019-12-30 00:01:00  136 Church St, New York City, NY 10001  1700.00     12   \n",
       "1 2019-12-29 07:03:00     562 2nd St, New York City, NY 10001   600.00     12   \n",
       "2 2019-12-12 18:21:00    277 Main St, New York City, NY 10001    11.95     12   \n",
       "3 2019-12-22 15:13:00     410 6th St, San Francisco, CA 94016   149.99     12   \n",
       "4 2019-12-18 12:38:00           43 Hill St, Atlanta, GA 30301    11.95     12   \n",
       "\n",
       "   Year                 City  \n",
       "0  2019    New York City(NY)  \n",
       "1  2019    New York City(NY)  \n",
       "2  2019    New York City(NY)  \n",
       "3  2019    San Francisco(CA)  \n",
       "4  2019          Atlanta(GA)  "
      ]
     },
     "execution_count": 127,
     "metadata": {},
     "output_type": "execute_result"
    }
   ],
   "source": [
    "all_data.head()"
   ]
  },
  {
   "cell_type": "code",
   "execution_count": 173,
   "id": "7c785b5a",
   "metadata": {},
   "outputs": [
    {
     "data": {
      "text/html": [
       "<div>\n",
       "<style scoped>\n",
       "    .dataframe tbody tr th:only-of-type {\n",
       "        vertical-align: middle;\n",
       "    }\n",
       "\n",
       "    .dataframe tbody tr th {\n",
       "        vertical-align: top;\n",
       "    }\n",
       "\n",
       "    .dataframe thead th {\n",
       "        text-align: right;\n",
       "    }\n",
       "</style>\n",
       "<table border=\"1\" class=\"dataframe\">\n",
       "  <thead>\n",
       "    <tr style=\"text-align: right;\">\n",
       "      <th></th>\n",
       "      <th>Sales</th>\n",
       "    </tr>\n",
       "    <tr>\n",
       "      <th>City</th>\n",
       "      <th></th>\n",
       "    </tr>\n",
       "  </thead>\n",
       "  <tbody>\n",
       "    <tr>\n",
       "      <th>Atlanta(GA)</th>\n",
       "      <td>2795498.58</td>\n",
       "    </tr>\n",
       "    <tr>\n",
       "      <th>Austin(TX)</th>\n",
       "      <td>1819581.75</td>\n",
       "    </tr>\n",
       "    <tr>\n",
       "      <th>Boston(MA)</th>\n",
       "      <td>3661642.01</td>\n",
       "    </tr>\n",
       "    <tr>\n",
       "      <th>Dallas(TX)</th>\n",
       "      <td>2767975.40</td>\n",
       "    </tr>\n",
       "    <tr>\n",
       "      <th>Los Angeles(CA)</th>\n",
       "      <td>5452570.80</td>\n",
       "    </tr>\n",
       "    <tr>\n",
       "      <th>New York City(NY)</th>\n",
       "      <td>4664317.43</td>\n",
       "    </tr>\n",
       "    <tr>\n",
       "      <th>Portland(ME)</th>\n",
       "      <td>449758.27</td>\n",
       "    </tr>\n",
       "    <tr>\n",
       "      <th>Portland(OR)</th>\n",
       "      <td>1870732.34</td>\n",
       "    </tr>\n",
       "    <tr>\n",
       "      <th>San Francisco(CA)</th>\n",
       "      <td>8262203.91</td>\n",
       "    </tr>\n",
       "    <tr>\n",
       "      <th>Seattle(WA)</th>\n",
       "      <td>2747755.48</td>\n",
       "    </tr>\n",
       "  </tbody>\n",
       "</table>\n",
       "</div>"
      ],
      "text/plain": [
       "                          Sales\n",
       "City                           \n",
       "  Atlanta(GA)        2795498.58\n",
       "  Austin(TX)         1819581.75\n",
       "  Boston(MA)         3661642.01\n",
       "  Dallas(TX)         2767975.40\n",
       "  Los Angeles(CA)    5452570.80\n",
       "  New York City(NY)  4664317.43\n",
       "  Portland(ME)        449758.27\n",
       "  Portland(OR)       1870732.34\n",
       "  San Francisco(CA)  8262203.91\n",
       "  Seattle(WA)        2747755.48"
      ]
     },
     "execution_count": 173,
     "metadata": {},
     "output_type": "execute_result"
    }
   ],
   "source": [
    "city_sales = all_data.groupby('City')\\\n",
    "                     .agg({'Sales':'sum'})                        \n",
    "city_sales"
   ]
  },
  {
   "cell_type": "code",
   "execution_count": 174,
   "id": "5e7b5d9c",
   "metadata": {},
   "outputs": [
    {
     "data": {
      "text/plain": [
       "8262203.91"
      ]
     },
     "execution_count": 174,
     "metadata": {},
     "output_type": "execute_result"
    }
   ],
   "source": [
    "city_sales.Sales.max()"
   ]
  },
  {
   "cell_type": "code",
   "execution_count": 176,
   "id": "22e968ee",
   "metadata": {},
   "outputs": [
    {
     "data": {
      "text/plain": [
       "'  San Francisco(CA)'"
      ]
     },
     "execution_count": 176,
     "metadata": {},
     "output_type": "execute_result"
    }
   ],
   "source": [
    "city_sales.Sales.idxmax()"
   ]
  },
  {
   "cell_type": "code",
   "execution_count": 178,
   "id": "1474820f",
   "metadata": {},
   "outputs": [],
   "source": [
    "visual_cities = city_sales.reset_index()"
   ]
  },
  {
   "cell_type": "code",
   "execution_count": 379,
   "id": "72c8b925",
   "metadata": {},
   "outputs": [
    {
     "data": {
      "image/png": "[encoded data removed]",
      "text/plain": [
       "<Figure size 800x500 with 1 Axes>"
      ]
     },
     "metadata": {},
     "output_type": "display_data"
    }
   ],
   "source": [
    "plt.figure(figsize = (8,5))\n",
    "plt.bar(visual_cities['City'], visual_cities['Sales'], color = 'm')\n",
    "\n",
    "plt.title('Top Sales city')\n",
    "plt.xticks(rotation = 45)\n",
    "plt.xlabel('\\n \\n City')\n",
    "plt.ylabel('Sales')\n",
    "\n",
    "\n",
    "sns.set()"
   ]
  },
  {
   "cell_type": "markdown",
   "id": "a45e5916",
   "metadata": {},
   "source": [
    "посмотри на долю продаж San Francisco, в каждом месяце относительно суммы продаж всех городов"
   ]
  },
  {
   "cell_type": "code",
   "execution_count": 247,
   "id": "83ec55fa",
   "metadata": {},
   "outputs": [
    {
     "data": {
      "text/html": [
       "<div>\n",
       "<style scoped>\n",
       "    .dataframe tbody tr th:only-of-type {\n",
       "        vertical-align: middle;\n",
       "    }\n",
       "\n",
       "    .dataframe tbody tr th {\n",
       "        vertical-align: top;\n",
       "    }\n",
       "\n",
       "    .dataframe thead th {\n",
       "        text-align: right;\n",
       "    }\n",
       "</style>\n",
       "<table border=\"1\" class=\"dataframe\">\n",
       "  <thead>\n",
       "    <tr style=\"text-align: right;\">\n",
       "      <th></th>\n",
       "      <th>City</th>\n",
       "      <th>Sales</th>\n",
       "      <th>percents_of_all_Sales</th>\n",
       "    </tr>\n",
       "  </thead>\n",
       "  <tbody>\n",
       "    <tr>\n",
       "      <th>0</th>\n",
       "      <td>Atlanta(GA)</td>\n",
       "      <td>2795498.58</td>\n",
       "      <td>8.10</td>\n",
       "    </tr>\n",
       "    <tr>\n",
       "      <th>1</th>\n",
       "      <td>Austin(TX)</td>\n",
       "      <td>1819581.75</td>\n",
       "      <td>5.28</td>\n",
       "    </tr>\n",
       "    <tr>\n",
       "      <th>2</th>\n",
       "      <td>Boston(MA)</td>\n",
       "      <td>3661642.01</td>\n",
       "      <td>10.62</td>\n",
       "    </tr>\n",
       "    <tr>\n",
       "      <th>3</th>\n",
       "      <td>Dallas(TX)</td>\n",
       "      <td>2767975.40</td>\n",
       "      <td>8.02</td>\n",
       "    </tr>\n",
       "    <tr>\n",
       "      <th>4</th>\n",
       "      <td>Los Angeles(CA)</td>\n",
       "      <td>5452570.80</td>\n",
       "      <td>15.81</td>\n",
       "    </tr>\n",
       "    <tr>\n",
       "      <th>5</th>\n",
       "      <td>New York City(NY)</td>\n",
       "      <td>4664317.43</td>\n",
       "      <td>13.52</td>\n",
       "    </tr>\n",
       "    <tr>\n",
       "      <th>6</th>\n",
       "      <td>Portland(ME)</td>\n",
       "      <td>449758.27</td>\n",
       "      <td>1.30</td>\n",
       "    </tr>\n",
       "    <tr>\n",
       "      <th>7</th>\n",
       "      <td>Portland(OR)</td>\n",
       "      <td>1870732.34</td>\n",
       "      <td>5.42</td>\n",
       "    </tr>\n",
       "    <tr>\n",
       "      <th>8</th>\n",
       "      <td>San Francisco(CA)</td>\n",
       "      <td>8262203.91</td>\n",
       "      <td>23.95</td>\n",
       "    </tr>\n",
       "    <tr>\n",
       "      <th>9</th>\n",
       "      <td>Seattle(WA)</td>\n",
       "      <td>2747755.48</td>\n",
       "      <td>7.97</td>\n",
       "    </tr>\n",
       "  </tbody>\n",
       "</table>\n",
       "</div>"
      ],
      "text/plain": [
       "                  City       Sales  percents_of_all_Sales\n",
       "0          Atlanta(GA)  2795498.58                   8.10\n",
       "1           Austin(TX)  1819581.75                   5.28\n",
       "2           Boston(MA)  3661642.01                  10.62\n",
       "3           Dallas(TX)  2767975.40                   8.02\n",
       "4      Los Angeles(CA)  5452570.80                  15.81\n",
       "5    New York City(NY)  4664317.43                  13.52\n",
       "6         Portland(ME)   449758.27                   1.30\n",
       "7         Portland(OR)  1870732.34                   5.42\n",
       "8    San Francisco(CA)  8262203.91                  23.95\n",
       "9          Seattle(WA)  2747755.48                   7.97"
      ]
     },
     "execution_count": 247,
     "metadata": {},
     "output_type": "execute_result"
    }
   ],
   "source": [
    "visual_cities['percents_of_all_Sales'] = round((visual_cities['Sales']/(visual_cities['Sales'].sum())) * 100,2)\n",
    "visual_cities"
   ]
  },
  {
   "cell_type": "code",
   "execution_count": 249,
   "id": "434e9c10",
   "metadata": {},
   "outputs": [
    {
     "data": {
      "text/plain": [
       "10.0"
      ]
     },
     "execution_count": 249,
     "metadata": {},
     "output_type": "execute_result"
    }
   ],
   "source": [
    "visual_cities.percents_of_all_Sales.mean().round()"
   ]
  },
  {
   "cell_type": "code",
   "execution_count": 232,
   "id": "8ea06d45",
   "metadata": {},
   "outputs": [],
   "source": [
    "sanf = all_data.query('City == \"  San Francisco(CA)\"').groupby('Month').agg({'Sales':'sum'})\n",
    "others = all_data.query('City != \"  San Francisco(CA)\"').groupby('Month').sum()"
   ]
  },
  {
   "cell_type": "code",
   "execution_count": 385,
   "id": "e415d3b4",
   "metadata": {},
   "outputs": [
    {
     "data": {
      "image/png": "[encoded data removed]",
      "text/plain": [
       "<Figure size 800x500 with 1 Axes>"
      ]
     },
     "metadata": {},
     "output_type": "display_data"
    }
   ],
   "source": [
    "plt.figure(figsize = (8,5))\n",
    "plt.bar(months,others['Sales'], color = 'b', alpha = 0.5)\n",
    "plt.bar(months, sanf['Sales'], color = 'm')\n",
    "plt.legend\n",
    "\n",
    "plt.xticks(months)\n",
    "plt.title('Share of San Francisco sales')\n",
    "plt.xlabel('month')\n",
    "plt.ylabel('Sales')\n",
    "\n",
    "sns.set()"
   ]
  },
  {
   "cell_type": "markdown",
   "id": "bfd3b696",
   "metadata": {},
   "source": [
    "Наибольшее количесвто продаж было в San Francisco, сумма продаж за все время = 8 262 204 usd\n",
    "\n",
    "Также на графике видно что в течении всего года, каждый месяц доля продаж San Francisco больше чем у остальных городов, процент = 23.95% , это на 14% выше чем в среднем по всем месяцам."
   ]
  },
  {
   "cell_type": "markdown",
   "id": "a74df046",
   "metadata": {},
   "source": [
    "### 4.В какое время мы должны показывать рекламу, чтобы максимизировать вероятность того, что клиент купит продукт?"
   ]
  },
  {
   "cell_type": "markdown",
   "id": "1b0efbd6",
   "metadata": {},
   "source": [
    "создадим колонки времени для визуализации распределения времени по часам"
   ]
  },
  {
   "cell_type": "code",
   "execution_count": 251,
   "id": "0fd2a1c0",
   "metadata": {},
   "outputs": [
    {
     "data": {
      "text/html": [
       "<div>\n",
       "<style scoped>\n",
       "    .dataframe tbody tr th:only-of-type {\n",
       "        vertical-align: middle;\n",
       "    }\n",
       "\n",
       "    .dataframe tbody tr th {\n",
       "        vertical-align: top;\n",
       "    }\n",
       "\n",
       "    .dataframe thead th {\n",
       "        text-align: right;\n",
       "    }\n",
       "</style>\n",
       "<table border=\"1\" class=\"dataframe\">\n",
       "  <thead>\n",
       "    <tr style=\"text-align: right;\">\n",
       "      <th></th>\n",
       "      <th>Order_ID</th>\n",
       "      <th>Product</th>\n",
       "      <th>Quantity_Ordered</th>\n",
       "      <th>Price_Each</th>\n",
       "      <th>Order_Date</th>\n",
       "      <th>Purchase_Address</th>\n",
       "      <th>Sales</th>\n",
       "      <th>Month</th>\n",
       "      <th>Year</th>\n",
       "      <th>City</th>\n",
       "      <th>Hour</th>\n",
       "      <th>minute</th>\n",
       "      <th>count</th>\n",
       "    </tr>\n",
       "  </thead>\n",
       "  <tbody>\n",
       "    <tr>\n",
       "      <th>0</th>\n",
       "      <td>295665</td>\n",
       "      <td>Macbook Pro Laptop</td>\n",
       "      <td>1</td>\n",
       "      <td>1700.00</td>\n",
       "      <td>2019-12-30 00:01:00</td>\n",
       "      <td>136 Church St, New York City, NY 10001</td>\n",
       "      <td>1700.00</td>\n",
       "      <td>12</td>\n",
       "      <td>2019</td>\n",
       "      <td>New York City(NY)</td>\n",
       "      <td>0</td>\n",
       "      <td>1</td>\n",
       "      <td>1</td>\n",
       "    </tr>\n",
       "    <tr>\n",
       "      <th>1</th>\n",
       "      <td>295666</td>\n",
       "      <td>LG Washing Machine</td>\n",
       "      <td>1</td>\n",
       "      <td>600.00</td>\n",
       "      <td>2019-12-29 07:03:00</td>\n",
       "      <td>562 2nd St, New York City, NY 10001</td>\n",
       "      <td>600.00</td>\n",
       "      <td>12</td>\n",
       "      <td>2019</td>\n",
       "      <td>New York City(NY)</td>\n",
       "      <td>7</td>\n",
       "      <td>3</td>\n",
       "      <td>1</td>\n",
       "    </tr>\n",
       "    <tr>\n",
       "      <th>2</th>\n",
       "      <td>295667</td>\n",
       "      <td>USB-C Charging Cable</td>\n",
       "      <td>1</td>\n",
       "      <td>11.95</td>\n",
       "      <td>2019-12-12 18:21:00</td>\n",
       "      <td>277 Main St, New York City, NY 10001</td>\n",
       "      <td>11.95</td>\n",
       "      <td>12</td>\n",
       "      <td>2019</td>\n",
       "      <td>New York City(NY)</td>\n",
       "      <td>18</td>\n",
       "      <td>21</td>\n",
       "      <td>1</td>\n",
       "    </tr>\n",
       "    <tr>\n",
       "      <th>3</th>\n",
       "      <td>295668</td>\n",
       "      <td>27in FHD Monitor</td>\n",
       "      <td>1</td>\n",
       "      <td>149.99</td>\n",
       "      <td>2019-12-22 15:13:00</td>\n",
       "      <td>410 6th St, San Francisco, CA 94016</td>\n",
       "      <td>149.99</td>\n",
       "      <td>12</td>\n",
       "      <td>2019</td>\n",
       "      <td>San Francisco(CA)</td>\n",
       "      <td>15</td>\n",
       "      <td>13</td>\n",
       "      <td>1</td>\n",
       "    </tr>\n",
       "    <tr>\n",
       "      <th>4</th>\n",
       "      <td>295669</td>\n",
       "      <td>USB-C Charging Cable</td>\n",
       "      <td>1</td>\n",
       "      <td>11.95</td>\n",
       "      <td>2019-12-18 12:38:00</td>\n",
       "      <td>43 Hill St, Atlanta, GA 30301</td>\n",
       "      <td>11.95</td>\n",
       "      <td>12</td>\n",
       "      <td>2019</td>\n",
       "      <td>Atlanta(GA)</td>\n",
       "      <td>12</td>\n",
       "      <td>38</td>\n",
       "      <td>1</td>\n",
       "    </tr>\n",
       "  </tbody>\n",
       "</table>\n",
       "</div>"
      ],
      "text/plain": [
       "  Order_ID               Product  Quantity_Ordered  Price_Each  \\\n",
       "0   295665    Macbook Pro Laptop                 1     1700.00   \n",
       "1   295666    LG Washing Machine                 1      600.00   \n",
       "2   295667  USB-C Charging Cable                 1       11.95   \n",
       "3   295668      27in FHD Monitor                 1      149.99   \n",
       "4   295669  USB-C Charging Cable                 1       11.95   \n",
       "\n",
       "           Order_Date                        Purchase_Address    Sales  Month  \\\n",
       "0 2019-12-30 00:01:00  136 Church St, New York City, NY 10001  1700.00     12   \n",
       "1 2019-12-29 07:03:00     562 2nd St, New York City, NY 10001   600.00     12   \n",
       "2 2019-12-12 18:21:00    277 Main St, New York City, NY 10001    11.95     12   \n",
       "3 2019-12-22 15:13:00     410 6th St, San Francisco, CA 94016   149.99     12   \n",
       "4 2019-12-18 12:38:00           43 Hill St, Atlanta, GA 30301    11.95     12   \n",
       "\n",
       "   Year                 City  Hour  minute  count  \n",
       "0  2019    New York City(NY)     0       1      1  \n",
       "1  2019    New York City(NY)     7       3      1  \n",
       "2  2019    New York City(NY)    18      21      1  \n",
       "3  2019    San Francisco(CA)    15      13      1  \n",
       "4  2019          Atlanta(GA)    12      38      1  "
      ]
     },
     "execution_count": 251,
     "metadata": {},
     "output_type": "execute_result"
    }
   ],
   "source": [
    "all_data['Hour'] = all_data['Order_Date'].dt.hour\n",
    "all_data['minute'] = all_data['Order_Date'].dt.minute\n",
    "all_data['count'] = 1\n",
    "\n",
    "all_data.head()"
   ]
  },
  {
   "cell_type": "code",
   "execution_count": 254,
   "id": "39652a4e",
   "metadata": {},
   "outputs": [
    {
     "data": {
      "text/html": [
       "<div>\n",
       "<style scoped>\n",
       "    .dataframe tbody tr th:only-of-type {\n",
       "        vertical-align: middle;\n",
       "    }\n",
       "\n",
       "    .dataframe tbody tr th {\n",
       "        vertical-align: top;\n",
       "    }\n",
       "\n",
       "    .dataframe thead th {\n",
       "        text-align: right;\n",
       "    }\n",
       "</style>\n",
       "<table border=\"1\" class=\"dataframe\">\n",
       "  <thead>\n",
       "    <tr style=\"text-align: right;\">\n",
       "      <th></th>\n",
       "      <th>Order_ID</th>\n",
       "      <th>Product</th>\n",
       "      <th>Quantity_Ordered</th>\n",
       "      <th>Price_Each</th>\n",
       "      <th>Order_Date</th>\n",
       "      <th>Purchase_Address</th>\n",
       "      <th>Sales</th>\n",
       "      <th>Month</th>\n",
       "      <th>Year</th>\n",
       "      <th>City</th>\n",
       "      <th>minute</th>\n",
       "      <th>count</th>\n",
       "    </tr>\n",
       "    <tr>\n",
       "      <th>Hour</th>\n",
       "      <th></th>\n",
       "      <th></th>\n",
       "      <th></th>\n",
       "      <th></th>\n",
       "      <th></th>\n",
       "      <th></th>\n",
       "      <th></th>\n",
       "      <th></th>\n",
       "      <th></th>\n",
       "      <th></th>\n",
       "      <th></th>\n",
       "      <th></th>\n",
       "    </tr>\n",
       "  </thead>\n",
       "  <tbody>\n",
       "    <tr>\n",
       "      <th>0</th>\n",
       "      <td>3910</td>\n",
       "      <td>3910</td>\n",
       "      <td>3910</td>\n",
       "      <td>3910</td>\n",
       "      <td>3910</td>\n",
       "      <td>3910</td>\n",
       "      <td>3910</td>\n",
       "      <td>3910</td>\n",
       "      <td>3910</td>\n",
       "      <td>3910</td>\n",
       "      <td>3910</td>\n",
       "      <td>3910</td>\n",
       "    </tr>\n",
       "    <tr>\n",
       "      <th>1</th>\n",
       "      <td>2350</td>\n",
       "      <td>2350</td>\n",
       "      <td>2350</td>\n",
       "      <td>2350</td>\n",
       "      <td>2350</td>\n",
       "      <td>2350</td>\n",
       "      <td>2350</td>\n",
       "      <td>2350</td>\n",
       "      <td>2350</td>\n",
       "      <td>2350</td>\n",
       "      <td>2350</td>\n",
       "      <td>2350</td>\n",
       "    </tr>\n",
       "    <tr>\n",
       "      <th>2</th>\n",
       "      <td>1243</td>\n",
       "      <td>1243</td>\n",
       "      <td>1243</td>\n",
       "      <td>1243</td>\n",
       "      <td>1243</td>\n",
       "      <td>1243</td>\n",
       "      <td>1243</td>\n",
       "      <td>1243</td>\n",
       "      <td>1243</td>\n",
       "      <td>1243</td>\n",
       "      <td>1243</td>\n",
       "      <td>1243</td>\n",
       "    </tr>\n",
       "    <tr>\n",
       "      <th>3</th>\n",
       "      <td>831</td>\n",
       "      <td>831</td>\n",
       "      <td>831</td>\n",
       "      <td>831</td>\n",
       "      <td>831</td>\n",
       "      <td>831</td>\n",
       "      <td>831</td>\n",
       "      <td>831</td>\n",
       "      <td>831</td>\n",
       "      <td>831</td>\n",
       "      <td>831</td>\n",
       "      <td>831</td>\n",
       "    </tr>\n",
       "    <tr>\n",
       "      <th>4</th>\n",
       "      <td>854</td>\n",
       "      <td>854</td>\n",
       "      <td>854</td>\n",
       "      <td>854</td>\n",
       "      <td>854</td>\n",
       "      <td>854</td>\n",
       "      <td>854</td>\n",
       "      <td>854</td>\n",
       "      <td>854</td>\n",
       "      <td>854</td>\n",
       "      <td>854</td>\n",
       "      <td>854</td>\n",
       "    </tr>\n",
       "  </tbody>\n",
       "</table>\n",
       "</div>"
      ],
      "text/plain": [
       "      Order_ID  Product  Quantity_Ordered  Price_Each  Order_Date  \\\n",
       "Hour                                                                \n",
       "0         3910     3910              3910        3910        3910   \n",
       "1         2350     2350              2350        2350        2350   \n",
       "2         1243     1243              1243        1243        1243   \n",
       "3          831      831               831         831         831   \n",
       "4          854      854               854         854         854   \n",
       "\n",
       "      Purchase_Address  Sales  Month  Year  City  minute  count  \n",
       "Hour                                                             \n",
       "0                 3910   3910   3910  3910  3910    3910   3910  \n",
       "1                 2350   2350   2350  2350  2350    2350   2350  \n",
       "2                 1243   1243   1243  1243  1243    1243   1243  \n",
       "3                  831    831    831   831   831     831    831  \n",
       "4                  854    854    854   854   854     854    854  "
      ]
     },
     "execution_count": 254,
     "metadata": {},
     "output_type": "execute_result"
    }
   ],
   "source": [
    "hour_count = all_data.groupby('Hour').count()\n",
    "hour_count.head()"
   ]
  },
  {
   "cell_type": "code",
   "execution_count": 155,
   "id": "c5e05282",
   "metadata": {},
   "outputs": [
    {
     "data": {
      "text/plain": [
       "(0.0, 23.0)"
      ]
     },
     "execution_count": 155,
     "metadata": {},
     "output_type": "execute_result"
    },
    {
     "data": {
      "image/png": "[encoded data removed]",
      "text/plain": [
       "<Figure size 864x648 with 1 Axes>"
      ]
     },
     "metadata": {},
     "output_type": "display_data"
    }
   ],
   "source": [
    "hours = [hour for hour, df in all_data.groupby('Hour')]\n",
    "\n",
    "plt.plot(hours, hour_count.Quantity_Ordered, color = 'Green')\n",
    "plt.xticks(hours)\n",
    "\n",
    "plt.xlabel('hour')\n",
    "plt.ylabel('orders')\n",
    "plt.xlim(0,23)\n"
   ]
  },
  {
   "cell_type": "markdown",
   "id": "bb5e5f1d",
   "metadata": {},
   "source": [
    "распределения количества продаж имеет 2 пика которые начинают максимальный рост с 9-10ч утра и 16-17ч вечера\n",
    "\n",
    "Лучшее время для размещение рекламы 9-10 утра, потому что в это время увеличевается количество заказов."
   ]
  },
  {
   "cell_type": "markdown",
   "id": "75713452",
   "metadata": {},
   "source": [
    "###  5.Какие продукты чаще всего продаются вместе?\n",
    "\n"
   ]
  },
  {
   "cell_type": "markdown",
   "id": "4a139d64",
   "metadata": {},
   "source": [
    "Cоздадим список покупок для каждого покупателя за все время"
   ]
  },
  {
   "cell_type": "code",
   "execution_count": 264,
   "id": "c77ca933",
   "metadata": {},
   "outputs": [],
   "source": [
    "df = all_data[all_data['Order_ID'].duplicated(keep = False)]"
   ]
  },
  {
   "cell_type": "code",
   "execution_count": 265,
   "id": "92dd5e82",
   "metadata": {},
   "outputs": [
    {
     "data": {
      "text/html": [
       "<div>\n",
       "<style scoped>\n",
       "    .dataframe tbody tr th:only-of-type {\n",
       "        vertical-align: middle;\n",
       "    }\n",
       "\n",
       "    .dataframe tbody tr th {\n",
       "        vertical-align: top;\n",
       "    }\n",
       "\n",
       "    .dataframe thead th {\n",
       "        text-align: right;\n",
       "    }\n",
       "</style>\n",
       "<table border=\"1\" class=\"dataframe\">\n",
       "  <thead>\n",
       "    <tr style=\"text-align: right;\">\n",
       "      <th></th>\n",
       "      <th>Order_ID</th>\n",
       "      <th>Product</th>\n",
       "      <th>Quantity_Ordered</th>\n",
       "      <th>Price_Each</th>\n",
       "      <th>Order_Date</th>\n",
       "      <th>Purchase_Address</th>\n",
       "      <th>Sales</th>\n",
       "      <th>Month</th>\n",
       "      <th>Year</th>\n",
       "      <th>City</th>\n",
       "      <th>Hour</th>\n",
       "      <th>minute</th>\n",
       "      <th>count</th>\n",
       "      <th>grouped</th>\n",
       "    </tr>\n",
       "  </thead>\n",
       "  <tbody>\n",
       "    <tr>\n",
       "      <th>16</th>\n",
       "      <td>295681</td>\n",
       "      <td>Google Phone</td>\n",
       "      <td>1</td>\n",
       "      <td>600.00</td>\n",
       "      <td>2019-12-25 12:37:00</td>\n",
       "      <td>79 Elm St, Boston, MA 02215</td>\n",
       "      <td>600.00</td>\n",
       "      <td>12</td>\n",
       "      <td>2019</td>\n",
       "      <td>Boston(MA)</td>\n",
       "      <td>12</td>\n",
       "      <td>37</td>\n",
       "      <td>1</td>\n",
       "      <td>Google Phone,USB-C Charging Cable,Bose SoundSp...</td>\n",
       "    </tr>\n",
       "    <tr>\n",
       "      <th>17</th>\n",
       "      <td>295681</td>\n",
       "      <td>USB-C Charging Cable</td>\n",
       "      <td>1</td>\n",
       "      <td>11.95</td>\n",
       "      <td>2019-12-25 12:37:00</td>\n",
       "      <td>79 Elm St, Boston, MA 02215</td>\n",
       "      <td>11.95</td>\n",
       "      <td>12</td>\n",
       "      <td>2019</td>\n",
       "      <td>Boston(MA)</td>\n",
       "      <td>12</td>\n",
       "      <td>37</td>\n",
       "      <td>1</td>\n",
       "      <td>Google Phone,USB-C Charging Cable,Bose SoundSp...</td>\n",
       "    </tr>\n",
       "    <tr>\n",
       "      <th>18</th>\n",
       "      <td>295681</td>\n",
       "      <td>Bose SoundSport Headphones</td>\n",
       "      <td>1</td>\n",
       "      <td>99.99</td>\n",
       "      <td>2019-12-25 12:37:00</td>\n",
       "      <td>79 Elm St, Boston, MA 02215</td>\n",
       "      <td>99.99</td>\n",
       "      <td>12</td>\n",
       "      <td>2019</td>\n",
       "      <td>Boston(MA)</td>\n",
       "      <td>12</td>\n",
       "      <td>37</td>\n",
       "      <td>1</td>\n",
       "      <td>Google Phone,USB-C Charging Cable,Bose SoundSp...</td>\n",
       "    </tr>\n",
       "    <tr>\n",
       "      <th>19</th>\n",
       "      <td>295681</td>\n",
       "      <td>Wired Headphones</td>\n",
       "      <td>1</td>\n",
       "      <td>11.99</td>\n",
       "      <td>2019-12-25 12:37:00</td>\n",
       "      <td>79 Elm St, Boston, MA 02215</td>\n",
       "      <td>11.99</td>\n",
       "      <td>12</td>\n",
       "      <td>2019</td>\n",
       "      <td>Boston(MA)</td>\n",
       "      <td>12</td>\n",
       "      <td>37</td>\n",
       "      <td>1</td>\n",
       "      <td>Google Phone,USB-C Charging Cable,Bose SoundSp...</td>\n",
       "    </tr>\n",
       "    <tr>\n",
       "      <th>36</th>\n",
       "      <td>295698</td>\n",
       "      <td>Vareebadd Phone</td>\n",
       "      <td>1</td>\n",
       "      <td>400.00</td>\n",
       "      <td>2019-12-13 14:32:00</td>\n",
       "      <td>175 1st St, New York City, NY 10001</td>\n",
       "      <td>400.00</td>\n",
       "      <td>12</td>\n",
       "      <td>2019</td>\n",
       "      <td>New York City(NY)</td>\n",
       "      <td>14</td>\n",
       "      <td>32</td>\n",
       "      <td>1</td>\n",
       "      <td>Vareebadd Phone,USB-C Charging Cable</td>\n",
       "    </tr>\n",
       "  </tbody>\n",
       "</table>\n",
       "</div>"
      ],
      "text/plain": [
       "   Order_ID                     Product  Quantity_Ordered  Price_Each  \\\n",
       "16   295681                Google Phone                 1      600.00   \n",
       "17   295681        USB-C Charging Cable                 1       11.95   \n",
       "18   295681  Bose SoundSport Headphones                 1       99.99   \n",
       "19   295681            Wired Headphones                 1       11.99   \n",
       "36   295698             Vareebadd Phone                 1      400.00   \n",
       "\n",
       "            Order_Date                     Purchase_Address   Sales  Month  \\\n",
       "16 2019-12-25 12:37:00          79 Elm St, Boston, MA 02215  600.00     12   \n",
       "17 2019-12-25 12:37:00          79 Elm St, Boston, MA 02215   11.95     12   \n",
       "18 2019-12-25 12:37:00          79 Elm St, Boston, MA 02215   99.99     12   \n",
       "19 2019-12-25 12:37:00          79 Elm St, Boston, MA 02215   11.99     12   \n",
       "36 2019-12-13 14:32:00  175 1st St, New York City, NY 10001  400.00     12   \n",
       "\n",
       "    Year                 City  Hour  minute  count  \\\n",
       "16  2019           Boston(MA)    12      37      1   \n",
       "17  2019           Boston(MA)    12      37      1   \n",
       "18  2019           Boston(MA)    12      37      1   \n",
       "19  2019           Boston(MA)    12      37      1   \n",
       "36  2019    New York City(NY)    14      32      1   \n",
       "\n",
       "                                              grouped  \n",
       "16  Google Phone,USB-C Charging Cable,Bose SoundSp...  \n",
       "17  Google Phone,USB-C Charging Cable,Bose SoundSp...  \n",
       "18  Google Phone,USB-C Charging Cable,Bose SoundSp...  \n",
       "19  Google Phone,USB-C Charging Cable,Bose SoundSp...  \n",
       "36               Vareebadd Phone,USB-C Charging Cable  "
      ]
     },
     "execution_count": 265,
     "metadata": {},
     "output_type": "execute_result"
    }
   ],
   "source": [
    "df['grouped'] = df.groupby('Order_ID')['Product'].transform(lambda x: ','.join(x))\n",
    "df.head()"
   ]
  },
  {
   "cell_type": "code",
   "execution_count": 266,
   "id": "a65a00e8",
   "metadata": {},
   "outputs": [
    {
     "data": {
      "text/html": [
       "<div>\n",
       "<style scoped>\n",
       "    .dataframe tbody tr th:only-of-type {\n",
       "        vertical-align: middle;\n",
       "    }\n",
       "\n",
       "    .dataframe tbody tr th {\n",
       "        vertical-align: top;\n",
       "    }\n",
       "\n",
       "    .dataframe thead th {\n",
       "        text-align: right;\n",
       "    }\n",
       "</style>\n",
       "<table border=\"1\" class=\"dataframe\">\n",
       "  <thead>\n",
       "    <tr style=\"text-align: right;\">\n",
       "      <th></th>\n",
       "      <th>Order_ID</th>\n",
       "      <th>grouped</th>\n",
       "    </tr>\n",
       "  </thead>\n",
       "  <tbody>\n",
       "    <tr>\n",
       "      <th>16</th>\n",
       "      <td>295681</td>\n",
       "      <td>Google Phone,USB-C Charging Cable,Bose SoundSp...</td>\n",
       "    </tr>\n",
       "    <tr>\n",
       "      <th>36</th>\n",
       "      <td>295698</td>\n",
       "      <td>Vareebadd Phone,USB-C Charging Cable</td>\n",
       "    </tr>\n",
       "    <tr>\n",
       "      <th>42</th>\n",
       "      <td>295703</td>\n",
       "      <td>AA Batteries (4-pack),Bose SoundSport Headphones</td>\n",
       "    </tr>\n",
       "    <tr>\n",
       "      <th>66</th>\n",
       "      <td>295726</td>\n",
       "      <td>iPhone,Lightning Charging Cable</td>\n",
       "    </tr>\n",
       "    <tr>\n",
       "      <th>76</th>\n",
       "      <td>295735</td>\n",
       "      <td>iPhone,Apple Airpods Headphones,Wired Headphones</td>\n",
       "    </tr>\n",
       "  </tbody>\n",
       "</table>\n",
       "</div>"
      ],
      "text/plain": [
       "   Order_ID                                            grouped\n",
       "16   295681  Google Phone,USB-C Charging Cable,Bose SoundSp...\n",
       "36   295698               Vareebadd Phone,USB-C Charging Cable\n",
       "42   295703   AA Batteries (4-pack),Bose SoundSport Headphones\n",
       "66   295726                    iPhone,Lightning Charging Cable\n",
       "76   295735   iPhone,Apple Airpods Headphones,Wired Headphones"
      ]
     },
     "execution_count": 266,
     "metadata": {},
     "output_type": "execute_result"
    }
   ],
   "source": [
    "df = df[['Order_ID', 'grouped']].drop_duplicates()\n",
    "df.head()"
   ]
  },
  {
   "cell_type": "code",
   "execution_count": 267,
   "id": "ecf8051d",
   "metadata": {},
   "outputs": [],
   "source": [
    "count = Counter()\n",
    "\n",
    "for row in df['grouped']:\n",
    "    row_list = row.split(',')\n",
    "    count.update(Counter(combinations(row_list, 2)))"
   ]
  },
  {
   "cell_type": "code",
   "execution_count": 268,
   "id": "4be84ac5",
   "metadata": {},
   "outputs": [
    {
     "name": "stdout",
     "output_type": "stream",
     "text": [
      "('iPhone', 'Lightning Charging Cable') 1005\n",
      "('Google Phone', 'USB-C Charging Cable') 987\n",
      "('iPhone', 'Wired Headphones') 447\n",
      "('Google Phone', 'Wired Headphones') 414\n",
      "('Vareebadd Phone', 'USB-C Charging Cable') 361\n",
      "('iPhone', 'Apple Airpods Headphones') 360\n",
      "('Google Phone', 'Bose SoundSport Headphones') 220\n",
      "('USB-C Charging Cable', 'Wired Headphones') 160\n",
      "('Vareebadd Phone', 'Wired Headphones') 143\n",
      "('Lightning Charging Cable', 'Wired Headphones') 92\n"
     ]
    }
   ],
   "source": [
    "for key, value in count.most_common(10):\n",
    "    print(key, value)"
   ]
  },
  {
   "cell_type": "markdown",
   "id": "099093bf",
   "metadata": {},
   "source": [
    "больше всего комбинации у ('iPhone', 'Lightning Charging Cable'), эти товары чаще оказываются в одной корзине \n",
    "скорее всего потому что компания apple в 2020 году начала продавать телефоны без зарядки в комплекте и покуптели сразу берут полный набор"
   ]
  },
  {
   "cell_type": "markdown",
   "id": "71384150",
   "metadata": {},
   "source": [
    "###  6.Какой товар продается больше всего? Как вы думаете, почему он продается больше всего?"
   ]
  },
  {
   "cell_type": "markdown",
   "id": "e98885af",
   "metadata": {},
   "source": [
    "сгруппируем все продукты и посчитаем их проданное количество и частоту попадания в заказ"
   ]
  },
  {
   "cell_type": "markdown",
   "id": "81ad70b4",
   "metadata": {},
   "source": [
    "найдем продукт с самым большим проданным количеством "
   ]
  },
  {
   "cell_type": "code",
   "execution_count": 352,
   "id": "eef562af",
   "metadata": {},
   "outputs": [
    {
     "data": {
      "text/plain": [
       "Quantity_Ordered    AAA Batteries (4-pack)\n",
       "dtype: object"
      ]
     },
     "execution_count": 352,
     "metadata": {},
     "output_type": "execute_result"
    }
   ],
   "source": [
    "top_quantity_product =all_data.groupby('Product')\\\n",
    "                              .agg({'Quantity_Ordered':'sum'})\\\n",
    "                              .sort_values('Quantity_Ordered', ascending = False)\n",
    "top_quantity_product.idxmax()"
   ]
  },
  {
   "cell_type": "code",
   "execution_count": 353,
   "id": "344d9fa4",
   "metadata": {},
   "outputs": [
    {
     "data": {
      "text/plain": [
       "Quantity_Ordered    31017\n",
       "dtype: int64"
      ]
     },
     "execution_count": 353,
     "metadata": {},
     "output_type": "execute_result"
    }
   ],
   "source": [
    "top_quantity_product.max()"
   ]
  },
  {
   "cell_type": "code",
   "execution_count": 393,
   "id": "e1d21f3a",
   "metadata": {},
   "outputs": [
    {
     "data": {
      "image/png": "[encoded data removed]",
      "text/plain": [
       "<Figure size 1200x600 with 1 Axes>"
      ]
     },
     "metadata": {},
     "output_type": "display_data"
    }
   ],
   "source": [
    "visualization = top_quantity_product.reset_index()\n",
    "sns.barplot(data = visualization, x = 'Product', y = 'Quantity_Ordered', palette = 'rocket')\n",
    "\n",
    "plt.xticks(rotation = 90)\n",
    "plt.ylabel('Quantity sold')\n",
    "plt.title('Best product by number of sales')\n",
    "\n",
    "sns.set()"
   ]
  },
  {
   "cell_type": "markdown",
   "id": "d3a019a8",
   "metadata": {},
   "source": [
    "посчитаем частоты попадания категории товара в заказ"
   ]
  },
  {
   "cell_type": "code",
   "execution_count": 336,
   "id": "e8bfccc3",
   "metadata": {},
   "outputs": [
    {
     "data": {
      "text/html": [
       "<div>\n",
       "<style scoped>\n",
       "    .dataframe tbody tr th:only-of-type {\n",
       "        vertical-align: middle;\n",
       "    }\n",
       "\n",
       "    .dataframe tbody tr th {\n",
       "        vertical-align: top;\n",
       "    }\n",
       "\n",
       "    .dataframe thead th {\n",
       "        text-align: right;\n",
       "    }\n",
       "</style>\n",
       "<table border=\"1\" class=\"dataframe\">\n",
       "  <thead>\n",
       "    <tr style=\"text-align: right;\">\n",
       "      <th></th>\n",
       "      <th>USB-C Charging Cable</th>\n",
       "      <th>Lightning Charging Cable</th>\n",
       "      <th>AAA Batteries (4-pack)</th>\n",
       "      <th>AA Batteries (4-pack)</th>\n",
       "      <th>Wired Headphones</th>\n",
       "      <th>Apple Airpods Headphones</th>\n",
       "      <th>Bose SoundSport Headphones</th>\n",
       "      <th>27in FHD Monitor</th>\n",
       "      <th>iPhone</th>\n",
       "      <th>27in 4K Gaming Monitor</th>\n",
       "      <th>34in Ultrawide Monitor</th>\n",
       "      <th>Google Phone</th>\n",
       "      <th>Flatscreen TV</th>\n",
       "      <th>Macbook Pro Laptop</th>\n",
       "      <th>ThinkPad Laptop</th>\n",
       "      <th>20in Monitor</th>\n",
       "      <th>Vareebadd Phone</th>\n",
       "      <th>LG Washing Machine</th>\n",
       "      <th>LG Dryer</th>\n",
       "    </tr>\n",
       "  </thead>\n",
       "  <tbody>\n",
       "    <tr>\n",
       "      <th>Product</th>\n",
       "      <td>21903</td>\n",
       "      <td>21658</td>\n",
       "      <td>20641</td>\n",
       "      <td>20577</td>\n",
       "      <td>18882</td>\n",
       "      <td>15549</td>\n",
       "      <td>13325</td>\n",
       "      <td>7507</td>\n",
       "      <td>6842</td>\n",
       "      <td>6230</td>\n",
       "      <td>6181</td>\n",
       "      <td>5525</td>\n",
       "      <td>4800</td>\n",
       "      <td>4724</td>\n",
       "      <td>4128</td>\n",
       "      <td>4101</td>\n",
       "      <td>2065</td>\n",
       "      <td>666</td>\n",
       "      <td>646</td>\n",
       "    </tr>\n",
       "  </tbody>\n",
       "</table>\n",
       "</div>"
      ],
      "text/plain": [
       "         USB-C Charging Cable  Lightning Charging Cable  \\\n",
       "Product                 21903                     21658   \n",
       "\n",
       "         AAA Batteries (4-pack)  AA Batteries (4-pack)  Wired Headphones  \\\n",
       "Product                   20641                  20577             18882   \n",
       "\n",
       "         Apple Airpods Headphones  Bose SoundSport Headphones  \\\n",
       "Product                     15549                       13325   \n",
       "\n",
       "         27in FHD Monitor  iPhone  27in 4K Gaming Monitor  \\\n",
       "Product              7507    6842                    6230   \n",
       "\n",
       "         34in Ultrawide Monitor  Google Phone  Flatscreen TV  \\\n",
       "Product                    6181          5525           4800   \n",
       "\n",
       "         Macbook Pro Laptop  ThinkPad Laptop  20in Monitor  Vareebadd Phone  \\\n",
       "Product                4724             4128          4101             2065   \n",
       "\n",
       "         LG Washing Machine  LG Dryer  \n",
       "Product                 666       646  "
      ]
     },
     "execution_count": 336,
     "metadata": {},
     "output_type": "execute_result"
    }
   ],
   "source": [
    "all_data.Product.value_counts().to_frame().T"
   ]
  },
  {
   "cell_type": "code",
   "execution_count": 402,
   "id": "dcc7a31b",
   "metadata": {},
   "outputs": [
    {
     "data": {
      "image/png": "[encoded data removed]",
      "text/plain": [
       "<Figure size 1200x600 with 1 Axes>"
      ]
     },
     "metadata": {},
     "output_type": "display_data"
    }
   ],
   "source": [
    "top_frequency_product = all_data.groupby('Product', as_index = False)\\\n",
    "                              .agg({'Quantity_Ordered':'count'})\\\n",
    "                              .sort_values('Quantity_Ordered', ascending = False)\n",
    "\n",
    "top_frequency_product = top_frequency_product.reset_index()\n",
    "sns.barplot(data = top_frequency_product, x = 'Product', y = 'Quantity_Ordered', palette = 'mako')\n",
    "\n",
    "plt.xticks(rotation = 90)\n",
    "plt.ylabel(' Sales frequency')\n",
    "plt.title('Best product by sales frequency')\n",
    "\n",
    "sns.set()"
   ]
  },
  {
   "cell_type": "markdown",
   "id": "8f8cb068",
   "metadata": {},
   "source": [
    "Думаю что на вопрос \"Какой товар продается больше всего?\" может быть как товар который чаще попадает в заказ, так и товар которого больше по количеству в заказе.\n",
    "\n",
    "Таких товаров оказалось несколько: \n",
    "   - Чаще всего покупают USB-C Charging Cable\n",
    "       - А больше по количеству продано товара AAA Batteries (4-pack)\n",
    "\n",
    "Вероятно зарядные кабели (USB-C Charging Cable) покупают чаще потому что на фоне всего ассортимента товаров у них меньше всего срок службы поэтому их чаще остальных товаров заменяют на новые. А именно этот тип кабеля выбирают потому что он универсален и подходит к разным типам устройств , не только к телефону как например у iphone, чьи кабели не так универсальны и заняли 2-е место по частоте заказа.\n",
    "\n",
    "А Батарейки(AAA Batteries (4-pack)) покупают больше потому что это ААА самый стандартный тип батареек который чаще встречается например в домашней электроаппаратуре или приборах для туризма. Наша жизнь наполнена большим количеством такой техники."
   ]
  },
  {
   "cell_type": "markdown",
   "id": "7465a434",
   "metadata": {},
   "source": [
    "#### Итоги работы:\n",
    "       \n",
    "    Самое большое число данных о продажах за 2019 год поэтому сумма продаж больше именно в этом году, данные за 2020 год еще не полные для сравнения, ,удалось заработать за 2019 г = 34 483 365 usd\n",
    "    Лучшим месяцем оказался Декабрь с суммой продаж = 4 588 415 usd, вероятно из-за активных продаж перед праздником\n",
    "    Больше всего продаж было в San Francisco, этот штат занимает самую большую долю продаж во все месяца,его средняя сумма продаж на 14% выше среднего по всем штатам\n",
    "    Касательно продуктов больше всего покупают 2 товара :\n",
    "           -чаще выбирают - USB-C Charging Cable, \n",
    "           -большее количество покупают AAA Batteries (4-pack), на фоне других продуктов эти товары имеют меньший срок эксплуатации и больше распространены в быту.\n",
    "    Товары которые чаще попадают в один заказ это 'iPhone' и 'Lightning Charging Cable', потому что у iphone нет зарядного кабеля в комплекте и он допокупается отдельно.\n",
    "    Чтобы максимизировать продажи рекомендуется выкладывать рекламу с 9-10утра, вечернее время с 16-17ч также максимизирует продажи.\n",
    "       \n",
    "       \n",
    "       \n",
    "      "
   ]
  }
 ],
 "metadata": {
  "kernelspec": {
   "display_name": "Python 3 (ipykernel)",
   "language": "python",
   "name": "python3"
  },
  "language_info": {
   "codemirror_mode": {
    "name": "ipython",
    "version": 3
   },
   "file_extension": ".py",
   "mimetype": "text/x-python",
   "name": "python",
   "nbconvert_exporter": "python",
   "pygments_lexer": "ipython3",
   "version": "3.10.5"
  }
 },
 "nbformat": 4,
 "nbformat_minor": 5
}
