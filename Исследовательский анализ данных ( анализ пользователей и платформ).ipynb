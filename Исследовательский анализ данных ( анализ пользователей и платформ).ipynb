{
 "cells": [
  {
   "cell_type": "markdown",
   "id": "0f8bcb54",
   "metadata": {},
   "source": [
    "### Зададчи:\n",
    "\n",
    "**1.Проверьте размер таблицы, типы переменных, наличие пропущенных значений, описательную статистику.**\n",
    "\n",
    "**2.Какой клиент совершил больше всего успешных операций? (success == True)**\n",
    "\n",
    "**3.С какой платформы осуществляется наибольшее количество успешных операций?**\n",
    "\n",
    "**4.Какую платформу предпочитают премиумные клиенты?**\n",
    "\n",
    "**5.Визуализируйте распределение возраста клиентов в зависимости от типа клиента (премиум или нет)**\n",
    "\n",
    "**6.Постройте график распределения числа успешных операций**\n",
    "\n",
    "**7.Визуализируйте число успешных операций, сделанных на платформе computer, в зависимости от возраста, используя sns.countplot (x – возраст, y – число успешных операций). Клиенты какого возраста совершили наибольшее количество успешных действий?**"
   ]
  },
  {
   "cell_type": "markdown",
   "id": "3d31ac99",
   "metadata": {},
   "source": [
    "#### Откроем файлы и предобработаем"
   ]
  },
  {
   "cell_type": "code",
   "execution_count": 15,
   "id": "6f0c03ed",
   "metadata": {},
   "outputs": [],
   "source": [
    "import pandas as pd\n",
    "import seaborn as sns\n",
    "import matplotlib.pyplot as plt\n",
    "import warnings\n",
    "\n",
    "\n",
    "warnings.filterwarnings('ignore')\n",
    "\n",
    "sns.set(rc = {'figure.figsize':(6,4)})"
   ]
  },
  {
   "cell_type": "code",
   "execution_count": 3,
   "id": "9534d298",
   "metadata": {},
   "outputs": [],
   "source": [
    "users = pd.read_csv('/Users/v.obrosova/Documents/СТАТИСТИКА/csv/user_data.csv')\n",
    "logs = pd.read_csv('/Users/v.obrosova/Documents/СТАТИСТИКА/csv/logs.csv', parse_dates = ['time'])"
   ]
  },
  {
   "cell_type": "markdown",
   "id": "43a8780a",
   "metadata": {},
   "source": [
    "описание данных:\n",
    "#### user_data:\n",
    "\n",
    "**client** – идентификатор пользователя,\n",
    "\n",
    "**premium** – является ли клиент премиум\n",
    "\n",
    "**age** – возраст\n",
    "\n",
    "#### logs:\n",
    "\n",
    "**client** – идентификатор пользователя\n",
    "\n",
    "**success** – результат (успех - 1, нет - 0)\n",
    "\n",
    "**platform** – платформа\n",
    "\n",
    "**time** – время в формате Unix"
   ]
  },
  {
   "cell_type": "markdown",
   "id": "9de011a5",
   "metadata": {},
   "source": [
    "#### 1.Проверьте размер таблицы, типы переменных, наличие пропущенных значений, описательную статистику."
   ]
  },
  {
   "cell_type": "markdown",
   "id": "8622c9d7",
   "metadata": {},
   "source": [
    " - просмотрим пункты задания 1 для таблицы Users"
   ]
  },
  {
   "cell_type": "code",
   "execution_count": 4,
   "id": "74983031",
   "metadata": {},
   "outputs": [
    {
     "data": {
      "text/plain": [
       "(2954, 3)"
      ]
     },
     "execution_count": 4,
     "metadata": {},
     "output_type": "execute_result"
    }
   ],
   "source": [
    "users.shape"
   ]
  },
  {
   "cell_type": "code",
   "execution_count": 5,
   "id": "60947c08",
   "metadata": {},
   "outputs": [
    {
     "data": {
      "text/plain": [
       "client     int64\n",
       "premium     bool\n",
       "age        int64\n",
       "dtype: object"
      ]
     },
     "execution_count": 5,
     "metadata": {},
     "output_type": "execute_result"
    }
   ],
   "source": [
    "users.dtypes"
   ]
  },
  {
   "cell_type": "code",
   "execution_count": 6,
   "id": "3ede881f",
   "metadata": {},
   "outputs": [
    {
     "data": {
      "text/plain": [
       "client     0\n",
       "premium    0\n",
       "age        0\n",
       "dtype: int64"
      ]
     },
     "execution_count": 6,
     "metadata": {},
     "output_type": "execute_result"
    }
   ],
   "source": [
    "users.isna().sum()"
   ]
  },
  {
   "cell_type": "code",
   "execution_count": 12,
   "id": "9ee33be1",
   "metadata": {},
   "outputs": [
    {
     "data": {
      "text/plain": [
       "0"
      ]
     },
     "execution_count": 12,
     "metadata": {},
     "output_type": "execute_result"
    }
   ],
   "source": [
    "users.duplicated().sum()"
   ]
  },
  {
   "cell_type": "code",
   "execution_count": 7,
   "id": "abac1137",
   "metadata": {},
   "outputs": [
    {
     "data": {
      "text/html": [
       "<div>\n",
       "<style scoped>\n",
       "    .dataframe tbody tr th:only-of-type {\n",
       "        vertical-align: middle;\n",
       "    }\n",
       "\n",
       "    .dataframe tbody tr th {\n",
       "        vertical-align: top;\n",
       "    }\n",
       "\n",
       "    .dataframe thead th {\n",
       "        text-align: right;\n",
       "    }\n",
       "</style>\n",
       "<table border=\"1\" class=\"dataframe\">\n",
       "  <thead>\n",
       "    <tr style=\"text-align: right;\">\n",
       "      <th></th>\n",
       "      <th>client</th>\n",
       "      <th>age</th>\n",
       "    </tr>\n",
       "  </thead>\n",
       "  <tbody>\n",
       "    <tr>\n",
       "      <th>count</th>\n",
       "      <td>2954.000000</td>\n",
       "      <td>2954.000000</td>\n",
       "    </tr>\n",
       "    <tr>\n",
       "      <th>mean</th>\n",
       "      <td>50767.886594</td>\n",
       "      <td>44.196005</td>\n",
       "    </tr>\n",
       "    <tr>\n",
       "      <th>std</th>\n",
       "      <td>28800.505847</td>\n",
       "      <td>14.248336</td>\n",
       "    </tr>\n",
       "    <tr>\n",
       "      <th>min</th>\n",
       "      <td>40.000000</td>\n",
       "      <td>20.000000</td>\n",
       "    </tr>\n",
       "    <tr>\n",
       "      <th>25%</th>\n",
       "      <td>25639.500000</td>\n",
       "      <td>32.000000</td>\n",
       "    </tr>\n",
       "    <tr>\n",
       "      <th>50%</th>\n",
       "      <td>51569.500000</td>\n",
       "      <td>44.000000</td>\n",
       "    </tr>\n",
       "    <tr>\n",
       "      <th>75%</th>\n",
       "      <td>75963.250000</td>\n",
       "      <td>56.000000</td>\n",
       "    </tr>\n",
       "    <tr>\n",
       "      <th>max</th>\n",
       "      <td>99973.000000</td>\n",
       "      <td>69.000000</td>\n",
       "    </tr>\n",
       "  </tbody>\n",
       "</table>\n",
       "</div>"
      ],
      "text/plain": [
       "             client          age\n",
       "count   2954.000000  2954.000000\n",
       "mean   50767.886594    44.196005\n",
       "std    28800.505847    14.248336\n",
       "min       40.000000    20.000000\n",
       "25%    25639.500000    32.000000\n",
       "50%    51569.500000    44.000000\n",
       "75%    75963.250000    56.000000\n",
       "max    99973.000000    69.000000"
      ]
     },
     "execution_count": 7,
     "metadata": {},
     "output_type": "execute_result"
    }
   ],
   "source": [
    "users.describe()"
   ]
  },
  {
   "cell_type": "markdown",
   "id": "bf3ea209",
   "metadata": {},
   "source": [
    "- просмотрим те же пункты для таблицы logs"
   ]
  },
  {
   "cell_type": "code",
   "execution_count": 8,
   "id": "29bed7de",
   "metadata": {},
   "outputs": [
    {
     "data": {
      "text/plain": [
       "(4500, 4)"
      ]
     },
     "execution_count": 8,
     "metadata": {},
     "output_type": "execute_result"
    }
   ],
   "source": [
    "logs.shape"
   ]
  },
  {
   "cell_type": "code",
   "execution_count": 9,
   "id": "a756c4f0",
   "metadata": {},
   "outputs": [
    {
     "data": {
      "text/plain": [
       "client       int64\n",
       "success       bool\n",
       "platform    object\n",
       "time        object\n",
       "dtype: object"
      ]
     },
     "execution_count": 9,
     "metadata": {},
     "output_type": "execute_result"
    }
   ],
   "source": [
    "logs.dtypes"
   ]
  },
  {
   "cell_type": "code",
   "execution_count": 28,
   "id": "7636a512",
   "metadata": {},
   "outputs": [
    {
     "data": {
      "text/plain": [
       "client               int64\n",
       "success               bool\n",
       "platform            object\n",
       "time        datetime64[ns]\n",
       "dtype: object"
      ]
     },
     "execution_count": 28,
     "metadata": {},
     "output_type": "execute_result"
    }
   ],
   "source": [
    "logs['time'] = pd.to_datetime(logs.time, unit = 's')\n",
    "logs.dtypes"
   ]
  },
  {
   "cell_type": "code",
   "execution_count": 29,
   "id": "ffa5c386",
   "metadata": {},
   "outputs": [
    {
     "data": {
      "text/plain": [
       "client      0\n",
       "success     0\n",
       "platform    0\n",
       "time        0\n",
       "dtype: int64"
      ]
     },
     "execution_count": 29,
     "metadata": {},
     "output_type": "execute_result"
    }
   ],
   "source": [
    "logs.isna().sum()"
   ]
  },
  {
   "cell_type": "code",
   "execution_count": 13,
   "id": "56d07da3",
   "metadata": {},
   "outputs": [
    {
     "data": {
      "text/plain": [
       "0"
      ]
     },
     "execution_count": 13,
     "metadata": {},
     "output_type": "execute_result"
    }
   ],
   "source": [
    "users.duplicated().sum()"
   ]
  },
  {
   "cell_type": "code",
   "execution_count": 30,
   "id": "44695851",
   "metadata": {},
   "outputs": [
    {
     "data": {
      "text/html": [
       "<div>\n",
       "<style scoped>\n",
       "    .dataframe tbody tr th:only-of-type {\n",
       "        vertical-align: middle;\n",
       "    }\n",
       "\n",
       "    .dataframe tbody tr th {\n",
       "        vertical-align: top;\n",
       "    }\n",
       "\n",
       "    .dataframe thead th {\n",
       "        text-align: right;\n",
       "    }\n",
       "</style>\n",
       "<table border=\"1\" class=\"dataframe\">\n",
       "  <thead>\n",
       "    <tr style=\"text-align: right;\">\n",
       "      <th></th>\n",
       "      <th>client</th>\n",
       "    </tr>\n",
       "  </thead>\n",
       "  <tbody>\n",
       "    <tr>\n",
       "      <th>count</th>\n",
       "      <td>4500.000000</td>\n",
       "    </tr>\n",
       "    <tr>\n",
       "      <th>mean</th>\n",
       "      <td>50998.758000</td>\n",
       "    </tr>\n",
       "    <tr>\n",
       "      <th>std</th>\n",
       "      <td>28374.472495</td>\n",
       "    </tr>\n",
       "    <tr>\n",
       "      <th>min</th>\n",
       "      <td>40.000000</td>\n",
       "    </tr>\n",
       "    <tr>\n",
       "      <th>25%</th>\n",
       "      <td>27056.500000</td>\n",
       "    </tr>\n",
       "    <tr>\n",
       "      <th>50%</th>\n",
       "      <td>52659.000000</td>\n",
       "    </tr>\n",
       "    <tr>\n",
       "      <th>75%</th>\n",
       "      <td>76001.250000</td>\n",
       "    </tr>\n",
       "    <tr>\n",
       "      <th>max</th>\n",
       "      <td>99993.000000</td>\n",
       "    </tr>\n",
       "  </tbody>\n",
       "</table>\n",
       "</div>"
      ],
      "text/plain": [
       "             client\n",
       "count   4500.000000\n",
       "mean   50998.758000\n",
       "std    28374.472495\n",
       "min       40.000000\n",
       "25%    27056.500000\n",
       "50%    52659.000000\n",
       "75%    76001.250000\n",
       "max    99993.000000"
      ]
     },
     "execution_count": 30,
     "metadata": {},
     "output_type": "execute_result"
    }
   ],
   "source": [
    "logs.describe()"
   ]
  },
  {
   "cell_type": "markdown",
   "id": "a1746168",
   "metadata": {},
   "source": [
    "по итогу 1 шага : \n",
    "\n",
    "    - дубликатов и пропущенных значений не обнаружено \n",
    "    \n",
    "    - изменен типа данных столбца даты в датафрейме logs\n",
    "    \n",
    "    - в датафрейме users 2954 строки и 3 колонки\n",
    "    \n",
    "      в logs 4500 строки и 4 колонки"
   ]
  },
  {
   "cell_type": "markdown",
   "id": "87962b86",
   "metadata": {},
   "source": [
    "#### 2.Какой клиент совершил больше всего успешных операций? (success == True)\n",
    "-сгруппиурем клиентов и посчитаем кол-во успешных операции для каждого клиента\n"
   ]
  },
  {
   "cell_type": "code",
   "execution_count": 76,
   "id": "ac6ec192",
   "metadata": {},
   "outputs": [
    {
     "data": {
      "text/html": [
       "<div>\n",
       "<style scoped>\n",
       "    .dataframe tbody tr th:only-of-type {\n",
       "        vertical-align: middle;\n",
       "    }\n",
       "\n",
       "    .dataframe tbody tr th {\n",
       "        vertical-align: top;\n",
       "    }\n",
       "\n",
       "    .dataframe thead th {\n",
       "        text-align: right;\n",
       "    }\n",
       "</style>\n",
       "<table border=\"1\" class=\"dataframe\">\n",
       "  <thead>\n",
       "    <tr style=\"text-align: right;\">\n",
       "      <th></th>\n",
       "      <th>client</th>\n",
       "      <th>success_number</th>\n",
       "    </tr>\n",
       "  </thead>\n",
       "  <tbody>\n",
       "    <tr>\n",
       "      <th>332</th>\n",
       "      <td>12179</td>\n",
       "      <td>41</td>\n",
       "    </tr>\n",
       "    <tr>\n",
       "      <th>1758</th>\n",
       "      <td>61468</td>\n",
       "      <td>41</td>\n",
       "    </tr>\n",
       "    <tr>\n",
       "      <th>1487</th>\n",
       "      <td>52870</td>\n",
       "      <td>41</td>\n",
       "    </tr>\n",
       "    <tr>\n",
       "      <th>1759</th>\n",
       "      <td>61473</td>\n",
       "      <td>41</td>\n",
       "    </tr>\n",
       "    <tr>\n",
       "      <th>2626</th>\n",
       "      <td>92584</td>\n",
       "      <td>41</td>\n",
       "    </tr>\n",
       "    <tr>\n",
       "      <th>2345</th>\n",
       "      <td>82563</td>\n",
       "      <td>41</td>\n",
       "    </tr>\n",
       "    <tr>\n",
       "      <th>2231</th>\n",
       "      <td>78349</td>\n",
       "      <td>41</td>\n",
       "    </tr>\n",
       "    <tr>\n",
       "      <th>1020</th>\n",
       "      <td>36165</td>\n",
       "      <td>41</td>\n",
       "    </tr>\n",
       "    <tr>\n",
       "      <th>810</th>\n",
       "      <td>28719</td>\n",
       "      <td>41</td>\n",
       "    </tr>\n",
       "    <tr>\n",
       "      <th>1826</th>\n",
       "      <td>64064</td>\n",
       "      <td>40</td>\n",
       "    </tr>\n",
       "  </tbody>\n",
       "</table>\n",
       "</div>"
      ],
      "text/plain": [
       "      client  success_number\n",
       "332    12179              41\n",
       "1758   61468              41\n",
       "1487   52870              41\n",
       "1759   61473              41\n",
       "2626   92584              41\n",
       "2345   82563              41\n",
       "2231   78349              41\n",
       "1020   36165              41\n",
       "810    28719              41\n",
       "1826   64064              40"
      ]
     },
     "execution_count": 76,
     "metadata": {},
     "output_type": "execute_result"
    }
   ],
   "source": [
    "success_number = logs.query('success == True')\\\n",
    "                     .groupby('client', as_index = False)\\\n",
    "                     .agg({'success':'count'})\\\n",
    "                     .rename(columns={'success':'success_number'})\\\n",
    "                     .sort_values('success_number', ascending = False)\n",
    "success_number.head(10)"
   ]
  },
  {
   "cell_type": "code",
   "execution_count": 81,
   "id": "216f2c15",
   "metadata": {},
   "outputs": [],
   "source": [
    "maximum_succes = success_number.success_number.max()"
   ]
  },
  {
   "cell_type": "code",
   "execution_count": 86,
   "id": "2a441934",
   "metadata": {},
   "outputs": [
    {
     "data": {
      "text/plain": [
       "[12179, 61468, 52870, 61473, 92584, 82563, 78349, 36165, 28719]"
      ]
     },
     "execution_count": 86,
     "metadata": {},
     "output_type": "execute_result"
    }
   ],
   "source": [
    "success_clients = success_number.query('success_number == @maximum_succes')\\\n",
    "                                .client\\\n",
    "                                .tolist()\n",
    "success_clients"
   ]
  },
  {
   "cell_type": "markdown",
   "id": "55252680",
   "metadata": {},
   "source": [
    "#### вывод : большее кол-во успешных операции у 10 клиентов c ID =  12179, 61468, 52870, 61473, 92584, 82563, 78349, 36165, 28719"
   ]
  },
  {
   "cell_type": "markdown",
   "id": "8ee7926b",
   "metadata": {},
   "source": [
    "#### 3.С какой платформы осуществляется наибольшее количество успешных операций?\n",
    "сгруппируем данные по платформам и подсчтаем число успешных операций"
   ]
  },
  {
   "cell_type": "code",
   "execution_count": 101,
   "id": "4c06a99f",
   "metadata": {},
   "outputs": [
    {
     "data": {
      "text/plain": [
       "phone       2019\n",
       "computer    1090\n",
       "tablet       180\n",
       "Name: platform, dtype: int64"
      ]
     },
     "execution_count": 101,
     "metadata": {},
     "output_type": "execute_result"
    }
   ],
   "source": [
    "succcess_platform = logs.query('success == True')\\\n",
    "                        .platform.value_counts()\n",
    "succcess_platform"
   ]
  },
  {
   "cell_type": "code",
   "execution_count": 106,
   "id": "012941b7",
   "metadata": {},
   "outputs": [
    {
     "data": {
      "text/plain": [
       "'phone'"
      ]
     },
     "execution_count": 106,
     "metadata": {},
     "output_type": "execute_result"
    }
   ],
   "source": [
    "succcess_platform.idxmax()"
   ]
  },
  {
   "cell_type": "markdown",
   "id": "416573c4",
   "metadata": {},
   "source": [
    "#### вывд: c платормы 'phone' осуществляется большее число успешных операций"
   ]
  },
  {
   "cell_type": "markdown",
   "id": "0bd9e065",
   "metadata": {},
   "source": [
    "#### 4.Какую платформу предпочитают премиумные клиенты?\n",
    "\n",
    "необходимо обьединить таблицы для ответа на этот вопрос, обьединю функцией merge()\n"
   ]
  },
  {
   "cell_type": "code",
   "execution_count": 112,
   "id": "11ba0e96",
   "metadata": {},
   "outputs": [
    {
     "data": {
      "text/html": [
       "<div>\n",
       "<style scoped>\n",
       "    .dataframe tbody tr th:only-of-type {\n",
       "        vertical-align: middle;\n",
       "    }\n",
       "\n",
       "    .dataframe tbody tr th {\n",
       "        vertical-align: top;\n",
       "    }\n",
       "\n",
       "    .dataframe thead th {\n",
       "        text-align: right;\n",
       "    }\n",
       "</style>\n",
       "<table border=\"1\" class=\"dataframe\">\n",
       "  <thead>\n",
       "    <tr style=\"text-align: right;\">\n",
       "      <th></th>\n",
       "      <th>client</th>\n",
       "      <th>premium</th>\n",
       "      <th>age</th>\n",
       "      <th>success</th>\n",
       "      <th>platform</th>\n",
       "      <th>time</th>\n",
       "    </tr>\n",
       "  </thead>\n",
       "  <tbody>\n",
       "    <tr>\n",
       "      <th>0</th>\n",
       "      <td>46346</td>\n",
       "      <td>False</td>\n",
       "      <td>58</td>\n",
       "      <td>True</td>\n",
       "      <td>phone</td>\n",
       "      <td>2020-03-29 03:33:59</td>\n",
       "    </tr>\n",
       "    <tr>\n",
       "      <th>1</th>\n",
       "      <td>4391</td>\n",
       "      <td>False</td>\n",
       "      <td>55</td>\n",
       "      <td>False</td>\n",
       "      <td>phone</td>\n",
       "      <td>2020-03-28 15:37:41</td>\n",
       "    </tr>\n",
       "    <tr>\n",
       "      <th>2</th>\n",
       "      <td>27372</td>\n",
       "      <td>False</td>\n",
       "      <td>64</td>\n",
       "      <td>False</td>\n",
       "      <td>phone</td>\n",
       "      <td>2020-03-29 01:40:18</td>\n",
       "    </tr>\n",
       "    <tr>\n",
       "      <th>3</th>\n",
       "      <td>11989</td>\n",
       "      <td>False</td>\n",
       "      <td>44</td>\n",
       "      <td>True</td>\n",
       "      <td>computer</td>\n",
       "      <td>2020-03-28 13:54:58</td>\n",
       "    </tr>\n",
       "    <tr>\n",
       "      <th>4</th>\n",
       "      <td>60664</td>\n",
       "      <td>False</td>\n",
       "      <td>49</td>\n",
       "      <td>True</td>\n",
       "      <td>phone</td>\n",
       "      <td>2020-03-28 14:48:38</td>\n",
       "    </tr>\n",
       "  </tbody>\n",
       "</table>\n",
       "</div>"
      ],
      "text/plain": [
       "   client  premium  age  success  platform                time\n",
       "0   46346    False   58     True     phone 2020-03-29 03:33:59\n",
       "1    4391    False   55    False     phone 2020-03-28 15:37:41\n",
       "2   27372    False   64    False     phone 2020-03-29 01:40:18\n",
       "3   11989    False   44     True  computer 2020-03-28 13:54:58\n",
       "4   60664    False   49     True     phone 2020-03-28 14:48:38"
      ]
     },
     "execution_count": 112,
     "metadata": {},
     "output_type": "execute_result"
    }
   ],
   "source": [
    "own = users.merge(logs, on = 'client')\n",
    "own.head()"
   ]
  },
  {
   "cell_type": "code",
   "execution_count": 118,
   "id": "bbcd7c23",
   "metadata": {},
   "outputs": [
    {
     "data": {
      "text/plain": [
       "phone       246\n",
       "computer    150\n",
       "tablet       24\n",
       "Name: platform, dtype: int64"
      ]
     },
     "execution_count": 118,
     "metadata": {},
     "output_type": "execute_result"
    }
   ],
   "source": [
    "premiums_platform = own.query('premium == True').platform.value_counts()\n",
    "premiums_platform"
   ]
  },
  {
   "cell_type": "code",
   "execution_count": 119,
   "id": "b1c6b692",
   "metadata": {},
   "outputs": [
    {
     "data": {
      "text/plain": [
       "'phone'"
      ]
     },
     "execution_count": 119,
     "metadata": {},
     "output_type": "execute_result"
    }
   ],
   "source": [
    "premiums_platform.idxmax()"
   ]
  },
  {
   "cell_type": "markdown",
   "id": "97b1b924",
   "metadata": {},
   "source": [
    "#### самое большое число премиумных клиентов с платформы 'phone'"
   ]
  },
  {
   "cell_type": "markdown",
   "id": "ddd68bad",
   "metadata": {},
   "source": [
    "#### 5.Визуализируйте распределение возраста клиентов в зависимости от типа клиента (премиум или нет)"
   ]
  },
  {
   "cell_type": "code",
   "execution_count": 121,
   "id": "590786ea",
   "metadata": {},
   "outputs": [
    {
     "data": {
      "text/html": [
       "<div>\n",
       "<style scoped>\n",
       "    .dataframe tbody tr th:only-of-type {\n",
       "        vertical-align: middle;\n",
       "    }\n",
       "\n",
       "    .dataframe tbody tr th {\n",
       "        vertical-align: top;\n",
       "    }\n",
       "\n",
       "    .dataframe thead th {\n",
       "        text-align: right;\n",
       "    }\n",
       "</style>\n",
       "<table border=\"1\" class=\"dataframe\">\n",
       "  <thead>\n",
       "    <tr style=\"text-align: right;\">\n",
       "      <th></th>\n",
       "      <th>client</th>\n",
       "      <th>premium</th>\n",
       "      <th>age</th>\n",
       "      <th>success</th>\n",
       "      <th>platform</th>\n",
       "      <th>time</th>\n",
       "    </tr>\n",
       "  </thead>\n",
       "  <tbody>\n",
       "    <tr>\n",
       "      <th>0</th>\n",
       "      <td>46346</td>\n",
       "      <td>False</td>\n",
       "      <td>58</td>\n",
       "      <td>True</td>\n",
       "      <td>phone</td>\n",
       "      <td>2020-03-29 03:33:59</td>\n",
       "    </tr>\n",
       "    <tr>\n",
       "      <th>1</th>\n",
       "      <td>4391</td>\n",
       "      <td>False</td>\n",
       "      <td>55</td>\n",
       "      <td>False</td>\n",
       "      <td>phone</td>\n",
       "      <td>2020-03-28 15:37:41</td>\n",
       "    </tr>\n",
       "    <tr>\n",
       "      <th>2</th>\n",
       "      <td>27372</td>\n",
       "      <td>False</td>\n",
       "      <td>64</td>\n",
       "      <td>False</td>\n",
       "      <td>phone</td>\n",
       "      <td>2020-03-29 01:40:18</td>\n",
       "    </tr>\n",
       "    <tr>\n",
       "      <th>3</th>\n",
       "      <td>11989</td>\n",
       "      <td>False</td>\n",
       "      <td>44</td>\n",
       "      <td>True</td>\n",
       "      <td>computer</td>\n",
       "      <td>2020-03-28 13:54:58</td>\n",
       "    </tr>\n",
       "    <tr>\n",
       "      <th>4</th>\n",
       "      <td>60664</td>\n",
       "      <td>False</td>\n",
       "      <td>49</td>\n",
       "      <td>True</td>\n",
       "      <td>phone</td>\n",
       "      <td>2020-03-28 14:48:38</td>\n",
       "    </tr>\n",
       "  </tbody>\n",
       "</table>\n",
       "</div>"
      ],
      "text/plain": [
       "   client  premium  age  success  platform                time\n",
       "0   46346    False   58     True     phone 2020-03-29 03:33:59\n",
       "1    4391    False   55    False     phone 2020-03-28 15:37:41\n",
       "2   27372    False   64    False     phone 2020-03-29 01:40:18\n",
       "3   11989    False   44     True  computer 2020-03-28 13:54:58\n",
       "4   60664    False   49     True     phone 2020-03-28 14:48:38"
      ]
     },
     "execution_count": 121,
     "metadata": {},
     "output_type": "execute_result"
    }
   ],
   "source": [
    "own.head()"
   ]
  },
  {
   "cell_type": "code",
   "execution_count": 147,
   "id": "822e98af",
   "metadata": {},
   "outputs": [
    {
     "data": {
      "text/plain": [
       "False    3019\n",
       "True      420\n",
       "Name: premium, dtype: int64"
      ]
     },
     "execution_count": 147,
     "metadata": {},
     "output_type": "execute_result"
    }
   ],
   "source": [
    "own.premium.value_counts()"
   ]
  },
  {
   "cell_type": "code",
   "execution_count": 156,
   "id": "e5093bbc",
   "metadata": {},
   "outputs": [
    {
     "data": {
      "image/png": "[encoded data removed]",
      "text/plain": [
       "<Figure size 592.5x500 with 1 Axes>"
      ]
     },
     "metadata": {},
     "output_type": "display_data"
    }
   ],
   "source": [
    "sns.displot(data = own, x = 'age',\n",
    "                    hue = 'premium',\n",
    "                    palette = ['r', 'b'],\n",
    "                    alpha = 0.3,\n",
    "                    kde = False)\n",
    "plt.grid()"
   ]
  },
  {
   "cell_type": "markdown",
   "id": "f98bdc48",
   "metadata": {},
   "source": [
    "-изходя из данных видем что число клиентов без премиум функции меньше чем число премиум клиентов.\n",
    "\n",
    "-распределение возраста у клиентов без премиум функции более ровное.\n",
    "\n",
    "-самое большое число премиум клиентов среди 70 лет"
   ]
  },
  {
   "cell_type": "markdown",
   "id": "5cd0661a",
   "metadata": {},
   "source": [
    "#### 6.Постройте график распределения числа успешных операций"
   ]
  },
  {
   "cell_type": "code",
   "execution_count": 17,
   "id": "46f3e333",
   "metadata": {},
   "outputs": [
    {
     "data": {
      "image/png": "[encoded data removed]",
      "text/plain": [
       "<Figure size 600x400 with 1 Axes>"
      ]
     },
     "metadata": {},
     "output_type": "display_data"
    }
   ],
   "source": [
    "sns.histplot(logs.success)\n",
    "sns.set()"
   ]
  },
  {
   "cell_type": "markdown",
   "id": "b9bd9d52",
   "metadata": {},
   "source": [
    "#### 7.Визуализируйте число успешных операций, сделанных на платформе computer, в зависимости от возраста,\n",
    "\n",
    "\n",
    "Клиенты какого возраста совершили наибольшее количество успешных действий?"
   ]
  },
  {
   "cell_type": "code",
   "execution_count": 215,
   "id": "fff6eb71",
   "metadata": {},
   "outputs": [
    {
     "data": {
      "text/html": [
       "<div>\n",
       "<style scoped>\n",
       "    .dataframe tbody tr th:only-of-type {\n",
       "        vertical-align: middle;\n",
       "    }\n",
       "\n",
       "    .dataframe tbody tr th {\n",
       "        vertical-align: top;\n",
       "    }\n",
       "\n",
       "    .dataframe thead th {\n",
       "        text-align: right;\n",
       "    }\n",
       "</style>\n",
       "<table border=\"1\" class=\"dataframe\">\n",
       "  <thead>\n",
       "    <tr style=\"text-align: right;\">\n",
       "      <th></th>\n",
       "      <th>age</th>\n",
       "      <th>success</th>\n",
       "    </tr>\n",
       "  </thead>\n",
       "  <tbody>\n",
       "    <tr>\n",
       "      <th>0</th>\n",
       "      <td>20</td>\n",
       "      <td>11</td>\n",
       "    </tr>\n",
       "    <tr>\n",
       "      <th>1</th>\n",
       "      <td>21</td>\n",
       "      <td>15</td>\n",
       "    </tr>\n",
       "    <tr>\n",
       "      <th>2</th>\n",
       "      <td>22</td>\n",
       "      <td>8</td>\n",
       "    </tr>\n",
       "    <tr>\n",
       "      <th>3</th>\n",
       "      <td>23</td>\n",
       "      <td>15</td>\n",
       "    </tr>\n",
       "    <tr>\n",
       "      <th>4</th>\n",
       "      <td>24</td>\n",
       "      <td>26</td>\n",
       "    </tr>\n",
       "  </tbody>\n",
       "</table>\n",
       "</div>"
      ],
      "text/plain": [
       "   age  success\n",
       "0   20       11\n",
       "1   21       15\n",
       "2   22        8\n",
       "3   23       15\n",
       "4   24       26"
      ]
     },
     "execution_count": 215,
     "metadata": {},
     "output_type": "execute_result"
    }
   ],
   "source": [
    "success_computer = own.query('platform == \"computer\" & success == True')\\\n",
    "                      .groupby('age', as_index = False)\\\n",
    "                      .agg({'success':'count'})\n",
    "success_computer.head()"
   ]
  },
  {
   "cell_type": "code",
   "execution_count": 212,
   "id": "0e05ed91",
   "metadata": {},
   "outputs": [
    {
     "data": {
      "image/png": "[encoded data removed]",
      "text/plain": [
       "<Figure size 1200x1000 with 1 Axes>"
      ]
     },
     "metadata": {},
     "output_type": "display_data"
    }
   ],
   "source": [
    "sns.barplot(x = success_computer.age, y = success_computer.success)\n",
    "sns.set(rc = {'figure.figsize':(14,10)})"
   ]
  },
  {
   "cell_type": "code",
   "execution_count": 245,
   "id": "d8a2ca49",
   "metadata": {},
   "outputs": [
    {
     "data": {
      "text/plain": [
       "28"
      ]
     },
     "execution_count": 245,
     "metadata": {},
     "output_type": "execute_result"
    }
   ],
   "source": [
    "top_age = own.query('platform == \"computer\" & success == True')\\\n",
    "             .age.value_counts()\\\n",
    "             .idxmax()\n",
    "top_age"
   ]
  },
  {
   "cell_type": "markdown",
   "id": "01abd22e",
   "metadata": {},
   "source": [
    "Максимальное число успешных операции у клиентов возраста 28 лет"
   ]
  },
  {
   "cell_type": "markdown",
   "id": "bd479bf2",
   "metadata": {},
   "source": [
    "По итогам работы удалось узнать что :\n",
    "   - большее кол-во успешных операции у 10 клиентов c ID = 12179, 61468, 52870, 61473, 92584, 82563, 78349, 36165, 28719\n",
    "   -  c платормы 'phone' осуществляется большее число успешных операций, и этой платформы больше всего премиум клиентов\n",
    "   - самое большое число премиум клиентов среди 70 лет\n",
    "   - а самое большое число успешных операции совершают пользователи 24-25, 28 и 49 лет\n",
    "   - самое наименьшее число операций среди пользователей 22, 30, 53,56 лет."
   ]
  }
 ],
 "metadata": {
  "kernelspec": {
   "display_name": "Python 3 (ipykernel)",
   "language": "python",
   "name": "python3"
  },
  "language_info": {
   "codemirror_mode": {
    "name": "ipython",
    "version": 3
   },
   "file_extension": ".py",
   "mimetype": "text/x-python",
   "name": "python",
   "nbconvert_exporter": "python",
   "pygments_lexer": "ipython3",
   "version": "3.10.5"
  }
 },
 "nbformat": 4,
 "nbformat_minor": 5
}
