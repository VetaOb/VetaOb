{
 "cells": [
  {
   "cell_type": "markdown",
   "id": "1aa53f4b",
   "metadata": {},
   "source": [
    "## Описание проекта\n",
    "\n",
    "#### Данные взаимодействий с рекламными объявлениями на некоторой площадке за 6 дней \n",
    "----------------------------------------------------------------------------------------------------------------\n",
    "\n",
    "1. Разберемся с распределением количества показов и кликов. Посчитайте среднее количество показов и среднее количество кликов на объявления за весь период (округлите до целых).\n",
    "\n",
    "2. Нарисуйте график распределения показов на объявление за весь период.\n",
    "\n",
    "3. А теперь давайте посчитаем скользящее среднее показов с окном 2. Какое значение скользящего среднего получим за 6 апреля 2019 года (ответ округлите до целых)?\n",
    "\n",
    "4. Скользящее среднее часто используется для поиска аномалий в данных. Давайте попробуем нанести на один график значения арифметического среднего по дням и скользящего среднего количества показов. В какой день наблюдается наибольшая разница по модулю между арифметическим средним и скользящим средним? Дни, в которых скользящее среднее равно NaN, не учитываем. \n",
    "\n",
    "5. Найдите проблемное объявление (с наибольшим/наименишим количеством показов) в день, в который была замечена самая большая по модулю аномалия. \n"
   ]
  },
  {
   "cell_type": "markdown",
   "id": "3722a05b",
   "metadata": {},
   "source": [
    " **описание данных:**\n",
    " \n",
    "ads_data.csv – данные взаимодействий с рекламными объявлениями\n",
    "\n",
    "- date – дата\n",
    "\n",
    "- time – время\n",
    "\n",
    "- event – действие (просмотр/клик)\n",
    "\n",
    "- platform – платформа\n",
    "\n",
    "- ad_id – id объявления\n",
    "\n",
    "- client_union_id – id рекламного кабинета\n",
    "\n",
    "- campaign_union_id – id рекламной кампании\n",
    "\n",
    "- ad_cost_type – тип оплаты\n",
    "\n",
    "- ad_cost – цена\n",
    "\n",
    "- has_video – есть ли видео\n",
    "\n",
    "- target_audience_count – размер аудитории\n"
   ]
  },
  {
   "cell_type": "markdown",
   "id": "5734e069",
   "metadata": {},
   "source": [
    "#### Откроем файлы и продобработаем данные "
   ]
  },
  {
   "cell_type": "code",
   "execution_count": 190,
   "id": "2f539b93",
   "metadata": {},
   "outputs": [],
   "source": [
    "import pandas as pd\n",
    "import seaborn as sns\n",
    "import matplotlib.pyplot as plt\n",
    "import os\n",
    "import warnings\n",
    "import numpy as np\n",
    "\n",
    "warnings.filterwarnings('ignore')\n",
    "%matplotlib inline"
   ]
  },
  {
   "cell_type": "code",
   "execution_count": 191,
   "id": "297e9efc",
   "metadata": {},
   "outputs": [
    {
     "data": {
      "text/html": [
       "<div>\n",
       "<style scoped>\n",
       "    .dataframe tbody tr th:only-of-type {\n",
       "        vertical-align: middle;\n",
       "    }\n",
       "\n",
       "    .dataframe tbody tr th {\n",
       "        vertical-align: top;\n",
       "    }\n",
       "\n",
       "    .dataframe thead th {\n",
       "        text-align: right;\n",
       "    }\n",
       "</style>\n",
       "<table border=\"1\" class=\"dataframe\">\n",
       "  <thead>\n",
       "    <tr style=\"text-align: right;\">\n",
       "      <th></th>\n",
       "      <th>date</th>\n",
       "      <th>time</th>\n",
       "      <th>event</th>\n",
       "      <th>platform</th>\n",
       "      <th>ad_id</th>\n",
       "      <th>client_union_id</th>\n",
       "      <th>campaign_union_id</th>\n",
       "      <th>ad_cost_type</th>\n",
       "      <th>ad_cost</th>\n",
       "      <th>has_video</th>\n",
       "      <th>target_audience_count</th>\n",
       "    </tr>\n",
       "  </thead>\n",
       "  <tbody>\n",
       "    <tr>\n",
       "      <th>0</th>\n",
       "      <td>2019-04-01</td>\n",
       "      <td>2019-04-01 00:00:48</td>\n",
       "      <td>view</td>\n",
       "      <td>android</td>\n",
       "      <td>45061</td>\n",
       "      <td>34734</td>\n",
       "      <td>45061</td>\n",
       "      <td>CPM</td>\n",
       "      <td>200.6</td>\n",
       "      <td>0</td>\n",
       "      <td>1955269</td>\n",
       "    </tr>\n",
       "    <tr>\n",
       "      <th>1</th>\n",
       "      <td>2019-04-01</td>\n",
       "      <td>2019-04-01 00:00:48</td>\n",
       "      <td>view</td>\n",
       "      <td>web</td>\n",
       "      <td>121288</td>\n",
       "      <td>121288</td>\n",
       "      <td>121288</td>\n",
       "      <td>CPM</td>\n",
       "      <td>187.4</td>\n",
       "      <td>0</td>\n",
       "      <td>232011</td>\n",
       "    </tr>\n",
       "    <tr>\n",
       "      <th>2</th>\n",
       "      <td>2019-04-01</td>\n",
       "      <td>2019-04-01 00:01:03</td>\n",
       "      <td>view</td>\n",
       "      <td>android</td>\n",
       "      <td>102737</td>\n",
       "      <td>102535</td>\n",
       "      <td>102564</td>\n",
       "      <td>CPC</td>\n",
       "      <td>60.7</td>\n",
       "      <td>0</td>\n",
       "      <td>4410</td>\n",
       "    </tr>\n",
       "    <tr>\n",
       "      <th>3</th>\n",
       "      <td>2019-04-01</td>\n",
       "      <td>2019-04-01 00:01:03</td>\n",
       "      <td>view</td>\n",
       "      <td>android</td>\n",
       "      <td>107564</td>\n",
       "      <td>106914</td>\n",
       "      <td>107564</td>\n",
       "      <td>CPM</td>\n",
       "      <td>217.3</td>\n",
       "      <td>0</td>\n",
       "      <td>62711</td>\n",
       "    </tr>\n",
       "    <tr>\n",
       "      <th>4</th>\n",
       "      <td>2019-04-01</td>\n",
       "      <td>2019-04-01 00:01:09</td>\n",
       "      <td>view</td>\n",
       "      <td>android</td>\n",
       "      <td>4922</td>\n",
       "      <td>37</td>\n",
       "      <td>4400</td>\n",
       "      <td>CPC</td>\n",
       "      <td>60.1</td>\n",
       "      <td>0</td>\n",
       "      <td>1183501</td>\n",
       "    </tr>\n",
       "  </tbody>\n",
       "</table>\n",
       "</div>"
      ],
      "text/plain": [
       "         date                 time event platform   ad_id  client_union_id  \\\n",
       "0  2019-04-01  2019-04-01 00:00:48  view  android   45061            34734   \n",
       "1  2019-04-01  2019-04-01 00:00:48  view      web  121288           121288   \n",
       "2  2019-04-01  2019-04-01 00:01:03  view  android  102737           102535   \n",
       "3  2019-04-01  2019-04-01 00:01:03  view  android  107564           106914   \n",
       "4  2019-04-01  2019-04-01 00:01:09  view  android    4922               37   \n",
       "\n",
       "   campaign_union_id ad_cost_type  ad_cost  has_video  target_audience_count  \n",
       "0              45061          CPM    200.6          0                1955269  \n",
       "1             121288          CPM    187.4          0                 232011  \n",
       "2             102564          CPC     60.7          0                   4410  \n",
       "3             107564          CPM    217.3          0                  62711  \n",
       "4               4400          CPC     60.1          0                1183501  "
      ]
     },
     "execution_count": 191,
     "metadata": {},
     "output_type": "execute_result"
    }
   ],
   "source": [
    "ads_data = pd.read_csv('/Users/v.obrosova/Documents/СТАТИСТИКА/csv/ads/ads_data.csv')\n",
    "ads_data.head()"
   ]
  },
  {
   "cell_type": "code",
   "execution_count": 192,
   "id": "3c9fbacc",
   "metadata": {
    "scrolled": true
   },
   "outputs": [
    {
     "data": {
      "text/plain": [
       "(1000000, 11)"
      ]
     },
     "execution_count": 192,
     "metadata": {},
     "output_type": "execute_result"
    }
   ],
   "source": [
    "ads_data.shape"
   ]
  },
  {
   "cell_type": "code",
   "execution_count": 195,
   "id": "2f17d986",
   "metadata": {},
   "outputs": [
    {
     "data": {
      "text/plain": [
       "date                     0\n",
       "time                     0\n",
       "event                    0\n",
       "platform                 0\n",
       "ad_id                    0\n",
       "client_union_id          0\n",
       "campaign_union_id        0\n",
       "ad_cost_type             0\n",
       "ad_cost                  0\n",
       "has_video                0\n",
       "target_audience_count    0\n",
       "dtype: int64"
      ]
     },
     "execution_count": 195,
     "metadata": {},
     "output_type": "execute_result"
    }
   ],
   "source": [
    "ads_data.isna().sum()"
   ]
  },
  {
   "cell_type": "markdown",
   "id": "4a729464",
   "metadata": {},
   "source": [
    "**создадим новую колонку с датой без времени, для удобства дальнейшей работы**"
   ]
  },
  {
   "cell_type": "code",
   "execution_count": 198,
   "id": "f73d7916",
   "metadata": {},
   "outputs": [
    {
     "data": {
      "text/html": [
       "<div>\n",
       "<style scoped>\n",
       "    .dataframe tbody tr th:only-of-type {\n",
       "        vertical-align: middle;\n",
       "    }\n",
       "\n",
       "    .dataframe tbody tr th {\n",
       "        vertical-align: top;\n",
       "    }\n",
       "\n",
       "    .dataframe thead th {\n",
       "        text-align: right;\n",
       "    }\n",
       "</style>\n",
       "<table border=\"1\" class=\"dataframe\">\n",
       "  <thead>\n",
       "    <tr style=\"text-align: right;\">\n",
       "      <th></th>\n",
       "      <th>date</th>\n",
       "      <th>time</th>\n",
       "      <th>event</th>\n",
       "      <th>platform</th>\n",
       "      <th>ad_id</th>\n",
       "      <th>client_union_id</th>\n",
       "      <th>campaign_union_id</th>\n",
       "      <th>ad_cost_type</th>\n",
       "      <th>ad_cost</th>\n",
       "      <th>has_video</th>\n",
       "      <th>target_audience_count</th>\n",
       "      <th>full_date</th>\n",
       "    </tr>\n",
       "  </thead>\n",
       "  <tbody>\n",
       "    <tr>\n",
       "      <th>0</th>\n",
       "      <td>2019-04-01</td>\n",
       "      <td>2019-04-01 00:00:48</td>\n",
       "      <td>view</td>\n",
       "      <td>android</td>\n",
       "      <td>45061</td>\n",
       "      <td>34734</td>\n",
       "      <td>45061</td>\n",
       "      <td>CPM</td>\n",
       "      <td>200.6</td>\n",
       "      <td>0</td>\n",
       "      <td>1955269</td>\n",
       "      <td>2019-04-01</td>\n",
       "    </tr>\n",
       "    <tr>\n",
       "      <th>1</th>\n",
       "      <td>2019-04-01</td>\n",
       "      <td>2019-04-01 00:00:48</td>\n",
       "      <td>view</td>\n",
       "      <td>web</td>\n",
       "      <td>121288</td>\n",
       "      <td>121288</td>\n",
       "      <td>121288</td>\n",
       "      <td>CPM</td>\n",
       "      <td>187.4</td>\n",
       "      <td>0</td>\n",
       "      <td>232011</td>\n",
       "      <td>2019-04-01</td>\n",
       "    </tr>\n",
       "    <tr>\n",
       "      <th>2</th>\n",
       "      <td>2019-04-01</td>\n",
       "      <td>2019-04-01 00:01:03</td>\n",
       "      <td>view</td>\n",
       "      <td>android</td>\n",
       "      <td>102737</td>\n",
       "      <td>102535</td>\n",
       "      <td>102564</td>\n",
       "      <td>CPC</td>\n",
       "      <td>60.7</td>\n",
       "      <td>0</td>\n",
       "      <td>4410</td>\n",
       "      <td>2019-04-01</td>\n",
       "    </tr>\n",
       "    <tr>\n",
       "      <th>3</th>\n",
       "      <td>2019-04-01</td>\n",
       "      <td>2019-04-01 00:01:03</td>\n",
       "      <td>view</td>\n",
       "      <td>android</td>\n",
       "      <td>107564</td>\n",
       "      <td>106914</td>\n",
       "      <td>107564</td>\n",
       "      <td>CPM</td>\n",
       "      <td>217.3</td>\n",
       "      <td>0</td>\n",
       "      <td>62711</td>\n",
       "      <td>2019-04-01</td>\n",
       "    </tr>\n",
       "    <tr>\n",
       "      <th>4</th>\n",
       "      <td>2019-04-01</td>\n",
       "      <td>2019-04-01 00:01:09</td>\n",
       "      <td>view</td>\n",
       "      <td>android</td>\n",
       "      <td>4922</td>\n",
       "      <td>37</td>\n",
       "      <td>4400</td>\n",
       "      <td>CPC</td>\n",
       "      <td>60.1</td>\n",
       "      <td>0</td>\n",
       "      <td>1183501</td>\n",
       "      <td>2019-04-01</td>\n",
       "    </tr>\n",
       "  </tbody>\n",
       "</table>\n",
       "</div>"
      ],
      "text/plain": [
       "         date                 time event platform   ad_id  client_union_id  \\\n",
       "0  2019-04-01  2019-04-01 00:00:48  view  android   45061            34734   \n",
       "1  2019-04-01  2019-04-01 00:00:48  view      web  121288           121288   \n",
       "2  2019-04-01  2019-04-01 00:01:03  view  android  102737           102535   \n",
       "3  2019-04-01  2019-04-01 00:01:03  view  android  107564           106914   \n",
       "4  2019-04-01  2019-04-01 00:01:09  view  android    4922               37   \n",
       "\n",
       "   campaign_union_id ad_cost_type  ad_cost  has_video  target_audience_count  \\\n",
       "0              45061          CPM    200.6          0                1955269   \n",
       "1             121288          CPM    187.4          0                 232011   \n",
       "2             102564          CPC     60.7          0                   4410   \n",
       "3             107564          CPM    217.3          0                  62711   \n",
       "4               4400          CPC     60.1          0                1183501   \n",
       "\n",
       "    full_date  \n",
       "0  2019-04-01  \n",
       "1  2019-04-01  \n",
       "2  2019-04-01  \n",
       "3  2019-04-01  \n",
       "4  2019-04-01  "
      ]
     },
     "execution_count": 198,
     "metadata": {},
     "output_type": "execute_result"
    }
   ],
   "source": [
    "ads_data['full_date'] = pd.to_datetime(ads_data.time).dt.date\n",
    "ads_data.head()"
   ]
  },
  {
   "cell_type": "code",
   "execution_count": 199,
   "id": "0bbccc2d",
   "metadata": {},
   "outputs": [
    {
     "data": {
      "text/plain": [
       "date                      object\n",
       "time                      object\n",
       "event                     object\n",
       "platform                  object\n",
       "ad_id                      int64\n",
       "client_union_id            int64\n",
       "campaign_union_id          int64\n",
       "ad_cost_type              object\n",
       "ad_cost                  float64\n",
       "has_video                  int64\n",
       "target_audience_count      int64\n",
       "full_date                 object\n",
       "dtype: object"
      ]
     },
     "execution_count": 199,
     "metadata": {},
     "output_type": "execute_result"
    }
   ],
   "source": [
    "ads_data.dtypes"
   ]
  },
  {
   "cell_type": "code",
   "execution_count": 200,
   "id": "8ccd80df",
   "metadata": {},
   "outputs": [
    {
     "data": {
      "text/plain": [
       "date                     datetime64[ns]\n",
       "time                             object\n",
       "event                            object\n",
       "platform                         object\n",
       "ad_id                             int64\n",
       "client_union_id                   int64\n",
       "campaign_union_id                 int64\n",
       "ad_cost_type                     object\n",
       "ad_cost                         float64\n",
       "has_video                         int64\n",
       "target_audience_count             int64\n",
       "full_date                datetime64[ns]\n",
       "dtype: object"
      ]
     },
     "execution_count": 200,
     "metadata": {},
     "output_type": "execute_result"
    }
   ],
   "source": [
    "ads_data['date'] = pd.to_datetime(ads_data.date)\n",
    "ads_data['full_date'] = pd.to_datetime(ads_data.full_date)\n",
    "ads_data.dtypes"
   ]
  },
  {
   "cell_type": "markdown",
   "id": "c3f4e449",
   "metadata": {},
   "source": [
    "По итогу первого шага предобработки данных:\n",
    "\n",
    "  \n",
    "    - создана новая колонка даты без времени\n",
    "    - отредактированы типы данных колонок с датой "
   ]
  },
  {
   "cell_type": "markdown",
   "id": "adadb804",
   "metadata": {},
   "source": [
    "### 1.Посчитайте среднее количество показов и среднее количество кликов на объявления за весь период (округлите до целых)."
   ]
  },
  {
   "cell_type": "code",
   "execution_count": 201,
   "id": "64c4b264",
   "metadata": {},
   "outputs": [],
   "source": [
    "number_per_ad_per_event = ads_data.groupby(['ad_id','event'], as_index = False)\\\n",
    "                                  .agg({'time':'count'})\\\n",
    "                                  .rename(columns = {'time':'event_number'})"
   ]
  },
  {
   "cell_type": "code",
   "execution_count": 202,
   "id": "7cc2d580",
   "metadata": {},
   "outputs": [
    {
     "data": {
      "text/html": [
       "<div>\n",
       "<style scoped>\n",
       "    .dataframe tbody tr th:only-of-type {\n",
       "        vertical-align: middle;\n",
       "    }\n",
       "\n",
       "    .dataframe tbody tr th {\n",
       "        vertical-align: top;\n",
       "    }\n",
       "\n",
       "    .dataframe thead th {\n",
       "        text-align: right;\n",
       "    }\n",
       "</style>\n",
       "<table border=\"1\" class=\"dataframe\">\n",
       "  <thead>\n",
       "    <tr style=\"text-align: right;\">\n",
       "      <th>event</th>\n",
       "      <th>click</th>\n",
       "      <th>view</th>\n",
       "    </tr>\n",
       "    <tr>\n",
       "      <th>ad_id</th>\n",
       "      <th></th>\n",
       "      <th></th>\n",
       "    </tr>\n",
       "  </thead>\n",
       "  <tbody>\n",
       "    <tr>\n",
       "      <th>2</th>\n",
       "      <td>1.0</td>\n",
       "      <td>101.0</td>\n",
       "    </tr>\n",
       "    <tr>\n",
       "      <th>3</th>\n",
       "      <td>3.0</td>\n",
       "      <td>184.0</td>\n",
       "    </tr>\n",
       "    <tr>\n",
       "      <th>1902</th>\n",
       "      <td>1.0</td>\n",
       "      <td>41.0</td>\n",
       "    </tr>\n",
       "    <tr>\n",
       "      <th>2064</th>\n",
       "      <td>0.0</td>\n",
       "      <td>35.0</td>\n",
       "    </tr>\n",
       "    <tr>\n",
       "      <th>2132</th>\n",
       "      <td>1.0</td>\n",
       "      <td>58.0</td>\n",
       "    </tr>\n",
       "  </tbody>\n",
       "</table>\n",
       "</div>"
      ],
      "text/plain": [
       "event  click   view\n",
       "ad_id              \n",
       "2        1.0  101.0\n",
       "3        3.0  184.0\n",
       "1902     1.0   41.0\n",
       "2064     0.0   35.0\n",
       "2132     1.0   58.0"
      ]
     },
     "execution_count": 202,
     "metadata": {},
     "output_type": "execute_result"
    }
   ],
   "source": [
    "pivot_per_ad_per_event = avg_events.pivot(index = 'ad_id',\\\n",
    "                                          columns = 'event',\\\n",
    "                                          values = 'count')\\\n",
    "                                    .fillna(0)\n",
    "pivot_per_ad_per_event.head()"
   ]
  },
  {
   "cell_type": "code",
   "execution_count": 203,
   "id": "33fc89b2",
   "metadata": {},
   "outputs": [
    {
     "data": {
      "text/plain": [
       "event\n",
       "click    113.0\n",
       "view     923.0\n",
       "dtype: float64"
      ]
     },
     "execution_count": 203,
     "metadata": {},
     "output_type": "execute_result"
    }
   ],
   "source": [
    "round(pivot_per_ad_per_event.mean())"
   ]
  },
  {
   "cell_type": "markdown",
   "id": "223104a5",
   "metadata": {},
   "source": [
    "среднее количество кликов = 113.0, а показова = 923.0"
   ]
  },
  {
   "cell_type": "markdown",
   "id": "d338fe30",
   "metadata": {},
   "source": [
    "### 2.Нарисуйте график распределения показов на объявление за весь период."
   ]
  },
  {
   "cell_type": "code",
   "execution_count": 204,
   "id": "1de22bf6",
   "metadata": {},
   "outputs": [
    {
     "data": {
      "text/html": [
       "<div>\n",
       "<style scoped>\n",
       "    .dataframe tbody tr th:only-of-type {\n",
       "        vertical-align: middle;\n",
       "    }\n",
       "\n",
       "    .dataframe tbody tr th {\n",
       "        vertical-align: top;\n",
       "    }\n",
       "\n",
       "    .dataframe thead th {\n",
       "        text-align: right;\n",
       "    }\n",
       "</style>\n",
       "<table border=\"1\" class=\"dataframe\">\n",
       "  <thead>\n",
       "    <tr style=\"text-align: right;\">\n",
       "      <th></th>\n",
       "      <th>ad_id</th>\n",
       "      <th>event</th>\n",
       "      <th>event_number</th>\n",
       "    </tr>\n",
       "  </thead>\n",
       "  <tbody>\n",
       "    <tr>\n",
       "      <th>1</th>\n",
       "      <td>2</td>\n",
       "      <td>view</td>\n",
       "      <td>101</td>\n",
       "    </tr>\n",
       "    <tr>\n",
       "      <th>3</th>\n",
       "      <td>3</td>\n",
       "      <td>view</td>\n",
       "      <td>184</td>\n",
       "    </tr>\n",
       "    <tr>\n",
       "      <th>5</th>\n",
       "      <td>1902</td>\n",
       "      <td>view</td>\n",
       "      <td>41</td>\n",
       "    </tr>\n",
       "    <tr>\n",
       "      <th>6</th>\n",
       "      <td>2064</td>\n",
       "      <td>view</td>\n",
       "      <td>35</td>\n",
       "    </tr>\n",
       "    <tr>\n",
       "      <th>8</th>\n",
       "      <td>2132</td>\n",
       "      <td>view</td>\n",
       "      <td>58</td>\n",
       "    </tr>\n",
       "  </tbody>\n",
       "</table>\n",
       "</div>"
      ],
      "text/plain": [
       "   ad_id event  event_number\n",
       "1      2  view           101\n",
       "3      3  view           184\n",
       "5   1902  view            41\n",
       "6   2064  view            35\n",
       "8   2132  view            58"
      ]
     },
     "execution_count": 204,
     "metadata": {},
     "output_type": "execute_result"
    }
   ],
   "source": [
    "view_per_ad = number_per_ad_per_event.query('event == \"view\"')\n",
    "view_per_ad.head()"
   ]
  },
  {
   "cell_type": "code",
   "execution_count": 205,
   "id": "8d0e15ce",
   "metadata": {},
   "outputs": [
    {
     "data": {
      "image/png": "[encoded data removed]",
      "text/plain": [
       "<Figure size 800x400 with 1 Axes>"
      ]
     },
     "metadata": {},
     "output_type": "display_data"
    }
   ],
   "source": [
    "sns.distplot(view_per_ad.event_number)\n",
    "sns.despine()"
   ]
  },
  {
   "cell_type": "code",
   "execution_count": 206,
   "id": "2361ccf2",
   "metadata": {},
   "outputs": [
    {
     "data": {
      "text/plain": [
       "count       956.0\n",
       "mean        932.0\n",
       "std       13006.0\n",
       "min          10.0\n",
       "25%          36.0\n",
       "50%          84.0\n",
       "75%         209.0\n",
       "max      351802.0\n",
       "Name: event_number, dtype: float64"
      ]
     },
     "execution_count": 206,
     "metadata": {},
     "output_type": "execute_result"
    }
   ],
   "source": [
    "view_per_ad.event_number.describe().round()"
   ]
  },
  {
   "cell_type": "code",
   "execution_count": 207,
   "id": "f4152698",
   "metadata": {},
   "outputs": [
    {
     "data": {
      "text/plain": [
       "1221"
      ]
     },
     "execution_count": 207,
     "metadata": {},
     "output_type": "execute_result"
    }
   ],
   "source": [
    "view_per_ad.event_number.idxmax()"
   ]
  },
  {
   "cell_type": "code",
   "execution_count": 208,
   "id": "6b0891f6",
   "metadata": {},
   "outputs": [
    {
     "data": {
      "text/plain": [
       "351802"
      ]
     },
     "execution_count": 208,
     "metadata": {},
     "output_type": "execute_result"
    }
   ],
   "source": [
    "view_per_ad.event_number.max()"
   ]
  },
  {
   "cell_type": "markdown",
   "id": "cdccdb95",
   "metadata": {},
   "source": [
    "на графике обнуружили обьявление с большим числом просмотров = 350000, причем среднее число обьявлений = 932, медиана = 84.0\n",
    "\n",
    "это обьявление c большим числом просмотров № 1221, число просмотров = 351802"
   ]
  },
  {
   "cell_type": "markdown",
   "id": "4de18a91",
   "metadata": {},
   "source": [
    "**посмотрим на форму распределения графика ближе, так как мы работаем с множеством небольшим значений для этого используем метод логорифмирования чтобы сгладить выбросы**"
   ]
  },
  {
   "cell_type": "code",
   "execution_count": 209,
   "id": "362d3ca8",
   "metadata": {},
   "outputs": [
    {
     "data": {
      "text/html": [
       "<div>\n",
       "<style scoped>\n",
       "    .dataframe tbody tr th:only-of-type {\n",
       "        vertical-align: middle;\n",
       "    }\n",
       "\n",
       "    .dataframe tbody tr th {\n",
       "        vertical-align: top;\n",
       "    }\n",
       "\n",
       "    .dataframe thead th {\n",
       "        text-align: right;\n",
       "    }\n",
       "</style>\n",
       "<table border=\"1\" class=\"dataframe\">\n",
       "  <thead>\n",
       "    <tr style=\"text-align: right;\">\n",
       "      <th></th>\n",
       "      <th>ad_id</th>\n",
       "      <th>event</th>\n",
       "      <th>event_number</th>\n",
       "      <th>log_views</th>\n",
       "    </tr>\n",
       "  </thead>\n",
       "  <tbody>\n",
       "    <tr>\n",
       "      <th>1</th>\n",
       "      <td>2</td>\n",
       "      <td>view</td>\n",
       "      <td>101</td>\n",
       "      <td>4.615121</td>\n",
       "    </tr>\n",
       "    <tr>\n",
       "      <th>3</th>\n",
       "      <td>3</td>\n",
       "      <td>view</td>\n",
       "      <td>184</td>\n",
       "      <td>5.214936</td>\n",
       "    </tr>\n",
       "    <tr>\n",
       "      <th>5</th>\n",
       "      <td>1902</td>\n",
       "      <td>view</td>\n",
       "      <td>41</td>\n",
       "      <td>3.713572</td>\n",
       "    </tr>\n",
       "    <tr>\n",
       "      <th>6</th>\n",
       "      <td>2064</td>\n",
       "      <td>view</td>\n",
       "      <td>35</td>\n",
       "      <td>3.555348</td>\n",
       "    </tr>\n",
       "    <tr>\n",
       "      <th>8</th>\n",
       "      <td>2132</td>\n",
       "      <td>view</td>\n",
       "      <td>58</td>\n",
       "      <td>4.060443</td>\n",
       "    </tr>\n",
       "  </tbody>\n",
       "</table>\n",
       "</div>"
      ],
      "text/plain": [
       "   ad_id event  event_number  log_views\n",
       "1      2  view           101   4.615121\n",
       "3      3  view           184   5.214936\n",
       "5   1902  view            41   3.713572\n",
       "6   2064  view            35   3.555348\n",
       "8   2132  view            58   4.060443"
      ]
     },
     "execution_count": 209,
     "metadata": {},
     "output_type": "execute_result"
    }
   ],
   "source": [
    "view_per_ad['log_views'] = np.log(view_per_ad.event_number)\n",
    "view_per_ad.head()"
   ]
  },
  {
   "cell_type": "code",
   "execution_count": 210,
   "id": "218e87af",
   "metadata": {},
   "outputs": [
    {
     "data": {
      "image/png": "[encoded data removed]",
      "text/plain": [
       "<Figure size 800x400 with 1 Axes>"
      ]
     },
     "metadata": {},
     "output_type": "display_data"
    }
   ],
   "source": [
    "sns.distplot(view_per_ad.log_views)\n",
    "sns.set()"
   ]
  },
  {
   "cell_type": "code",
   "execution_count": 211,
   "id": "8c78f355",
   "metadata": {},
   "outputs": [
    {
     "data": {
      "text/plain": [
       "count    956.00\n",
       "mean       4.60\n",
       "std        1.33\n",
       "min        2.30\n",
       "25%        3.58\n",
       "50%        4.43\n",
       "75%        5.34\n",
       "max       12.77\n",
       "Name: log_views, dtype: float64"
      ]
     },
     "execution_count": 211,
     "metadata": {},
     "output_type": "execute_result"
    }
   ],
   "source": [
    "view_per_ad.log_views.describe().round(2)"
   ]
  },
  {
   "cell_type": "markdown",
   "id": "c067504f",
   "metadata": {},
   "source": [
    "значение медианы = 4.43 \n",
    "       и среднего = 4.60 , данные сгладились и распределение удалось увидеть ближе"
   ]
  },
  {
   "cell_type": "markdown",
   "id": "9885130d",
   "metadata": {},
   "source": [
    "### 3. А теперь давайте посчитаем скользящее среднее показов с окном 2. \n",
    " -Какое значение скользящего среднего получим за 6 апреля 2019 года (ответ округлите до целых)?"
   ]
  },
  {
   "cell_type": "markdown",
   "id": "8903ed23",
   "metadata": {},
   "source": [
    "**для начала найдем среднее число обьявлений по каждой дате**"
   ]
  },
  {
   "cell_type": "code",
   "execution_count": 212,
   "id": "b526c839",
   "metadata": {},
   "outputs": [
    {
     "data": {
      "text/html": [
       "<div>\n",
       "<style scoped>\n",
       "    .dataframe tbody tr th:only-of-type {\n",
       "        vertical-align: middle;\n",
       "    }\n",
       "\n",
       "    .dataframe tbody tr th {\n",
       "        vertical-align: top;\n",
       "    }\n",
       "\n",
       "    .dataframe thead th {\n",
       "        text-align: right;\n",
       "    }\n",
       "</style>\n",
       "<table border=\"1\" class=\"dataframe\">\n",
       "  <thead>\n",
       "    <tr style=\"text-align: right;\">\n",
       "      <th>date</th>\n",
       "      <th>2019-04-01</th>\n",
       "      <th>2019-04-02</th>\n",
       "      <th>2019-04-03</th>\n",
       "      <th>2019-04-04</th>\n",
       "      <th>2019-04-05</th>\n",
       "      <th>2019-04-06</th>\n",
       "    </tr>\n",
       "    <tr>\n",
       "      <th>ad_id</th>\n",
       "      <th></th>\n",
       "      <th></th>\n",
       "      <th></th>\n",
       "      <th></th>\n",
       "      <th></th>\n",
       "      <th></th>\n",
       "    </tr>\n",
       "  </thead>\n",
       "  <tbody>\n",
       "    <tr>\n",
       "      <th>2</th>\n",
       "      <td>83.0</td>\n",
       "      <td>18.0</td>\n",
       "      <td>NaN</td>\n",
       "      <td>NaN</td>\n",
       "      <td>NaN</td>\n",
       "      <td>NaN</td>\n",
       "    </tr>\n",
       "    <tr>\n",
       "      <th>3</th>\n",
       "      <td>158.0</td>\n",
       "      <td>26.0</td>\n",
       "      <td>NaN</td>\n",
       "      <td>NaN</td>\n",
       "      <td>NaN</td>\n",
       "      <td>NaN</td>\n",
       "    </tr>\n",
       "    <tr>\n",
       "      <th>1902</th>\n",
       "      <td>NaN</td>\n",
       "      <td>NaN</td>\n",
       "      <td>34.0</td>\n",
       "      <td>7.0</td>\n",
       "      <td>NaN</td>\n",
       "      <td>NaN</td>\n",
       "    </tr>\n",
       "    <tr>\n",
       "      <th>2064</th>\n",
       "      <td>NaN</td>\n",
       "      <td>28.0</td>\n",
       "      <td>7.0</td>\n",
       "      <td>NaN</td>\n",
       "      <td>NaN</td>\n",
       "      <td>NaN</td>\n",
       "    </tr>\n",
       "    <tr>\n",
       "      <th>2132</th>\n",
       "      <td>NaN</td>\n",
       "      <td>NaN</td>\n",
       "      <td>25.0</td>\n",
       "      <td>27.0</td>\n",
       "      <td>6.0</td>\n",
       "      <td>NaN</td>\n",
       "    </tr>\n",
       "    <tr>\n",
       "      <th>...</th>\n",
       "      <td>...</td>\n",
       "      <td>...</td>\n",
       "      <td>...</td>\n",
       "      <td>...</td>\n",
       "      <td>...</td>\n",
       "      <td>...</td>\n",
       "    </tr>\n",
       "    <tr>\n",
       "      <th>122004</th>\n",
       "      <td>85.0</td>\n",
       "      <td>15.0</td>\n",
       "      <td>NaN</td>\n",
       "      <td>NaN</td>\n",
       "      <td>NaN</td>\n",
       "      <td>NaN</td>\n",
       "    </tr>\n",
       "    <tr>\n",
       "      <th>122013</th>\n",
       "      <td>NaN</td>\n",
       "      <td>NaN</td>\n",
       "      <td>NaN</td>\n",
       "      <td>134.0</td>\n",
       "      <td>22.0</td>\n",
       "      <td>NaN</td>\n",
       "    </tr>\n",
       "    <tr>\n",
       "      <th>122023</th>\n",
       "      <td>NaN</td>\n",
       "      <td>NaN</td>\n",
       "      <td>NaN</td>\n",
       "      <td>53.0</td>\n",
       "      <td>15.0</td>\n",
       "      <td>NaN</td>\n",
       "    </tr>\n",
       "    <tr>\n",
       "      <th>122031</th>\n",
       "      <td>NaN</td>\n",
       "      <td>NaN</td>\n",
       "      <td>NaN</td>\n",
       "      <td>NaN</td>\n",
       "      <td>119.0</td>\n",
       "      <td>19.0</td>\n",
       "    </tr>\n",
       "    <tr>\n",
       "      <th>122078</th>\n",
       "      <td>NaN</td>\n",
       "      <td>NaN</td>\n",
       "      <td>36.0</td>\n",
       "      <td>6.0</td>\n",
       "      <td>NaN</td>\n",
       "      <td>NaN</td>\n",
       "    </tr>\n",
       "  </tbody>\n",
       "</table>\n",
       "<p>956 rows × 6 columns</p>\n",
       "</div>"
      ],
      "text/plain": [
       "date    2019-04-01  2019-04-02  2019-04-03  2019-04-04  2019-04-05  2019-04-06\n",
       "ad_id                                                                         \n",
       "2             83.0        18.0         NaN         NaN         NaN         NaN\n",
       "3            158.0        26.0         NaN         NaN         NaN         NaN\n",
       "1902           NaN         NaN        34.0         7.0         NaN         NaN\n",
       "2064           NaN        28.0         7.0         NaN         NaN         NaN\n",
       "2132           NaN         NaN        25.0        27.0         6.0         NaN\n",
       "...            ...         ...         ...         ...         ...         ...\n",
       "122004        85.0        15.0         NaN         NaN         NaN         NaN\n",
       "122013         NaN         NaN         NaN       134.0        22.0         NaN\n",
       "122023         NaN         NaN         NaN        53.0        15.0         NaN\n",
       "122031         NaN         NaN         NaN         NaN       119.0        19.0\n",
       "122078         NaN         NaN        36.0         6.0         NaN         NaN\n",
       "\n",
       "[956 rows x 6 columns]"
      ]
     },
     "execution_count": 212,
     "metadata": {},
     "output_type": "execute_result"
    }
   ],
   "source": [
    "ads_view_per_date = ads_data.query('event == \"view\"')\\\n",
    "                            .pivot_table(index = 'ad_id',\n",
    "                                         columns = 'date',\n",
    "                                         values = 'time',\n",
    "                                         aggfunc = 'count')\n",
    "ads_view_per_date"
   ]
  },
  {
   "cell_type": "code",
   "execution_count": 213,
   "id": "b0b6fbf3",
   "metadata": {},
   "outputs": [
    {
     "data": {
      "text/plain": [
       "date\n",
       "2019-04-01    154.482270\n",
       "2019-04-02    137.786982\n",
       "2019-04-03    163.952778\n",
       "2019-04-04    675.901720\n",
       "2019-04-05    919.109677\n",
       "2019-04-06    277.122727\n",
       "dtype: float64"
      ]
     },
     "execution_count": 213,
     "metadata": {},
     "output_type": "execute_result"
    }
   ],
   "source": [
    "ads_view_per_date.mean()"
   ]
  },
  {
   "cell_type": "markdown",
   "id": "c4ad991d",
   "metadata": {},
   "source": [
    "мы получили средние значения по датам , всего 6 дат"
   ]
  },
  {
   "cell_type": "code",
   "execution_count": 214,
   "id": "8c87e035",
   "metadata": {},
   "outputs": [
    {
     "data": {
      "text/plain": [
       "date\n",
       "2019-04-01    154.482270\n",
       "2019-04-02    137.786982\n",
       "2019-04-03    163.952778\n",
       "2019-04-04    675.901720\n",
       "2019-04-05    919.109677\n",
       "dtype: float64"
      ]
     },
     "execution_count": 214,
     "metadata": {},
     "output_type": "execute_result"
    }
   ],
   "source": [
    "mean_views = ads_view_per_date.mean()\n",
    "mean_views.head()"
   ]
  },
  {
   "cell_type": "code",
   "execution_count": 215,
   "id": "a3aa86e3",
   "metadata": {},
   "outputs": [
    {
     "data": {
      "text/plain": [
       "date\n",
       "2019-04-01           NaN\n",
       "2019-04-02    146.134626\n",
       "2019-04-03    150.869880\n",
       "2019-04-04    419.927249\n",
       "2019-04-05    797.505699\n",
       "2019-04-06    598.116202\n",
       "dtype: float64"
      ]
     },
     "execution_count": 215,
     "metadata": {},
     "output_type": "execute_result"
    }
   ],
   "source": [
    "rolling_views = mean_views.rolling(2).mean()\n",
    "rolling_views"
   ]
  },
  {
   "cell_type": "code",
   "execution_count": 216,
   "id": "67fda237",
   "metadata": {},
   "outputs": [
    {
     "data": {
      "text/plain": [
       "598.0"
      ]
     },
     "execution_count": 216,
     "metadata": {},
     "output_type": "execute_result"
    }
   ],
   "source": [
    "rolling_views['2019-04-06'].round()"
   ]
  },
  {
   "cell_type": "markdown",
   "id": "26ce0ee5",
   "metadata": {},
   "source": [
    "среднее число показов 6 апреля 2019 года = 598.0"
   ]
  },
  {
   "cell_type": "markdown",
   "id": "0223bca0",
   "metadata": {},
   "source": [
    "### 4. Проверить наличие аномалий с помощью скользящего среднего.   \n",
    "    - Нанести на один график значения арифметического среднего по дням и скользящего среднего количества показов \n",
    "    - В какой день наблюдается наибольшая разница по модулю между арифметическим средним и скользящим средним? \n",
    "    Дни, в которых скользящее среднее равно NaN, не учитываем. "
   ]
  },
  {
   "cell_type": "code",
   "execution_count": 217,
   "id": "659bf156",
   "metadata": {},
   "outputs": [
    {
     "data": {
      "image/png": "[encoded data removed]",
      "text/plain": [
       "<Figure size 800x400 with 1 Axes>"
      ]
     },
     "metadata": {},
     "output_type": "display_data"
    }
   ],
   "source": [
    "sns.lineplot(mean_views, label = 'mean')\n",
    "sns.lineplot(rolling_views, label = 'rolling_mean')\n",
    "sns.set()\n"
   ]
  },
  {
   "cell_type": "code",
   "execution_count": 222,
   "id": "b4a58d1f",
   "metadata": {},
   "outputs": [
    {
     "data": {
      "text/plain": [
       "date\n",
       "2019-04-01           NaN\n",
       "2019-04-02      8.347644\n",
       "2019-04-03     13.082898\n",
       "2019-04-04    255.974471\n",
       "2019-04-05    121.603979\n",
       "2019-04-06    320.993475\n",
       "dtype: float64"
      ]
     },
     "execution_count": 222,
     "metadata": {},
     "output_type": "execute_result"
    }
   ],
   "source": [
    "abs = (mean_views - rolling_views).abs()\n",
    "abs"
   ]
  },
  {
   "cell_type": "code",
   "execution_count": 223,
   "id": "5f0a9ca9",
   "metadata": {},
   "outputs": [
    {
     "data": {
      "text/plain": [
       "Timestamp('2019-04-06 00:00:00')"
      ]
     },
     "execution_count": 223,
     "metadata": {},
     "output_type": "execute_result"
    }
   ],
   "source": [
    "abs.idxmax()"
   ]
  },
  {
   "cell_type": "markdown",
   "id": "fdb52355",
   "metadata": {},
   "source": [
    "Наибольшая разница по модулю наблюдается 2019-04-06 "
   ]
  },
  {
   "cell_type": "markdown",
   "id": "91e97d64",
   "metadata": {},
   "source": [
    "### 5. найдете проблемное объявление (с наибольшим/наименишим количеством показов) в день, в который была замечена самая большая по модулю аномалия. "
   ]
  },
  {
   "cell_type": "markdown",
   "id": "cc532b2a",
   "metadata": {},
   "source": [
    "Если разница между средним и скользящим средним отрицательная то будем искать обьявление с максимальным числом просмотров, если разница положительная ищем наименьшее число просмотров"
   ]
  },
  {
   "cell_type": "code",
   "execution_count": 225,
   "id": "a6221727",
   "metadata": {},
   "outputs": [],
   "source": [
    "#день аномалии \n",
    "anomaly_day = abs.idxmax()"
   ]
  },
  {
   "cell_type": "code",
   "execution_count": 232,
   "id": "9baf71aa",
   "metadata": {},
   "outputs": [
    {
     "data": {
      "text/plain": [
       "112583"
      ]
     },
     "execution_count": 232,
     "metadata": {},
     "output_type": "execute_result"
    }
   ],
   "source": [
    "#запишем размер аномалии в переменную\n",
    "difference_value = (mean_views - rolling_views)[anomaly_day]\n",
    "\n",
    "#поиск макисмального числа просмотров\n",
    "if difference_value <= 0:\n",
    "    anomaly_ad = ads_view_per_date[anomaly_day].idxmax()\n",
    "#поиск минимального числа просмотров\n",
    "else:\n",
    "    anomaly_ad = ads_view_per_date[anomaly_day].idxmin()\n",
    "    \n",
    "anomaly_ad"
   ]
  },
  {
   "cell_type": "markdown",
   "id": "1803947c",
   "metadata": {},
   "source": [
    "найдено обьявление №112583, это обьявление с самым большим числом показов"
   ]
  }
 ],
 "metadata": {
  "kernelspec": {
   "display_name": "Python 3 (ipykernel)",
   "language": "python",
   "name": "python3"
  },
  "language_info": {
   "codemirror_mode": {
    "name": "ipython",
    "version": 3
   },
   "file_extension": ".py",
   "mimetype": "text/x-python",
   "name": "python",
   "nbconvert_exporter": "python",
   "pygments_lexer": "ipython3",
   "version": "3.10.5"
  }
 },
 "nbformat": 4,
 "nbformat_minor": 5
}
