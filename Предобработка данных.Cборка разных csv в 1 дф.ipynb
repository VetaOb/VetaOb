{
 "cells": [
  {
   "cell_type": "markdown",
   "id": "1c2bcd6e",
   "metadata": {},
   "source": [
    "### Подготовка данных к анализу : \n",
    "    1. Собрать csv файлы из папки data в единый датафрэйм\n",
    "    2. Определить и заполнить пропущенные значения\n",
    "    3. Удалить дубликаты\n",
    "    4. Просмотреть типы данных колонок и привести к необходимому типу\n",
    "    5. переименуем столбцы для удобства понимания их значений\n",
    "    6. Получим общую информацию всех переменных в дф\n",
    " "
   ]
  },
  {
   "cell_type": "code",
   "execution_count": 55,
   "id": "fcb68d80",
   "metadata": {},
   "outputs": [],
   "source": [
    "import pandas as pd\n",
    "import os\n",
    "import seaborn as sns\n",
    "import matplotlib.pyplot as plt\n",
    "pd.options.mode.chained_assignment = None  #отключаем предупреждения Pandas"
   ]
  },
  {
   "cell_type": "markdown",
   "id": "00a7c260",
   "metadata": {},
   "source": [
    "#### 1. Собрать csv файлы из папки data в единый датафрэйм"
   ]
  },
  {
   "cell_type": "code",
   "execution_count": 23,
   "id": "99ec295a",
   "metadata": {},
   "outputs": [
    {
     "data": {
      "text/plain": [
       "['.DS_Store',\n",
       " '2020-12-06',\n",
       " '2020-12-08',\n",
       " '2020-12-09',\n",
       " '2020-12-07',\n",
       " '2020-12-05',\n",
       " '2020-12-03',\n",
       " '2020-12-04']"
      ]
     },
     "execution_count": 23,
     "metadata": {},
     "output_type": "execute_result"
    }
   ],
   "source": [
    "os.listdir('/Users/v.obrosova/Documents/СТАТИСТИКА/csv/data')#проверка отображения"
   ]
  },
  {
   "cell_type": "code",
   "execution_count": 24,
   "id": "742a7b55",
   "metadata": {},
   "outputs": [],
   "source": [
    "path = '/Users/v.obrosova/Documents/СТАТИСТИКА/csv/data'#запишем путь в переменную"
   ]
  },
  {
   "cell_type": "code",
   "execution_count": 25,
   "id": "ecbcc97d",
   "metadata": {
    "scrolled": true
   },
   "outputs": [
    {
     "name": "stdout",
     "output_type": "stream",
     "text": [
      "(4, 3)\n",
      "(6, 3)\n",
      "(11, 3)\n",
      "(14, 3)\n",
      "(20, 3)\n",
      "(23, 3)\n"
     ]
    }
   ],
   "source": [
    "#создали дф\n",
    "df = pd.DataFrame()\n",
    "\n",
    "#читаем данные и записсываем в пустой дф\n",
    "for current_path, dirs, files in os.walk(path + '/2020-12-05'):\n",
    "    for file in files:\n",
    "        data_path = f'{current_path}/{file}'\n",
    "        \n",
    "        if '.DS_Store' in data_path:\n",
    "            continue \n",
    "        \n",
    "        temp_df = pd.read_csv(data_path) \n",
    "        df = pd.concat((df, temp_df))\n",
    "        print(df.shape) #контроль\n",
    "               "
   ]
  },
  {
   "cell_type": "code",
   "execution_count": 26,
   "id": "49b7405c",
   "metadata": {},
   "outputs": [
    {
     "data": {
      "text/plain": [
       "('2020-12-04', 'Kirill_Fedorov')"
      ]
     },
     "execution_count": 26,
     "metadata": {},
     "output_type": "execute_result"
    }
   ],
   "source": [
    "#нужно достать дату и имя для названия колонок.режем строку по слэшу /\n",
    "path_parts = '/Users/v.obrosova/Desktop/курс по аналитике/1_PYTHON/Урок_4/Задания/Минипроект/data/2020-12-04/Kirill_Fedorov'.split('/')\n",
    "date = path_parts[-2]\n",
    "name = path_parts[-1]\n",
    "date,name"
   ]
  },
  {
   "cell_type": "code",
   "execution_count": 27,
   "id": "d3257404",
   "metadata": {},
   "outputs": [],
   "source": [
    "#выше мы считывали из определенной папки, а теперь уберем имя папки и считаем все файлы из data\n",
    "\n",
    "df = pd.DataFrame()\n",
    "\n",
    "#читаем данные \n",
    "for current_path, dirs, files in os.walk(path):\n",
    "    for file in files:\n",
    "        #полный путь к файлу\n",
    "        data_path = f'{current_path}/{file}'\n",
    "        \n",
    "        if '.DS_Store' in data_path:\n",
    "            continue \n",
    "        #читаем data\n",
    "        temp_df = pd.read_csv(data_path) \n",
    "        \n",
    "        #создаем колонки дата и время,вытаскиваем инфу для них из названия файлов через сплит\n",
    "        path_parts = current_path.split('/')\n",
    "        date = path_parts[-2]\n",
    "        name = path_parts[-1]\n",
    "        \n",
    "        #добавляем колонки\n",
    "        temp_df['date'] = date\n",
    "        temp_df['name'] = name\n",
    "        \n",
    "        #обьединяем датафреймы\n",
    "        df = pd.concat((df, temp_df))\n",
    "               "
   ]
  },
  {
   "cell_type": "code",
   "execution_count": 28,
   "id": "30c39046",
   "metadata": {},
   "outputs": [],
   "source": [
    "df.drop(columns=['Unnamed: 0'],inplace = True) #удалим лишние колонки"
   ]
  },
  {
   "cell_type": "code",
   "execution_count": 29,
   "id": "8fd64876",
   "metadata": {},
   "outputs": [],
   "source": [
    "df.reset_index(drop=True, inplace = True) #удалим индекс"
   ]
  },
  {
   "cell_type": "code",
   "execution_count": 30,
   "id": "208b9b71",
   "metadata": {},
   "outputs": [
    {
     "data": {
      "text/html": [
       "<div>\n",
       "<style scoped>\n",
       "    .dataframe tbody tr th:only-of-type {\n",
       "        vertical-align: middle;\n",
       "    }\n",
       "\n",
       "    .dataframe tbody tr th {\n",
       "        vertical-align: top;\n",
       "    }\n",
       "\n",
       "    .dataframe thead th {\n",
       "        text-align: right;\n",
       "    }\n",
       "</style>\n",
       "<table border=\"1\" class=\"dataframe\">\n",
       "  <thead>\n",
       "    <tr style=\"text-align: right;\">\n",
       "      <th></th>\n",
       "      <th>product_id</th>\n",
       "      <th>quantity</th>\n",
       "      <th>date</th>\n",
       "      <th>name</th>\n",
       "    </tr>\n",
       "  </thead>\n",
       "  <tbody>\n",
       "    <tr>\n",
       "      <th>0</th>\n",
       "      <td>56</td>\n",
       "      <td>4</td>\n",
       "      <td>2020-12-06</td>\n",
       "      <td>Vasiliy_Fedorov</td>\n",
       "    </tr>\n",
       "    <tr>\n",
       "      <th>1</th>\n",
       "      <td>97</td>\n",
       "      <td>3</td>\n",
       "      <td>2020-12-06</td>\n",
       "      <td>Vasiliy_Fedorov</td>\n",
       "    </tr>\n",
       "    <tr>\n",
       "      <th>2</th>\n",
       "      <td>79</td>\n",
       "      <td>3</td>\n",
       "      <td>2020-12-06</td>\n",
       "      <td>Vasiliy_Fedorov</td>\n",
       "    </tr>\n",
       "    <tr>\n",
       "      <th>3</th>\n",
       "      <td>29</td>\n",
       "      <td>5</td>\n",
       "      <td>2020-12-06</td>\n",
       "      <td>Vasiliy_Fedorov</td>\n",
       "    </tr>\n",
       "    <tr>\n",
       "      <th>4</th>\n",
       "      <td>73</td>\n",
       "      <td>5</td>\n",
       "      <td>2020-12-08</td>\n",
       "      <td>Alexey_Fedorov</td>\n",
       "    </tr>\n",
       "  </tbody>\n",
       "</table>\n",
       "</div>"
      ],
      "text/plain": [
       "   product_id  quantity        date             name\n",
       "0          56         4  2020-12-06  Vasiliy_Fedorov\n",
       "1          97         3  2020-12-06  Vasiliy_Fedorov\n",
       "2          79         3  2020-12-06  Vasiliy_Fedorov\n",
       "3          29         5  2020-12-06  Vasiliy_Fedorov\n",
       "4          73         5  2020-12-08   Alexey_Fedorov"
      ]
     },
     "execution_count": 30,
     "metadata": {},
     "output_type": "execute_result"
    }
   ],
   "source": [
    " df.head()"
   ]
  },
  {
   "cell_type": "markdown",
   "id": "339114fe",
   "metadata": {},
   "source": [
    "#### 2. Определить и заполнить пропущенные значения"
   ]
  },
  {
   "cell_type": "code",
   "execution_count": 19,
   "id": "671046c5",
   "metadata": {},
   "outputs": [
    {
     "data": {
      "text/plain": [
       "Unnamed: 0    0\n",
       "product_id    0\n",
       "quantity      0\n",
       "dtype: int64"
      ]
     },
     "execution_count": 19,
     "metadata": {},
     "output_type": "execute_result"
    }
   ],
   "source": [
    "df.isna().sum()#пропущенных значений не обнаружено"
   ]
  },
  {
   "cell_type": "markdown",
   "id": "1013f9e8",
   "metadata": {},
   "source": [
    "#### 3. Удалить дубликаты"
   ]
  },
  {
   "cell_type": "code",
   "execution_count": 32,
   "id": "125e299d",
   "metadata": {},
   "outputs": [
    {
     "data": {
      "text/plain": [
       "(161, 4)"
      ]
     },
     "execution_count": 32,
     "metadata": {},
     "output_type": "execute_result"
    }
   ],
   "source": [
    "#контроль значений перед удалением дубликатов\n",
    "df.shape"
   ]
  },
  {
   "cell_type": "code",
   "execution_count": 39,
   "id": "80343378",
   "metadata": {},
   "outputs": [
    {
     "data": {
      "text/plain": [
       "(161, 4)"
      ]
     },
     "execution_count": 39,
     "metadata": {},
     "output_type": "execute_result"
    }
   ],
   "source": [
    "#дубликатов не обнаружено тк число строк совпадает с исходной\n",
    "df.drop_duplicates().shape"
   ]
  },
  {
   "cell_type": "markdown",
   "id": "06b0200f",
   "metadata": {},
   "source": [
    "#### 4. Просмотреть типы данных колонок и привести к необходимому типу"
   ]
  },
  {
   "cell_type": "code",
   "execution_count": 41,
   "id": "027228ba",
   "metadata": {},
   "outputs": [
    {
     "data": {
      "text/plain": [
       "product_id     int64\n",
       "quantity       int64\n",
       "date          object\n",
       "name          object\n",
       "dtype: object"
      ]
     },
     "execution_count": 41,
     "metadata": {},
     "output_type": "execute_result"
    }
   ],
   "source": [
    "#приведеме столбец 'date' к типу datetime\n",
    "df.dtypes"
   ]
  },
  {
   "cell_type": "code",
   "execution_count": 58,
   "id": "4148197e",
   "metadata": {},
   "outputs": [
    {
     "name": "stderr",
     "output_type": "stream",
     "text": [
      "/var/folders/09/fnjbrzns3kbd7t2970nr6clc0000gn/T/ipykernel_27229/3364299853.py:1: FutureWarning: Passing unit-less datetime64 dtype to .astype is deprecated and will raise in a future version. Pass 'datetime64[ns]' instead\n",
      "  df['date'] = df['date'].astype('datetime64')\n"
     ]
    },
    {
     "data": {
      "text/plain": [
       "product_id             int64\n",
       "quantity               int64\n",
       "date          datetime64[ns]\n",
       "name                  object\n",
       "dtype: object"
      ]
     },
     "execution_count": 58,
     "metadata": {},
     "output_type": "execute_result"
    }
   ],
   "source": [
    "df['date'] = df['date'].astype('datetime64')\n",
    "df.dtypes"
   ]
  },
  {
   "cell_type": "code",
   "execution_count": 49,
   "id": "9d4c4b06",
   "metadata": {},
   "outputs": [
    {
     "data": {
      "text/html": [
       "<div>\n",
       "<style scoped>\n",
       "    .dataframe tbody tr th:only-of-type {\n",
       "        vertical-align: middle;\n",
       "    }\n",
       "\n",
       "    .dataframe tbody tr th {\n",
       "        vertical-align: top;\n",
       "    }\n",
       "\n",
       "    .dataframe thead th {\n",
       "        text-align: right;\n",
       "    }\n",
       "</style>\n",
       "<table border=\"1\" class=\"dataframe\">\n",
       "  <thead>\n",
       "    <tr style=\"text-align: right;\">\n",
       "      <th></th>\n",
       "      <th>product_id</th>\n",
       "      <th>quantity</th>\n",
       "      <th>date</th>\n",
       "      <th>name</th>\n",
       "    </tr>\n",
       "  </thead>\n",
       "  <tbody>\n",
       "    <tr>\n",
       "      <th>0</th>\n",
       "      <td>56</td>\n",
       "      <td>4</td>\n",
       "      <td>2020-12-06</td>\n",
       "      <td>Vasiliy_Fedorov</td>\n",
       "    </tr>\n",
       "    <tr>\n",
       "      <th>1</th>\n",
       "      <td>97</td>\n",
       "      <td>3</td>\n",
       "      <td>2020-12-06</td>\n",
       "      <td>Vasiliy_Fedorov</td>\n",
       "    </tr>\n",
       "    <tr>\n",
       "      <th>2</th>\n",
       "      <td>79</td>\n",
       "      <td>3</td>\n",
       "      <td>2020-12-06</td>\n",
       "      <td>Vasiliy_Fedorov</td>\n",
       "    </tr>\n",
       "    <tr>\n",
       "      <th>3</th>\n",
       "      <td>29</td>\n",
       "      <td>5</td>\n",
       "      <td>2020-12-06</td>\n",
       "      <td>Vasiliy_Fedorov</td>\n",
       "    </tr>\n",
       "    <tr>\n",
       "      <th>4</th>\n",
       "      <td>73</td>\n",
       "      <td>5</td>\n",
       "      <td>2020-12-08</td>\n",
       "      <td>Alexey_Fedorov</td>\n",
       "    </tr>\n",
       "  </tbody>\n",
       "</table>\n",
       "</div>"
      ],
      "text/plain": [
       "   product_id  quantity       date             name\n",
       "0          56         4 2020-12-06  Vasiliy_Fedorov\n",
       "1          97         3 2020-12-06  Vasiliy_Fedorov\n",
       "2          79         3 2020-12-06  Vasiliy_Fedorov\n",
       "3          29         5 2020-12-06  Vasiliy_Fedorov\n",
       "4          73         5 2020-12-08   Alexey_Fedorov"
      ]
     },
     "execution_count": 49,
     "metadata": {},
     "output_type": "execute_result"
    }
   ],
   "source": [
    "df.head()"
   ]
  },
  {
   "cell_type": "markdown",
   "id": "da7b3e56",
   "metadata": {},
   "source": [
    "#### 5. переименуем столбцы для удобства понимания их значений"
   ]
  },
  {
   "cell_type": "code",
   "execution_count": 64,
   "id": "18e0bcce",
   "metadata": {},
   "outputs": [
    {
     "data": {
      "text/html": [
       "<div>\n",
       "<style scoped>\n",
       "    .dataframe tbody tr th:only-of-type {\n",
       "        vertical-align: middle;\n",
       "    }\n",
       "\n",
       "    .dataframe tbody tr th {\n",
       "        vertical-align: top;\n",
       "    }\n",
       "\n",
       "    .dataframe thead th {\n",
       "        text-align: right;\n",
       "    }\n",
       "</style>\n",
       "<table border=\"1\" class=\"dataframe\">\n",
       "  <thead>\n",
       "    <tr style=\"text-align: right;\">\n",
       "      <th></th>\n",
       "      <th>id_продукта</th>\n",
       "      <th>количество</th>\n",
       "      <th>дата</th>\n",
       "      <th>имя</th>\n",
       "    </tr>\n",
       "  </thead>\n",
       "  <tbody>\n",
       "    <tr>\n",
       "      <th>0</th>\n",
       "      <td>56</td>\n",
       "      <td>4</td>\n",
       "      <td>2020-12-06</td>\n",
       "      <td>Vasiliy_Fedorov</td>\n",
       "    </tr>\n",
       "    <tr>\n",
       "      <th>1</th>\n",
       "      <td>97</td>\n",
       "      <td>3</td>\n",
       "      <td>2020-12-06</td>\n",
       "      <td>Vasiliy_Fedorov</td>\n",
       "    </tr>\n",
       "    <tr>\n",
       "      <th>2</th>\n",
       "      <td>79</td>\n",
       "      <td>3</td>\n",
       "      <td>2020-12-06</td>\n",
       "      <td>Vasiliy_Fedorov</td>\n",
       "    </tr>\n",
       "    <tr>\n",
       "      <th>3</th>\n",
       "      <td>29</td>\n",
       "      <td>5</td>\n",
       "      <td>2020-12-06</td>\n",
       "      <td>Vasiliy_Fedorov</td>\n",
       "    </tr>\n",
       "    <tr>\n",
       "      <th>4</th>\n",
       "      <td>73</td>\n",
       "      <td>5</td>\n",
       "      <td>2020-12-08</td>\n",
       "      <td>Alexey_Fedorov</td>\n",
       "    </tr>\n",
       "    <tr>\n",
       "      <th>...</th>\n",
       "      <td>...</td>\n",
       "      <td>...</td>\n",
       "      <td>...</td>\n",
       "      <td>...</td>\n",
       "    </tr>\n",
       "    <tr>\n",
       "      <th>156</th>\n",
       "      <td>3</td>\n",
       "      <td>4</td>\n",
       "      <td>2020-12-04</td>\n",
       "      <td>Kirill_Fedorov</td>\n",
       "    </tr>\n",
       "    <tr>\n",
       "      <th>157</th>\n",
       "      <td>89</td>\n",
       "      <td>5</td>\n",
       "      <td>2020-12-04</td>\n",
       "      <td>Kirill_Fedorov</td>\n",
       "    </tr>\n",
       "    <tr>\n",
       "      <th>158</th>\n",
       "      <td>75</td>\n",
       "      <td>2</td>\n",
       "      <td>2020-12-04</td>\n",
       "      <td>Kirill_Fedorov</td>\n",
       "    </tr>\n",
       "    <tr>\n",
       "      <th>159</th>\n",
       "      <td>41</td>\n",
       "      <td>5</td>\n",
       "      <td>2020-12-04</td>\n",
       "      <td>Kirill_Fedorov</td>\n",
       "    </tr>\n",
       "    <tr>\n",
       "      <th>160</th>\n",
       "      <td>32</td>\n",
       "      <td>4</td>\n",
       "      <td>2020-12-04</td>\n",
       "      <td>Kirill_Fedorov</td>\n",
       "    </tr>\n",
       "  </tbody>\n",
       "</table>\n",
       "<p>161 rows × 4 columns</p>\n",
       "</div>"
      ],
      "text/plain": [
       "     id_продукта  количество       дата              имя\n",
       "0             56           4 2020-12-06  Vasiliy_Fedorov\n",
       "1             97           3 2020-12-06  Vasiliy_Fedorov\n",
       "2             79           3 2020-12-06  Vasiliy_Fedorov\n",
       "3             29           5 2020-12-06  Vasiliy_Fedorov\n",
       "4             73           5 2020-12-08   Alexey_Fedorov\n",
       "..           ...         ...        ...              ...\n",
       "156            3           4 2020-12-04   Kirill_Fedorov\n",
       "157           89           5 2020-12-04   Kirill_Fedorov\n",
       "158           75           2 2020-12-04   Kirill_Fedorov\n",
       "159           41           5 2020-12-04   Kirill_Fedorov\n",
       "160           32           4 2020-12-04   Kirill_Fedorov\n",
       "\n",
       "[161 rows x 4 columns]"
      ]
     },
     "execution_count": 64,
     "metadata": {},
     "output_type": "execute_result"
    }
   ],
   "source": [
    "df.rename(columns = {'product_id':'id_продукта',\n",
    "                    'quantity':'количество',\n",
    "                    'date':'дата',\n",
    "                    'name':'имя'})"
   ]
  },
  {
   "cell_type": "markdown",
   "id": "eca72ef0",
   "metadata": {},
   "source": [
    "#### 6. Получим общую информацию всех переменных в дф"
   ]
  },
  {
   "cell_type": "code",
   "execution_count": 65,
   "id": "3c420d61",
   "metadata": {},
   "outputs": [
    {
     "data": {
      "text/html": [
       "<div>\n",
       "<style scoped>\n",
       "    .dataframe tbody tr th:only-of-type {\n",
       "        vertical-align: middle;\n",
       "    }\n",
       "\n",
       "    .dataframe tbody tr th {\n",
       "        vertical-align: top;\n",
       "    }\n",
       "\n",
       "    .dataframe thead th {\n",
       "        text-align: right;\n",
       "    }\n",
       "</style>\n",
       "<table border=\"1\" class=\"dataframe\">\n",
       "  <thead>\n",
       "    <tr style=\"text-align: right;\">\n",
       "      <th></th>\n",
       "      <th>product_id</th>\n",
       "      <th>quantity</th>\n",
       "    </tr>\n",
       "  </thead>\n",
       "  <tbody>\n",
       "    <tr>\n",
       "      <th>count</th>\n",
       "      <td>161.000000</td>\n",
       "      <td>161.000000</td>\n",
       "    </tr>\n",
       "    <tr>\n",
       "      <th>mean</th>\n",
       "      <td>47.832298</td>\n",
       "      <td>2.981366</td>\n",
       "    </tr>\n",
       "    <tr>\n",
       "      <th>std</th>\n",
       "      <td>29.124997</td>\n",
       "      <td>1.407445</td>\n",
       "    </tr>\n",
       "    <tr>\n",
       "      <th>min</th>\n",
       "      <td>0.000000</td>\n",
       "      <td>1.000000</td>\n",
       "    </tr>\n",
       "    <tr>\n",
       "      <th>25%</th>\n",
       "      <td>23.000000</td>\n",
       "      <td>2.000000</td>\n",
       "    </tr>\n",
       "    <tr>\n",
       "      <th>50%</th>\n",
       "      <td>44.000000</td>\n",
       "      <td>3.000000</td>\n",
       "    </tr>\n",
       "    <tr>\n",
       "      <th>75%</th>\n",
       "      <td>74.000000</td>\n",
       "      <td>4.000000</td>\n",
       "    </tr>\n",
       "    <tr>\n",
       "      <th>max</th>\n",
       "      <td>99.000000</td>\n",
       "      <td>5.000000</td>\n",
       "    </tr>\n",
       "  </tbody>\n",
       "</table>\n",
       "</div>"
      ],
      "text/plain": [
       "       product_id    quantity\n",
       "count  161.000000  161.000000\n",
       "mean    47.832298    2.981366\n",
       "std     29.124997    1.407445\n",
       "min      0.000000    1.000000\n",
       "25%     23.000000    2.000000\n",
       "50%     44.000000    3.000000\n",
       "75%     74.000000    4.000000\n",
       "max     99.000000    5.000000"
      ]
     },
     "execution_count": 65,
     "metadata": {},
     "output_type": "execute_result"
    }
   ],
   "source": [
    "df.describe()"
   ]
  },
  {
   "cell_type": "code",
   "execution_count": null,
   "id": "a383c8a9",
   "metadata": {},
   "outputs": [],
   "source": []
  }
 ],
 "metadata": {
  "kernelspec": {
   "display_name": "Python 3 (ipykernel)",
   "language": "python",
   "name": "python3"
  },
  "language_info": {
   "codemirror_mode": {
    "name": "ipython",
    "version": 3
   },
   "file_extension": ".py",
   "mimetype": "text/x-python",
   "name": "python",
   "nbconvert_exporter": "python",
   "pygments_lexer": "ipython3",
   "version": "3.10.5"
  }
 },
 "nbformat": 4,
 "nbformat_minor": 5
}
