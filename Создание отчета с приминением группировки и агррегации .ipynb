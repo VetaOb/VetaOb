{
 "cells": [
  {
   "cell_type": "markdown",
   "id": "400b136e",
   "metadata": {},
   "source": [
    "### Задача создать отчет о сумме заработанных денег по продуктам из документа \n",
    "\n",
    "    ниже будет:\n",
    "    -проверка пустых значений\n",
    "    -смена типа данных колонок\n",
    "    -редактирование названий колонок\n",
    "    -группировка и аггрегация суммы по продуктам\n",
    "    -проверка полученных значений с исходными и экспорт"
   ]
  },
  {
   "cell_type": "markdown",
   "id": "f203692e",
   "metadata": {},
   "source": [
    "#### Описание данных:\n",
    "\n",
    "   **Номер** - уникальный номер транзакции \n",
    "   \n",
    "   **Дата создания** - дата и время создания заказа  \n",
    "   \n",
    "   **Дата оплаты** -  дата и время оплаты\n",
    "   \n",
    "   **Title** - Название продукта(курса)\n",
    "   \n",
    "   **Статус** - статус заказа \n",
    "   \n",
    "   **Заработано** - количество денег поступивших с заказа\n",
    "   \n",
    "   **Город** - город оплаты\n",
    "   \n",
    "   **Платежная система** - система через которую была произведена оплата\n",
    "    \n",
    "   "
   ]
  },
  {
   "cell_type": "code",
   "execution_count": 50,
   "id": "30e99a7b",
   "metadata": {},
   "outputs": [],
   "source": [
    "import pandas as pd\n",
    "from datetime import datetime\n",
    "\n",
    "import warnings\n",
    "warnings.filterwarnings('ignore')"
   ]
  },
  {
   "cell_type": "code",
   "execution_count": 51,
   "id": "2f437018",
   "metadata": {},
   "outputs": [],
   "source": [
    "df = pd.read_csv('/Users/v.obrosova/Documents/СТАТИСТИКА/csv/lesson_1_data.csv', encoding='windows-1251',sep= ';')"
   ]
  },
  {
   "cell_type": "markdown",
   "id": "fc2a9097",
   "metadata": {},
   "source": [
    "#### Взглянем на данные, присутствуют пустые значения NaN, \n",
    "проверим чтобы пустые значения даты оплаты соответствовали только тем заказам где статус не \"Завершен\", иначем наши расчеты о сумме дохода оплаченных продуктов будут неверны\n"
   ]
  },
  {
   "cell_type": "code",
   "execution_count": 52,
   "id": "59b21afc",
   "metadata": {},
   "outputs": [
    {
     "data": {
      "text/html": [
       "<div>\n",
       "<style scoped>\n",
       "    .dataframe tbody tr th:only-of-type {\n",
       "        vertical-align: middle;\n",
       "    }\n",
       "\n",
       "    .dataframe tbody tr th {\n",
       "        vertical-align: top;\n",
       "    }\n",
       "\n",
       "    .dataframe thead th {\n",
       "        text-align: right;\n",
       "    }\n",
       "</style>\n",
       "<table border=\"1\" class=\"dataframe\">\n",
       "  <thead>\n",
       "    <tr style=\"text-align: right;\">\n",
       "      <th></th>\n",
       "      <th>Номер</th>\n",
       "      <th>Дата создания</th>\n",
       "      <th>Дата оплаты</th>\n",
       "      <th>Title</th>\n",
       "      <th>Статус</th>\n",
       "      <th>Заработано</th>\n",
       "      <th>Город</th>\n",
       "      <th>Платежная система</th>\n",
       "    </tr>\n",
       "  </thead>\n",
       "  <tbody>\n",
       "    <tr>\n",
       "      <th>0</th>\n",
       "      <td>1062823</td>\n",
       "      <td>01.12.2019 10:50</td>\n",
       "      <td>01.12.2019 10:52</td>\n",
       "      <td>Курс обучения «Эксперт»</td>\n",
       "      <td>Завершен</td>\n",
       "      <td>29597.5</td>\n",
       "      <td>Чита</td>\n",
       "      <td>Сбербанк эквайринг</td>\n",
       "    </tr>\n",
       "    <tr>\n",
       "      <th>1</th>\n",
       "      <td>1062855</td>\n",
       "      <td>01.12.2019 20:53</td>\n",
       "      <td>01.12.2019 21:27</td>\n",
       "      <td>Курс обучения «Эксперт»</td>\n",
       "      <td>Завершен</td>\n",
       "      <td>17450.3</td>\n",
       "      <td>Краснодар</td>\n",
       "      <td>Яндекс.Касса</td>\n",
       "    </tr>\n",
       "    <tr>\n",
       "      <th>2</th>\n",
       "      <td>1062856</td>\n",
       "      <td>01.12.2019 21:43</td>\n",
       "      <td>NaN</td>\n",
       "      <td>Курс обучения «Специалист»</td>\n",
       "      <td>Отменен</td>\n",
       "      <td>0.0</td>\n",
       "      <td>NaN</td>\n",
       "      <td>NaN</td>\n",
       "    </tr>\n",
       "    <tr>\n",
       "      <th>3</th>\n",
       "      <td>1062880</td>\n",
       "      <td>03.12.2019 0:18</td>\n",
       "      <td>NaN</td>\n",
       "      <td>Курс обучения «Консультант»</td>\n",
       "      <td>Отменен</td>\n",
       "      <td>0.0</td>\n",
       "      <td>г.Москва и Московская область</td>\n",
       "      <td>NaN</td>\n",
       "    </tr>\n",
       "    <tr>\n",
       "      <th>4</th>\n",
       "      <td>1062899</td>\n",
       "      <td>03.12.2019 21:43</td>\n",
       "      <td>NaN</td>\n",
       "      <td>Курс обучения «Эксперт»</td>\n",
       "      <td>Отменен</td>\n",
       "      <td>0.0</td>\n",
       "      <td>г.Москва и Московская область</td>\n",
       "      <td>NaN</td>\n",
       "    </tr>\n",
       "  </tbody>\n",
       "</table>\n",
       "</div>"
      ],
      "text/plain": [
       "     Номер     Дата создания       Дата оплаты                        Title  \\\n",
       "0  1062823  01.12.2019 10:50  01.12.2019 10:52      Курс обучения «Эксперт»   \n",
       "1  1062855  01.12.2019 20:53  01.12.2019 21:27      Курс обучения «Эксперт»   \n",
       "2  1062856  01.12.2019 21:43               NaN   Курс обучения «Специалист»   \n",
       "3  1062880   03.12.2019 0:18               NaN  Курс обучения «Консультант»   \n",
       "4  1062899  03.12.2019 21:43               NaN      Курс обучения «Эксперт»   \n",
       "\n",
       "     Статус  Заработано                          Город   Платежная система  \n",
       "0  Завершен     29597.5                           Чита  Сбербанк эквайринг  \n",
       "1  Завершен     17450.3                      Краснодар        Яндекс.Касса  \n",
       "2   Отменен         0.0                            NaN                 NaN  \n",
       "3   Отменен         0.0  г.Москва и Московская область                 NaN  \n",
       "4   Отменен         0.0  г.Москва и Московская область                 NaN  "
      ]
     },
     "execution_count": 52,
     "metadata": {},
     "output_type": "execute_result"
    }
   ],
   "source": [
    "df.head()"
   ]
  },
  {
   "cell_type": "code",
   "execution_count": 53,
   "id": "16c2a7c6",
   "metadata": {},
   "outputs": [
    {
     "data": {
      "text/plain": [
       "Номер                  0\n",
       "Дата создания          0\n",
       "Дата оплаты          112\n",
       "Title                  0\n",
       "Статус                 0\n",
       "Заработано             0\n",
       "Город                 13\n",
       "Платежная система    110\n",
       "dtype: int64"
      ]
     },
     "execution_count": 53,
     "metadata": {},
     "output_type": "execute_result"
    }
   ],
   "source": [
    "df.isna().sum()"
   ]
  },
  {
   "cell_type": "code",
   "execution_count": 54,
   "id": "0300e989",
   "metadata": {},
   "outputs": [
    {
     "data": {
      "text/plain": [
       "0"
      ]
     },
     "execution_count": 54,
     "metadata": {},
     "output_type": "execute_result"
    }
   ],
   "source": [
    "df.duplicated().sum()"
   ]
  },
  {
   "cell_type": "code",
   "execution_count": 55,
   "id": "6f179e4c",
   "metadata": {},
   "outputs": [
    {
     "data": {
      "text/plain": [
       "Завершен            180\n",
       "Отменен             108\n",
       "Частично оплачен      2\n",
       "Ожидаем оплаты        1\n",
       "В работе              1\n",
       "Name: Статус, dtype: int64"
      ]
     },
     "execution_count": 55,
     "metadata": {},
     "output_type": "execute_result"
    }
   ],
   "source": [
    "df.Статус.value_counts()"
   ]
  },
  {
   "cell_type": "code",
   "execution_count": 61,
   "id": "9fcb6d02",
   "metadata": {},
   "outputs": [
    {
     "data": {
      "text/plain": [
       "Номер                0\n",
       "Дата_создания        0\n",
       "Дата_оплаты          0\n",
       "Title                0\n",
       "Статус               0\n",
       "Заработано           0\n",
       "Город                4\n",
       "Платежная_система    0\n",
       "dtype: int64"
      ]
     },
     "execution_count": 61,
     "metadata": {},
     "output_type": "execute_result"
    }
   ],
   "source": [
    "df.query('Статус == \"Завершен\"').isna().sum()"
   ]
  },
  {
   "cell_type": "markdown",
   "id": "f5ec7705",
   "metadata": {},
   "source": [
    "#### из 112 пропущенных значений в колонке даты оплаты, все приходяться на все статусы кроме \"Завершен\""
   ]
  },
  {
   "cell_type": "code",
   "execution_count": 57,
   "id": "69c69c89",
   "metadata": {},
   "outputs": [
    {
     "data": {
      "text/plain": [
       "(292, 8)"
      ]
     },
     "execution_count": 57,
     "metadata": {},
     "output_type": "execute_result"
    }
   ],
   "source": [
    "df.shape"
   ]
  },
  {
   "cell_type": "code",
   "execution_count": 58,
   "id": "a5eed5cf",
   "metadata": {},
   "outputs": [
    {
     "data": {
      "text/plain": [
       "Номер                  int64\n",
       "Дата создания         object\n",
       "Дата оплаты           object\n",
       "Title                 object\n",
       "Статус                object\n",
       "Заработано           float64\n",
       "Город                 object\n",
       "Платежная система     object\n",
       "dtype: object"
      ]
     },
     "execution_count": 58,
     "metadata": {},
     "output_type": "execute_result"
    }
   ],
   "source": [
    "df.dtypes"
   ]
  },
  {
   "cell_type": "markdown",
   "id": "9cc0e9ac",
   "metadata": {},
   "source": [
    "#### колонки с датами переведем в формат даты , но перед этим редактируем названия колонок для удобства работы"
   ]
  },
  {
   "cell_type": "code",
   "execution_count": 59,
   "id": "5746274a",
   "metadata": {},
   "outputs": [
    {
     "data": {
      "text/html": [
       "<div>\n",
       "<style scoped>\n",
       "    .dataframe tbody tr th:only-of-type {\n",
       "        vertical-align: middle;\n",
       "    }\n",
       "\n",
       "    .dataframe tbody tr th {\n",
       "        vertical-align: top;\n",
       "    }\n",
       "\n",
       "    .dataframe thead th {\n",
       "        text-align: right;\n",
       "    }\n",
       "</style>\n",
       "<table border=\"1\" class=\"dataframe\">\n",
       "  <thead>\n",
       "    <tr style=\"text-align: right;\">\n",
       "      <th></th>\n",
       "      <th>Номер</th>\n",
       "      <th>Дата_создания</th>\n",
       "      <th>Дата_оплаты</th>\n",
       "      <th>Title</th>\n",
       "      <th>Статус</th>\n",
       "      <th>Заработано</th>\n",
       "      <th>Город</th>\n",
       "      <th>Платежная_система</th>\n",
       "    </tr>\n",
       "  </thead>\n",
       "  <tbody>\n",
       "    <tr>\n",
       "      <th>0</th>\n",
       "      <td>1062823</td>\n",
       "      <td>01.12.2019 10:50</td>\n",
       "      <td>01.12.2019 10:52</td>\n",
       "      <td>Курс обучения «Эксперт»</td>\n",
       "      <td>Завершен</td>\n",
       "      <td>29597.5</td>\n",
       "      <td>Чита</td>\n",
       "      <td>Сбербанк эквайринг</td>\n",
       "    </tr>\n",
       "    <tr>\n",
       "      <th>1</th>\n",
       "      <td>1062855</td>\n",
       "      <td>01.12.2019 20:53</td>\n",
       "      <td>01.12.2019 21:27</td>\n",
       "      <td>Курс обучения «Эксперт»</td>\n",
       "      <td>Завершен</td>\n",
       "      <td>17450.3</td>\n",
       "      <td>Краснодар</td>\n",
       "      <td>Яндекс.Касса</td>\n",
       "    </tr>\n",
       "    <tr>\n",
       "      <th>2</th>\n",
       "      <td>1062856</td>\n",
       "      <td>01.12.2019 21:43</td>\n",
       "      <td>NaN</td>\n",
       "      <td>Курс обучения «Специалист»</td>\n",
       "      <td>Отменен</td>\n",
       "      <td>0.0</td>\n",
       "      <td>NaN</td>\n",
       "      <td>NaN</td>\n",
       "    </tr>\n",
       "    <tr>\n",
       "      <th>3</th>\n",
       "      <td>1062880</td>\n",
       "      <td>03.12.2019 0:18</td>\n",
       "      <td>NaN</td>\n",
       "      <td>Курс обучения «Консультант»</td>\n",
       "      <td>Отменен</td>\n",
       "      <td>0.0</td>\n",
       "      <td>г.Москва и Московская область</td>\n",
       "      <td>NaN</td>\n",
       "    </tr>\n",
       "    <tr>\n",
       "      <th>4</th>\n",
       "      <td>1062899</td>\n",
       "      <td>03.12.2019 21:43</td>\n",
       "      <td>NaN</td>\n",
       "      <td>Курс обучения «Эксперт»</td>\n",
       "      <td>Отменен</td>\n",
       "      <td>0.0</td>\n",
       "      <td>г.Москва и Московская область</td>\n",
       "      <td>NaN</td>\n",
       "    </tr>\n",
       "  </tbody>\n",
       "</table>\n",
       "</div>"
      ],
      "text/plain": [
       "     Номер     Дата_создания       Дата_оплаты                        Title  \\\n",
       "0  1062823  01.12.2019 10:50  01.12.2019 10:52      Курс обучения «Эксперт»   \n",
       "1  1062855  01.12.2019 20:53  01.12.2019 21:27      Курс обучения «Эксперт»   \n",
       "2  1062856  01.12.2019 21:43               NaN   Курс обучения «Специалист»   \n",
       "3  1062880   03.12.2019 0:18               NaN  Курс обучения «Консультант»   \n",
       "4  1062899  03.12.2019 21:43               NaN      Курс обучения «Эксперт»   \n",
       "\n",
       "     Статус  Заработано                          Город   Платежная_система  \n",
       "0  Завершен     29597.5                           Чита  Сбербанк эквайринг  \n",
       "1  Завершен     17450.3                      Краснодар        Яндекс.Касса  \n",
       "2   Отменен         0.0                            NaN                 NaN  \n",
       "3   Отменен         0.0  г.Москва и Московская область                 NaN  \n",
       "4   Отменен         0.0  г.Москва и Московская область                 NaN  "
      ]
     },
     "execution_count": 59,
     "metadata": {},
     "output_type": "execute_result"
    }
   ],
   "source": [
    "df.columns = df.columns.str.replace(' ','_')\n",
    "df.head()"
   ]
  },
  {
   "cell_type": "code",
   "execution_count": 60,
   "id": "a110e410",
   "metadata": {},
   "outputs": [],
   "source": [
    "df['Дата_создания'] = df['Дата_создания'].astype('datetime64')\n",
    "df['Дата_оплаты'] = df['Дата_оплаты'].astype('datetime64')"
   ]
  },
  {
   "cell_type": "code",
   "execution_count": 62,
   "id": "275f4411",
   "metadata": {},
   "outputs": [
    {
     "data": {
      "text/plain": [
       "Номер                         int64\n",
       "Дата_создания        datetime64[ns]\n",
       "Дата_оплаты          datetime64[ns]\n",
       "Title                        object\n",
       "Статус                       object\n",
       "Заработано                  float64\n",
       "Город                        object\n",
       "Платежная_система            object\n",
       "dtype: object"
      ]
     },
     "execution_count": 62,
     "metadata": {},
     "output_type": "execute_result"
    }
   ],
   "source": [
    "df.dtypes"
   ]
  },
  {
   "cell_type": "code",
   "execution_count": 63,
   "id": "bacddf42",
   "metadata": {},
   "outputs": [
    {
     "data": {
      "text/html": [
       "<div>\n",
       "<style scoped>\n",
       "    .dataframe tbody tr th:only-of-type {\n",
       "        vertical-align: middle;\n",
       "    }\n",
       "\n",
       "    .dataframe tbody tr th {\n",
       "        vertical-align: top;\n",
       "    }\n",
       "\n",
       "    .dataframe thead th {\n",
       "        text-align: right;\n",
       "    }\n",
       "</style>\n",
       "<table border=\"1\" class=\"dataframe\">\n",
       "  <thead>\n",
       "    <tr style=\"text-align: right;\">\n",
       "      <th></th>\n",
       "      <th>nomber</th>\n",
       "      <th>date create</th>\n",
       "      <th>date pay</th>\n",
       "      <th>Title</th>\n",
       "      <th>status</th>\n",
       "      <th>earned</th>\n",
       "      <th>city</th>\n",
       "      <th>payment_system</th>\n",
       "    </tr>\n",
       "  </thead>\n",
       "  <tbody>\n",
       "    <tr>\n",
       "      <th>0</th>\n",
       "      <td>1062823</td>\n",
       "      <td>2019-01-12 10:50:00</td>\n",
       "      <td>2019-01-12 10:52:00</td>\n",
       "      <td>Курс обучения «Эксперт»</td>\n",
       "      <td>Завершен</td>\n",
       "      <td>29597.5</td>\n",
       "      <td>Чита</td>\n",
       "      <td>Сбербанк эквайринг</td>\n",
       "    </tr>\n",
       "    <tr>\n",
       "      <th>1</th>\n",
       "      <td>1062855</td>\n",
       "      <td>2019-01-12 20:53:00</td>\n",
       "      <td>2019-01-12 21:27:00</td>\n",
       "      <td>Курс обучения «Эксперт»</td>\n",
       "      <td>Завершен</td>\n",
       "      <td>17450.3</td>\n",
       "      <td>Краснодар</td>\n",
       "      <td>Яндекс.Касса</td>\n",
       "    </tr>\n",
       "    <tr>\n",
       "      <th>2</th>\n",
       "      <td>1062856</td>\n",
       "      <td>2019-01-12 21:43:00</td>\n",
       "      <td>NaT</td>\n",
       "      <td>Курс обучения «Специалист»</td>\n",
       "      <td>Отменен</td>\n",
       "      <td>0.0</td>\n",
       "      <td>NaN</td>\n",
       "      <td>NaN</td>\n",
       "    </tr>\n",
       "    <tr>\n",
       "      <th>3</th>\n",
       "      <td>1062880</td>\n",
       "      <td>2019-03-12 00:18:00</td>\n",
       "      <td>NaT</td>\n",
       "      <td>Курс обучения «Консультант»</td>\n",
       "      <td>Отменен</td>\n",
       "      <td>0.0</td>\n",
       "      <td>г.Москва и Московская область</td>\n",
       "      <td>NaN</td>\n",
       "    </tr>\n",
       "    <tr>\n",
       "      <th>4</th>\n",
       "      <td>1062899</td>\n",
       "      <td>2019-03-12 21:43:00</td>\n",
       "      <td>NaT</td>\n",
       "      <td>Курс обучения «Эксперт»</td>\n",
       "      <td>Отменен</td>\n",
       "      <td>0.0</td>\n",
       "      <td>г.Москва и Московская область</td>\n",
       "      <td>NaN</td>\n",
       "    </tr>\n",
       "  </tbody>\n",
       "</table>\n",
       "</div>"
      ],
      "text/plain": [
       "    nomber         date create            date pay  \\\n",
       "0  1062823 2019-01-12 10:50:00 2019-01-12 10:52:00   \n",
       "1  1062855 2019-01-12 20:53:00 2019-01-12 21:27:00   \n",
       "2  1062856 2019-01-12 21:43:00                 NaT   \n",
       "3  1062880 2019-03-12 00:18:00                 NaT   \n",
       "4  1062899 2019-03-12 21:43:00                 NaT   \n",
       "\n",
       "                         Title    status   earned  \\\n",
       "0      Курс обучения «Эксперт»  Завершен  29597.5   \n",
       "1      Курс обучения «Эксперт»  Завершен  17450.3   \n",
       "2   Курс обучения «Специалист»   Отменен      0.0   \n",
       "3  Курс обучения «Консультант»   Отменен      0.0   \n",
       "4      Курс обучения «Эксперт»   Отменен      0.0   \n",
       "\n",
       "                            city      payment_system  \n",
       "0                           Чита  Сбербанк эквайринг  \n",
       "1                      Краснодар        Яндекс.Касса  \n",
       "2                            NaN                 NaN  \n",
       "3  г.Москва и Московская область                 NaN  \n",
       "4  г.Москва и Московская область                 NaN  "
      ]
     },
     "execution_count": 63,
     "metadata": {},
     "output_type": "execute_result"
    }
   ],
   "source": [
    "df = df.rename(columns = {'Номер':'nomber',\\\n",
    "                          'Дата_создания':'date create',\\\n",
    "                          'Дата_оплаты':'date pay',\\\n",
    "                          'Статус':'status',\\\n",
    "                          'Заработано':'earned',\\\n",
    "                          'Город':'city',\\\n",
    "                          'Платежная_система':'payment_system'})\n",
    "df.head()"
   ]
  },
  {
   "cell_type": "markdown",
   "id": "9958c0dd",
   "metadata": {},
   "source": [
    "#### Теперь просуммируем все заработнные деньги по каждому продукту"
   ]
  },
  {
   "cell_type": "code",
   "execution_count": 64,
   "id": "bc65f319",
   "metadata": {},
   "outputs": [
    {
     "data": {
      "text/plain": [
       "992103.5900000001"
      ]
     },
     "execution_count": 64,
     "metadata": {},
     "output_type": "execute_result"
    }
   ],
   "source": [
    "all_money = df.earned.sum() \n",
    "all_money"
   ]
  },
  {
   "cell_type": "code",
   "execution_count": 65,
   "id": "4b383a3f",
   "metadata": {},
   "outputs": [
    {
     "data": {
      "text/html": [
       "<div>\n",
       "<style scoped>\n",
       "    .dataframe tbody tr th:only-of-type {\n",
       "        vertical-align: middle;\n",
       "    }\n",
       "\n",
       "    .dataframe tbody tr th {\n",
       "        vertical-align: top;\n",
       "    }\n",
       "\n",
       "    .dataframe thead th {\n",
       "        text-align: right;\n",
       "    }\n",
       "</style>\n",
       "<table border=\"1\" class=\"dataframe\">\n",
       "  <thead>\n",
       "    <tr style=\"text-align: right;\">\n",
       "      <th></th>\n",
       "      <th>Title</th>\n",
       "      <th>earned</th>\n",
       "      <th>quantity</th>\n",
       "    </tr>\n",
       "  </thead>\n",
       "  <tbody>\n",
       "    <tr>\n",
       "      <th>5</th>\n",
       "      <td>Подписка «ОНЛАЙН ДИЕТОЛОГ» с ежемесячным автос...</td>\n",
       "      <td>366947.20</td>\n",
       "      <td>125</td>\n",
       "    </tr>\n",
       "    <tr>\n",
       "      <th>0</th>\n",
       "      <td>Курс обучения «Консультант»</td>\n",
       "      <td>208163.49</td>\n",
       "      <td>31</td>\n",
       "    </tr>\n",
       "    <tr>\n",
       "      <th>1</th>\n",
       "      <td>Курс обучения «Специалист»</td>\n",
       "      <td>160862.64</td>\n",
       "      <td>7</td>\n",
       "    </tr>\n",
       "    <tr>\n",
       "      <th>2</th>\n",
       "      <td>Курс обучения «Эксперт»</td>\n",
       "      <td>148992.80</td>\n",
       "      <td>5</td>\n",
       "    </tr>\n",
       "    <tr>\n",
       "      <th>4</th>\n",
       "      <td>Курс от Школы Диетологов. Повышение квалификац...</td>\n",
       "      <td>88384.92</td>\n",
       "      <td>9</td>\n",
       "    </tr>\n",
       "    <tr>\n",
       "      <th>3</th>\n",
       "      <td>Курс от Школы Диетологов. Бизнес</td>\n",
       "      <td>18752.54</td>\n",
       "      <td>3</td>\n",
       "    </tr>\n",
       "  </tbody>\n",
       "</table>\n",
       "</div>"
      ],
      "text/plain": [
       "                                               Title     earned  quantity\n",
       "5  Подписка «ОНЛАЙН ДИЕТОЛОГ» с ежемесячным автос...  366947.20       125\n",
       "0                        Курс обучения «Консультант»  208163.49        31\n",
       "1                         Курс обучения «Специалист»  160862.64         7\n",
       "2                            Курс обучения «Эксперт»  148992.80         5\n",
       "4  Курс от Школы Диетологов. Повышение квалификац...   88384.92         9\n",
       "3                   Курс от Школы Диетологов. Бизнес   18752.54         3"
      ]
     },
     "execution_count": 65,
     "metadata": {},
     "output_type": "execute_result"
    }
   ],
   "source": [
    "money_tittle = df.query(\"status == 'Завершен'\")\\\n",
    "                 .groupby('Title', as_index = False)\\\n",
    "                 .aggregate({'earned':'sum','nomber':'count'})\\\n",
    "                 .rename(columns={'nomber':'quantity'})\\\n",
    "                 .sort_values('earned', ascending = False)\n",
    "money_tittle"
   ]
  },
  {
   "cell_type": "markdown",
   "id": "a91060ed",
   "metadata": {},
   "source": [
    "####  Сверим получившееся данные c исходными и сохраним файл:\n",
    "\n",
    "    1.Сравним число продуктов\n",
    "    2.Сравним сумму денег"
   ]
  },
  {
   "cell_type": "code",
   "execution_count": 66,
   "id": "4017f21a",
   "metadata": {},
   "outputs": [
    {
     "data": {
      "text/plain": [
       "6"
      ]
     },
     "execution_count": 66,
     "metadata": {},
     "output_type": "execute_result"
    }
   ],
   "source": [
    "df.Title.nunique()"
   ]
  },
  {
   "cell_type": "code",
   "execution_count": 67,
   "id": "52617304",
   "metadata": {},
   "outputs": [
    {
     "data": {
      "text/plain": [
       "6"
      ]
     },
     "execution_count": 67,
     "metadata": {},
     "output_type": "execute_result"
    }
   ],
   "source": [
    "money_tittle.Title.nunique()"
   ]
  },
  {
   "cell_type": "code",
   "execution_count": 95,
   "id": "55777472",
   "metadata": {},
   "outputs": [],
   "source": [
    "today_day = datetime.today().strftime('%Y - %m - %d')\n",
    "file_name = 'money_tittle_{}.csv'\n",
    "file_name = file_name.format(today_day)"
   ]
  },
  {
   "cell_type": "code",
   "execution_count": 97,
   "id": "d64de06f",
   "metadata": {},
   "outputs": [
    {
     "name": "stdout",
     "output_type": "stream",
     "text": [
      "Ok File money_tittle_2022 - 11 - 30.csv is written\n"
     ]
    }
   ],
   "source": [
    "if int(money_tittle.earned.sum()) == int(df.earned.sum()):\n",
    "    print('Ok File {} is written'.format(file_name))\n",
    "    money_tittle.to_csv(file_name, index = False)\n",
    "else:\n",
    "    print('Error!')"
   ]
  }
 ],
 "metadata": {
  "kernelspec": {
   "display_name": "Python 3 (ipykernel)",
   "language": "python",
   "name": "python3"
  },
  "language_info": {
   "codemirror_mode": {
    "name": "ipython",
    "version": 3
   },
   "file_extension": ".py",
   "mimetype": "text/x-python",
   "name": "python",
   "nbconvert_exporter": "python",
   "pygments_lexer": "ipython3",
   "version": "3.10.5"
  }
 },
 "nbformat": 4,
 "nbformat_minor": 5
}
